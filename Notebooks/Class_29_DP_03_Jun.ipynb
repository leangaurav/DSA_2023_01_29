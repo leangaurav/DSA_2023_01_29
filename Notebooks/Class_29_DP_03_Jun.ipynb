{
 "cells": [
  {
   "cell_type": "code",
   "execution_count": null,
   "id": "65384abf",
   "metadata": {},
   "outputs": [],
   "source": []
  },
  {
   "cell_type": "code",
   "execution_count": null,
   "id": "4bf1d56f",
   "metadata": {},
   "outputs": [],
   "source": []
  },
  {
   "cell_type": "code",
   "execution_count": 1,
   "id": "d6385e3d",
   "metadata": {},
   "outputs": [
    {
     "name": "stdout",
     "output_type": "stream",
     "text": [
      "10\n",
      "9\n",
      "8\n",
      "7\n",
      "6\n",
      "5\n",
      "4\n",
      "3\n",
      "2\n",
      "1\n",
      "0\n"
     ]
    }
   ],
   "source": [
    "def recur(n):\n",
    "    if n < 0: # base condition\n",
    "        return\n",
    "    \n",
    "    print(n)\n",
    "    recur(n-1)\n",
    "    \n",
    "recur(10)"
   ]
  },
  {
   "cell_type": "code",
   "execution_count": 3,
   "id": "89dfea32",
   "metadata": {},
   "outputs": [
    {
     "name": "stdout",
     "output_type": "stream",
     "text": [
      "0\n",
      "1\n",
      "2\n",
      "3\n",
      "4\n",
      "5\n",
      "6\n",
      "7\n",
      "8\n",
      "9\n",
      "10\n"
     ]
    }
   ],
   "source": [
    "def recur(n, i=0):\n",
    "    if i > n: # base condition\n",
    "        return\n",
    "    \n",
    "    print(i)\n",
    "    recur(n, i+1)\n",
    "    \n",
    "recur(10)"
   ]
  },
  {
   "cell_type": "code",
   "execution_count": 6,
   "id": "83a8e9b7",
   "metadata": {},
   "outputs": [
    {
     "name": "stdout",
     "output_type": "stream",
     "text": [
      "0\n",
      "1\n",
      "2\n",
      "3\n",
      "4\n",
      "5\n",
      "6\n",
      "7\n",
      "8\n",
      "9\n",
      "10\n"
     ]
    }
   ],
   "source": [
    "def _iter(n):\n",
    "    i = 0\n",
    "    while i <= n:\n",
    "        print(i)\n",
    "        i+=1\n",
    "    \n",
    "_iter(10)"
   ]
  },
  {
   "cell_type": "code",
   "execution_count": null,
   "id": "a1432eda",
   "metadata": {},
   "outputs": [],
   "source": []
  },
  {
   "cell_type": "code",
   "execution_count": null,
   "id": "671e852d",
   "metadata": {},
   "outputs": [],
   "source": [
    "### Fibonacci series\n",
    "0 1 1 2 3 5  8 ....\n",
    "1 2 3 4 5 6  7 .... nth\n"
   ]
  },
  {
   "cell_type": "code",
   "execution_count": 9,
   "id": "6a535440",
   "metadata": {},
   "outputs": [
    {
     "name": "stdout",
     "output_type": "stream",
     "text": [
      "2\n",
      "3\n",
      "5\n",
      "8\n"
     ]
    },
    {
     "ename": "KeyboardInterrupt",
     "evalue": "",
     "output_type": "error",
     "traceback": [
      "\u001b[1;31m---------------------------------------------------------------------------\u001b[0m",
      "\u001b[1;31mKeyboardInterrupt\u001b[0m                         Traceback (most recent call last)",
      "Cell \u001b[1;32mIn[9], line 13\u001b[0m\n\u001b[0;32m     11\u001b[0m \u001b[38;5;28mprint\u001b[39m(fib(\u001b[38;5;241m6\u001b[39m))\n\u001b[0;32m     12\u001b[0m \u001b[38;5;28mprint\u001b[39m(fib(\u001b[38;5;241m7\u001b[39m))\n\u001b[1;32m---> 13\u001b[0m \u001b[38;5;28mprint\u001b[39m(\u001b[43mfib\u001b[49m\u001b[43m(\u001b[49m\u001b[38;5;241;43m50\u001b[39;49m\u001b[43m)\u001b[49m)\n",
      "Cell \u001b[1;32mIn[9], line 7\u001b[0m, in \u001b[0;36mfib\u001b[1;34m(n)\u001b[0m\n\u001b[0;32m      4\u001b[0m \u001b[38;5;28;01mif\u001b[39;00m n \u001b[38;5;241m==\u001b[39m \u001b[38;5;241m2\u001b[39m:\n\u001b[0;32m      5\u001b[0m     \u001b[38;5;28;01mreturn\u001b[39;00m \u001b[38;5;241m1\u001b[39m\n\u001b[1;32m----> 7\u001b[0m \u001b[38;5;28;01mreturn\u001b[39;00m \u001b[43mfib\u001b[49m\u001b[43m(\u001b[49m\u001b[43mn\u001b[49m\u001b[38;5;241;43m-\u001b[39;49m\u001b[38;5;241;43m1\u001b[39;49m\u001b[43m)\u001b[49m \u001b[38;5;241m+\u001b[39m fib(n\u001b[38;5;241m-\u001b[39m\u001b[38;5;241m2\u001b[39m)\n",
      "Cell \u001b[1;32mIn[9], line 7\u001b[0m, in \u001b[0;36mfib\u001b[1;34m(n)\u001b[0m\n\u001b[0;32m      4\u001b[0m \u001b[38;5;28;01mif\u001b[39;00m n \u001b[38;5;241m==\u001b[39m \u001b[38;5;241m2\u001b[39m:\n\u001b[0;32m      5\u001b[0m     \u001b[38;5;28;01mreturn\u001b[39;00m \u001b[38;5;241m1\u001b[39m\n\u001b[1;32m----> 7\u001b[0m \u001b[38;5;28;01mreturn\u001b[39;00m \u001b[43mfib\u001b[49m\u001b[43m(\u001b[49m\u001b[43mn\u001b[49m\u001b[38;5;241;43m-\u001b[39;49m\u001b[38;5;241;43m1\u001b[39;49m\u001b[43m)\u001b[49m \u001b[38;5;241m+\u001b[39m fib(n\u001b[38;5;241m-\u001b[39m\u001b[38;5;241m2\u001b[39m)\n",
      "    \u001b[1;31m[... skipping similar frames: fib at line 7 (30 times)]\u001b[0m\n",
      "Cell \u001b[1;32mIn[9], line 7\u001b[0m, in \u001b[0;36mfib\u001b[1;34m(n)\u001b[0m\n\u001b[0;32m      4\u001b[0m \u001b[38;5;28;01mif\u001b[39;00m n \u001b[38;5;241m==\u001b[39m \u001b[38;5;241m2\u001b[39m:\n\u001b[0;32m      5\u001b[0m     \u001b[38;5;28;01mreturn\u001b[39;00m \u001b[38;5;241m1\u001b[39m\n\u001b[1;32m----> 7\u001b[0m \u001b[38;5;28;01mreturn\u001b[39;00m \u001b[43mfib\u001b[49m\u001b[43m(\u001b[49m\u001b[43mn\u001b[49m\u001b[38;5;241;43m-\u001b[39;49m\u001b[38;5;241;43m1\u001b[39;49m\u001b[43m)\u001b[49m \u001b[38;5;241m+\u001b[39m fib(n\u001b[38;5;241m-\u001b[39m\u001b[38;5;241m2\u001b[39m)\n",
      "Cell \u001b[1;32mIn[9], line 2\u001b[0m, in \u001b[0;36mfib\u001b[1;34m(n)\u001b[0m\n\u001b[0;32m      1\u001b[0m \u001b[38;5;28;01mdef\u001b[39;00m \u001b[38;5;21mfib\u001b[39m(n):\n\u001b[1;32m----> 2\u001b[0m     \u001b[38;5;28;01mif\u001b[39;00m \u001b[43mn\u001b[49m\u001b[43m \u001b[49m\u001b[38;5;241;43m==\u001b[39;49m\u001b[43m \u001b[49m\u001b[38;5;241;43m1\u001b[39;49m:\n\u001b[0;32m      3\u001b[0m         \u001b[38;5;28;01mreturn\u001b[39;00m \u001b[38;5;241m0\u001b[39m\n\u001b[0;32m      4\u001b[0m     \u001b[38;5;28;01mif\u001b[39;00m n \u001b[38;5;241m==\u001b[39m \u001b[38;5;241m2\u001b[39m:\n",
      "\u001b[1;31mKeyboardInterrupt\u001b[0m: "
     ]
    }
   ],
   "source": [
    "def fib(n):\n",
    "    if n == 1:\n",
    "        return 0\n",
    "    if n == 2:\n",
    "        return 1\n",
    "    \n",
    "    return fib(n-1) + fib(n-2)\n",
    "\n",
    "print(fib(4))\n",
    "print(fib(5))\n",
    "print(fib(6))\n",
    "print(fib(7))\n",
    "print(fib(50))"
   ]
  },
  {
   "cell_type": "code",
   "execution_count": 10,
   "id": "9fec5640",
   "metadata": {},
   "outputs": [
    {
     "name": "stdout",
     "output_type": "stream",
     "text": [
      "2\n",
      "3\n",
      "5\n",
      "8\n",
      "7778742049\n"
     ]
    }
   ],
   "source": [
    "# top to bottom\n",
    "cache = {} # unorderd_map<int, int> \n",
    "\n",
    "def fib(n):\n",
    "    if n == 1:\n",
    "        return 0\n",
    "    if n == 2:\n",
    "        return 1\n",
    "    \n",
    "    if n in cache:\n",
    "        return cache[n]\n",
    "    \n",
    "    r = fib(n-1) + fib(n-2)\n",
    "    cache[n] = r\n",
    "    return r\n",
    "\n",
    "print(fib(4))\n",
    "print(fib(5))\n",
    "print(fib(6))\n",
    "print(fib(7))\n",
    "print(fib(50)) # linear"
   ]
  },
  {
   "cell_type": "code",
   "execution_count": 14,
   "id": "afcc6cd5",
   "metadata": {},
   "outputs": [
    {
     "name": "stdout",
     "output_type": "stream",
     "text": [
      "2\n",
      "3\n",
      "5\n",
      "8\n",
      "7778742049\n"
     ]
    },
    {
     "ename": "Exception",
     "evalue": "n should be >= 1",
     "output_type": "error",
     "traceback": [
      "\u001b[1;31m---------------------------------------------------------------------------\u001b[0m",
      "\u001b[1;31mException\u001b[0m                                 Traceback (most recent call last)",
      "Cell \u001b[1;32mIn[14], line 19\u001b[0m\n\u001b[0;32m     17\u001b[0m \u001b[38;5;28mprint\u001b[39m(fib(\u001b[38;5;241m7\u001b[39m))\n\u001b[0;32m     18\u001b[0m \u001b[38;5;28mprint\u001b[39m(fib(\u001b[38;5;241m50\u001b[39m)) \u001b[38;5;66;03m# linear\u001b[39;00m\n\u001b[1;32m---> 19\u001b[0m \u001b[38;5;28mprint\u001b[39m(\u001b[43mfib\u001b[49m\u001b[43m(\u001b[49m\u001b[38;5;241;43m0\u001b[39;49m\u001b[43m)\u001b[49m)\n",
      "Cell \u001b[1;32mIn[14], line 5\u001b[0m, in \u001b[0;36mfib\u001b[1;34m(n)\u001b[0m\n\u001b[0;32m      3\u001b[0m \u001b[38;5;28;01mdef\u001b[39;00m \u001b[38;5;21mfib\u001b[39m(n):\n\u001b[0;32m      4\u001b[0m     \u001b[38;5;28;01mif\u001b[39;00m n \u001b[38;5;241m<\u001b[39m\u001b[38;5;241m=\u001b[39m \u001b[38;5;241m0\u001b[39m:\n\u001b[1;32m----> 5\u001b[0m         \u001b[38;5;28;01mraise\u001b[39;00m \u001b[38;5;167;01mException\u001b[39;00m(\u001b[38;5;124m\"\u001b[39m\u001b[38;5;124mn should be >= 1\u001b[39m\u001b[38;5;124m\"\u001b[39m)\n\u001b[0;32m      7\u001b[0m     \u001b[38;5;28;01mif\u001b[39;00m n \u001b[38;5;129;01min\u001b[39;00m cache:\n\u001b[0;32m      8\u001b[0m         \u001b[38;5;28;01mreturn\u001b[39;00m cache[n]\n",
      "\u001b[1;31mException\u001b[0m: n should be >= 1"
     ]
    }
   ],
   "source": [
    "# memoization\n",
    "cache = {1:0, 2:1} # unorderd_map<int, int> \n",
    "N\n",
    "\n",
    "cachhe = [n .... -1]\n",
    "def fib(n):\n",
    "    if n <= 0:\n",
    "        raise Exception(\"n should be >= 1\")\n",
    "    \n",
    "    if n in cache:\n",
    "        return cache[n]\n",
    "    \n",
    "    r = fib(n-1) + fib(n-2) # recurrance relation\n",
    "    cache[n] = r\n",
    "    return r\n",
    "\n",
    "print(fib(4))\n",
    "print(fib(5))\n",
    "print(fib(6))\n",
    "print(fib(7))\n",
    "print(fib(50)) # linear\n",
    "print(fib(0))\n",
    "\n",
    "# TC: O(n)\n",
    "# SC: O(n)"
   ]
  },
  {
   "cell_type": "code",
   "execution_count": null,
   "id": "04d383cf",
   "metadata": {},
   "outputs": [],
   "source": []
  },
  {
   "cell_type": "code",
   "execution_count": 19,
   "id": "3990708c",
   "metadata": {},
   "outputs": [
    {
     "name": "stdout",
     "output_type": "stream",
     "text": [
      "0\n",
      "1\n",
      "1\n",
      "2\n",
      "3\n",
      "5\n"
     ]
    }
   ],
   "source": [
    "# bottom to top\n",
    "# tabulation\n",
    "results = [0,1]\n",
    "def fib(n):\n",
    "    while len(results) < n:\n",
    "        curr = results[-1] + results[-2] # results[len(results) - 1] + results[len(results) - 2]\n",
    "        results.append(curr)\n",
    "    \n",
    "    return results[n-1]\n",
    "\n",
    "print(fib(1))\n",
    "print(fib(2))\n",
    "print(fib(3))\n",
    "print(fib(4))\n",
    "print(fib(5))\n",
    "print(fib(6))\n",
    "\n",
    "# TC: O(N)\n",
    "# SC: O(N)"
   ]
  },
  {
   "cell_type": "code",
   "execution_count": 20,
   "id": "eb9f5fe0",
   "metadata": {},
   "outputs": [
    {
     "name": "stdout",
     "output_type": "stream",
     "text": [
      "0\n",
      "1\n",
      "1\n",
      "2\n",
      "3\n",
      "5\n"
     ]
    }
   ],
   "source": [
    "def fib(n):\n",
    "    a = 0\n",
    "    b = 0\n",
    "    c = 1\n",
    "    while n > 0:\n",
    "        a = b\n",
    "        b = c\n",
    "        c = a + b\n",
    "        n -= 1\n",
    "        \n",
    "    return a\n",
    "\n",
    "print(fib(1))\n",
    "print(fib(2))\n",
    "print(fib(3))\n",
    "print(fib(4))\n",
    "print(fib(5))\n",
    "print(fib(6))\n",
    "\n",
    "# TC: O(n)\n",
    "# SC: O(1)"
   ]
  },
  {
   "cell_type": "code",
   "execution_count": null,
   "id": "3871094f",
   "metadata": {},
   "outputs": [],
   "source": []
  },
  {
   "cell_type": "markdown",
   "id": "0a33d230",
   "metadata": {},
   "source": [
    "**Question: 1D**  \n",
    "https://leetcode.com/problems/climbing-stairs/"
   ]
  },
  {
   "cell_type": "markdown",
   "id": "caaa2dc0",
   "metadata": {},
   "source": [
    "\n",
    "\n",
    "prerna\n",
    "\n",
    "```C++\n",
    "class Solution {\n",
    "public:\n",
    "    unordered_map<int,int> mp;\n",
    "    int climbStairs(int n) {\n",
    "        if(n==0) return 0;\n",
    "        if(n==1) return 1;\n",
    "        if(n==2) return 2;\n",
    "        if(mp.count(n)>0) return mp[n];\n",
    "        int r = climbStairs(n-1)+climbStairs(n-2);\n",
    "        mp[n] = r;\n",
    "        return r;\n",
    "    }\n",
    "};\n",
    "```\n",
    "\n",
    "\n",
    "Rajat Kumar\n",
    "```Java\n",
    "public int rec(int n ,Integer dp[]){\n",
    "        if(n==0) return 1;\n",
    "        if(n<0) return 0;\n",
    "        if(dp[n] != null) return dp[n];\n",
    "        return dp[n] = rec(n-1,dp) + rec(n-2,dp);\n",
    "    }\n",
    "```\n",
    "\n",
    "valeti \n",
    "```C++\n",
    "class Solution {\n",
    "public:\n",
    "    std::map<int,int> cacheMap;\n",
    "\n",
    "    int climbUtil(int n) {\n",
    "\n",
    "        if (cacheMap.find(n) != cacheMap.end()) {\n",
    "            return cacheMap.at(n);\n",
    "        }\n",
    "        int val = climbUtil(n-1) + climbUtil(n-2);\n",
    "        cacheMap[n] = val;\n",
    "        return val;\n",
    "    }\n",
    "    \n",
    "    int climbStairs(int n) {\n",
    "        cacheMap[0] = 0;\n",
    "        cacheMap[1] = 1;\n",
    "        cacheMap[2] = 2;\n",
    "\n",
    "        return climbUtil(n);\n",
    "    }\n",
    "};\n",
    "\n",
    "TC: O(N)\n",
    "SC: O(N)\n",
    "```"
   ]
  },
  {
   "cell_type": "markdown",
   "id": "73d91915",
   "metadata": {},
   "source": []
  },
  {
   "cell_type": "markdown",
   "id": "975c8b0d",
   "metadata": {},
   "source": [
    "```Python\n",
    "def climbStairs(n):\n",
    "    if n <= 0:\n",
    "        return 0\n",
    "    elif n == 1:\n",
    "        return 1\n",
    "    elif n == 2:\n",
    "        return 2\n",
    "\n",
    "    prev_1 = 1\n",
    "    prev_2 = 2\n",
    "\n",
    "    for _ in range(3, n + 1):\n",
    "        curr = prev_1 + prev_2\n",
    "        prev_1, prev_2 = prev_2, curr\n",
    "\n",
    "    return prev_2\n",
    "```\n",
    "\n",
    "```Java\n",
    "class Solution {\n",
    "    public int climbStairs(int n) {\n",
    "        int f1,f2,f3=0,i;\n",
    "        if(n==1)\n",
    "            return 1;\n",
    "        else if(n==2)\n",
    "            return 2;\n",
    "        else\n",
    "        {\n",
    "            f1=1;\n",
    "            f2=2;\n",
    "            for(i=2;i<n;i++)\n",
    "            {   \n",
    "                f3=f2+f1;\n",
    "                f1=f2;\n",
    "                f2=f3;\n",
    "            }\n",
    "            \n",
    "        }\n",
    "        return f3;\n",
    "    }\n",
    "}\n",
    "\n",
    "TC: O(N)\n",
    "SC: O(1)\n",
    "```\n",
    "\n",
    "```C++\n",
    "class Solution {\n",
    "public:\n",
    "    int climbStairs(int n) {\n",
    "       // 1-> 1\n",
    "       // 2-> 2\n",
    "       // n -> n-1 + n-2\n",
    "\n",
    "       int a = 1;\n",
    "       int b = 2;\n",
    "       int curr = 0;\n",
    "       while (n > 0) {\n",
    "           curr = a;\n",
    "           a = b;\n",
    "           b = curr + a;\n",
    "           n -= 1;\n",
    "       }\n",
    "\n",
    "       return curr;\n",
    "    }\n",
    "\n",
    "    // 1->1\n",
    "    // 2->\n",
    "};\n",
    "```\n",
    "\n",
    "```\n",
    "Class Solution {\n",
    "public:\n",
    "    int climbStairs(int n) {\n",
    "        if(n==0) return 0;\n",
    "        if(n==1) return 1;\n",
    "        if(n==2) return 2;\n",
    "        int p1= 1;\n",
    "        int p2= 2;\n",
    "        for(int i=3;i<n+1;i++)\n",
    "        {\n",
    "            int curr = p1 + p2;\n",
    "            p1=p2;\n",
    "            p2 = curr;\n",
    "        }\n",
    "        return p2;\n",
    "    }\n",
    "};\n",
    "```\n",
    "\n",
    "```javascript\n",
    "var climbStairs = function(n) {\n",
    "    let f1 = 0\n",
    "    let f2 = 1\n",
    "    let count = 0\n",
    "\n",
    "    while(n > 0){\n",
    "        count = f1 + f2;\n",
    "        f1 = f2;\n",
    "        f2 = count;\n",
    "        n -= 1;\n",
    "    }\n",
    "    \n",
    "    return count;\n",
    "};\n",
    "```"
   ]
  },
  {
   "cell_type": "code",
   "execution_count": null,
   "id": "cfffbebe",
   "metadata": {},
   "outputs": [],
   "source": []
  },
  {
   "cell_type": "code",
   "execution_count": null,
   "id": "b8742ea7",
   "metadata": {},
   "outputs": [],
   "source": []
  },
  {
   "cell_type": "code",
   "execution_count": null,
   "id": "55e2e940",
   "metadata": {},
   "outputs": [],
   "source": []
  },
  {
   "cell_type": "markdown",
   "id": "ca6d04b1",
   "metadata": {},
   "source": [
    "**Question**   \n",
    "https://leetcode.com/problems/unique-paths/"
   ]
  },
  {
   "cell_type": "markdown",
   "id": "3399ba5f",
   "metadata": {},
   "source": [
    "**Iterative Optimized**  \n",
    "```Python\n",
    "class Solution:\n",
    "    def uniquePaths(self, m: int, n: int) -> int:\n",
    "        if m == 1 and n == 1:\n",
    "            return 1\n",
    "\n",
    "        pathList = [1 for i in range(n)] \n",
    "\n",
    "        for i in range(1, m):\n",
    "            for j in range(n):\n",
    "                if j > 0:\n",
    "                    pathList[j] = pathList[j] + pathList[j - 1]\n",
    "\n",
    "        return pathList[-1]\n",
    "\n",
    "TC: O(m*n)\n",
    "SC: O(n)\n",
    "```"
   ]
  },
  {
   "cell_type": "markdown",
   "id": "82896186",
   "metadata": {},
   "source": [
    "```C++\n",
    "class Solution {\n",
    "public:\n",
    "    int uniquePaths(int m, int n) {\n",
    "        vector<vector<int>> nestedVec(m, vector<int>(n,1));\n",
    "        for (int i=1; i<m; i++) {\n",
    "            for (int j=1; j<n; j++) {\n",
    "                nestedVec[i][j] = nestedVec[i][j-1] + nestedVec[i-1][j]; \n",
    "            }\n",
    "        }\n",
    "        return nestedVec[m-1][n-1];\n",
    "    }\n",
    "};\n",
    "TC: O(m*n)\n",
    "SC: O(m*n)\n",
    "```"
   ]
  },
  {
   "cell_type": "markdown",
   "id": "e66cf4a2",
   "metadata": {},
   "source": [
    "```Java\n",
    "public int uniquePaths(int m, int n) {\n",
    "        \n",
    "        int row[] = new int[n];\n",
    "        Arrays.fill(row, 1);\n",
    "\n",
    "        for(int i = 1; i < m; i++){\n",
    "            for(int j = 1; j < n; j++){\n",
    "                row[j] = row[j-1] + row[j];\n",
    "            }            \n",
    "        }\n",
    "        return row[n - 1];\n",
    "    }\n",
    "```"
   ]
  },
  {
   "cell_type": "code",
   "execution_count": null,
   "id": "bf558ec9",
   "metadata": {},
   "outputs": [],
   "source": []
  },
  {
   "cell_type": "markdown",
   "id": "6956e94f",
   "metadata": {},
   "source": [
    "# Top Down: Using matrix cache\n",
    "```C++\n",
    "class Solution {\n",
    "public:\n",
    "    int uniquePaths(int m, int n) {\n",
    "        vector<vector<int>> nestedVec(m, vector<int>(n,-1));\n",
    "        for (int i = 0; i < m; i++) {\n",
    "            nestedVec[i][0] = 1;\n",
    "        }\n",
    "        for (int i = 0; i < n; i++) {\n",
    "            nestedVec[0][i] = 1;\n",
    "        }\n",
    "        \n",
    "        return uniquePathsUtil(m,n, cache);\n",
    "    }\n",
    "    \n",
    "    int uniquePathsUtil(int m, int n, vector<vector<int>> & cache) {\n",
    "        if(cache[m-1][n-1] != -1) return cache[m-1][n-1];\n",
    "        \n",
    "        int res  = uniquePathsUtil(m-1, n, cache) + uniquePathsUtil(m, n-1, cache);\n",
    "        cache[m-1][n-1] = res;\n",
    "        return res;\n",
    "    }\n",
    "};\n",
    "```"
   ]
  },
  {
   "cell_type": "markdown",
   "id": "40404d2e",
   "metadata": {},
   "source": [
    "# Top Down: Using hashmap cache. Assuming first cell is 1,1 instead of 0,0\n",
    "```C++\n",
    "typedef unordered_map<pair<int, int>, int> cacheType;\n",
    "class Solution {\n",
    "public:\n",
    "    int uniquePaths(int m, int n) {\n",
    "        cacheType cache;\n",
    "        \n",
    "        cache[make_pair<int,int>(1,1)] = 1;\n",
    "        \n",
    "        \n",
    "        return uniquePathsUtil(m,n, cache);\n",
    "    }\n",
    "    \n",
    "    int uniquePathsUtil(int m, int n, cacheType& cache) {\n",
    "        if (m <= 0 || n <= 0) return 0;\n",
    "        \n",
    "        if (cache.count(make_pair<int,int>(m,n)) != 0)\n",
    "            return cache(make_pair<int,int>(m,n));\n",
    "        \n",
    "        int res  = uniquePathsUtil(m-1, n, cache) + uniquePathsUtil(m, n-1, cache);\n",
    "        cache(make_pair<int,int>(m,n)) = res;\n",
    "        return res;\n",
    "    }\n",
    "};\n",
    "```"
   ]
  },
  {
   "cell_type": "code",
   "execution_count": null,
   "id": "f7d8e3fc",
   "metadata": {},
   "outputs": [],
   "source": [
    "[a, b ,c , d]\n",
    "\n",
    "(ab)\n",
    "(ba)\n"
   ]
  },
  {
   "cell_type": "code",
   "execution_count": 25,
   "id": "4bd71b66",
   "metadata": {},
   "outputs": [
    {
     "data": {
      "text/plain": [
       "15"
      ]
     },
     "execution_count": 25,
     "metadata": {},
     "output_type": "execute_result"
    }
   ],
   "source": [
    "\n",
    "def longest_char_seq(s):\n",
    "    max_count = 1\n",
    "    c = s[0]\n",
    "    count = 1\n",
    "    for i in range(1, len(s)):\n",
    "        if c == s[i]:\n",
    "            count += 1\n",
    "            max_count = max(max_count, count)\n",
    "        else:\n",
    "            c = s[i]\n",
    "            count = 1\n",
    "            \n",
    "    return max_count\n",
    "\n",
    "longest_char_seq('abaaaabaaaaaaaabbbbbbbbbbbbbbb')\n",
    "\n",
    "\n",
    "['abbbbbbbba', 'aaba', 'aaabba']"
   ]
  },
  {
   "cell_type": "markdown",
   "id": "9c9fbcd8",
   "metadata": {},
   "source": [
    "https://app.codility.com/programmers/task/concatenating_of_words/"
   ]
  }
 ],
 "metadata": {
  "kernelspec": {
   "display_name": "Python 3 (ipykernel)",
   "language": "python",
   "name": "python3"
  },
  "language_info": {
   "codemirror_mode": {
    "name": "ipython",
    "version": 3
   },
   "file_extension": ".py",
   "mimetype": "text/x-python",
   "name": "python",
   "nbconvert_exporter": "python",
   "pygments_lexer": "ipython3",
   "version": "3.10.9"
  }
 },
 "nbformat": 4,
 "nbformat_minor": 5
}
