{
 "cells": [
  {
   "cell_type": "markdown",
   "id": "b3655fbc",
   "metadata": {},
   "source": [
    "# Heap Data Structure\n",
    "- Treelike strucutre\n",
    "- Represented in an array"
   ]
  },
  {
   "cell_type": "code",
   "execution_count": null,
   "id": "0000e1ab",
   "metadata": {},
   "outputs": [],
   "source": []
  },
  {
   "cell_type": "code",
   "execution_count": null,
   "id": "c950d697",
   "metadata": {},
   "outputs": [],
   "source": []
  },
  {
   "cell_type": "markdown",
   "id": "758a4495",
   "metadata": {},
   "source": [
    "Heap is a Complete Binary tree  \n",
    "Filled  L->R\n",
    "\n",
    "\n",
    "```\n",
    "                A\n",
    "              /   \\\n",
    "             B      C\n",
    "            / \\    /\n",
    "           D   E   F\n",
    "Yes         \n",
    "\n",
    "\n",
    "                A\n",
    "              /   \\\n",
    "             B     C\n",
    "            /     /\n",
    "           D     F\n",
    "NO\n",
    "                A\n",
    "              /   \\\n",
    "             B      C\n",
    "            / \\    / \\\n",
    "           D   E   F  G\n",
    "Yes\n",
    "\n",
    "                A\n",
    "              /   \\\n",
    "             B      C\n",
    "                   / \\\n",
    "                   F  G\n",
    "\n",
    "No\n",
    "```"
   ]
  },
  {
   "cell_type": "code",
   "execution_count": null,
   "id": "df00b2b1",
   "metadata": {},
   "outputs": [],
   "source": []
  },
  {
   "cell_type": "markdown",
   "id": "b9c419b2",
   "metadata": {},
   "source": [
    "**Array representation of complete binary tree**  "
   ]
  },
  {
   "cell_type": "markdown",
   "id": "766b66d0",
   "metadata": {},
   "source": [
    "Child and parent\n",
    "\n",
    "```PYTHON\n",
    "                A\n",
    "              /   \\\n",
    "             B      C\n",
    "            / \\    / \\\n",
    "           D   E   F  G\n",
    "          / \\ / \\\n",
    "         H  I J  K\n",
    "\n",
    " Data         A B C D E F G H I J K\n",
    " Index        0 1 2 3 4 5 6 7 8 9 10\n",
    " ParentIndex    0 0 1 1 2 2 3 3 4 4\n",
    "\n",
    "leftChild  = parentIndex*2 + 1\n",
    "rightChild = parentIndex*2 + 2\n",
    "\n",
    "parentIndex = floor( (childIndex - 1) / 2 )\n",
    "\n",
    "floor(1.5) => 1\n",
    "floor(1.9) => 1\n",
    "floor(1.1) => 1\n",
    "floor(1)   => 1\n",
    "floor(0.9) => 0\n",
    "\n",
    "```"
   ]
  },
  {
   "cell_type": "code",
   "execution_count": null,
   "id": "3fa1ffec",
   "metadata": {},
   "outputs": [],
   "source": []
  },
  {
   "cell_type": "code",
   "execution_count": null,
   "id": "b9feb692",
   "metadata": {},
   "outputs": [],
   "source": []
  },
  {
   "cell_type": "markdown",
   "id": "07f13c7a",
   "metadata": {},
   "source": [
    "**Heap property**  \n",
    "    Binary tree in which the root node is always less than(min heap) or equal to the child nodes.\n",
    "    Above property is true for all sub trees of the complete binary tree.\n",
    "    \n",
    "```PYTHON\n",
    "\n",
    "          2\n",
    "        /   \\\n",
    "       4     3\n",
    "      / \\\n",
    "    10   8\n",
    "Is it a min heap: YES\n",
    "    \n",
    "    \n",
    "    \n",
    "          2\n",
    "\n",
    "Is it a min heap: YES\n",
    "\n",
    "    \n",
    "\n",
    "          2\n",
    "        /   \\\n",
    "       4     1\n",
    "      / \\\n",
    "    10   8\n",
    "Is it a min heap: NO\n",
    "         \n",
    "```"
   ]
  },
  {
   "cell_type": "markdown",
   "id": "f5554f59",
   "metadata": {},
   "source": [
    "**Building heap**  \n",
    "\n",
    "```\n",
    "          2\n",
    "        /   \\\n",
    "       4     1\n",
    "      / \\\n",
    "    10   8\n",
    "\n",
    "   Data   2 4 1 10 8\n",
    "   Index  0 1 2 3  4\n",
    "\n",
    "```\n",
    "Operations:\n",
    "- Heapify (siftUp/Down repeatedly)\n",
    "- GetMax/Min: O(1)\n",
    "- Del max/min: log N\n",
    "- Add new key: log N\n",
    "\n",
    "*If you need remove a random key by value, it's an O(N) operation since finding index of an element in a heap is O(n). This can be reduced by keeping additional mapping of value to indexes*  \n",
    "\n",
    "Internal Ops:\n",
    "- SiftUp\n",
    "- Sift Down\n",
    "\n",
    "**To add a new key**: Append and then do siftUp  \n",
    "**To delete max/min**: Swap with last element and then do siftDown  \n",
    "\n",
    "\n",
    "Sorted Array:\n",
    "- min, max: O(1)\n",
    "- search: log N\n",
    "- Udates, insert/delete an element keeping the sorted property ? O(N) \n",
    "\n",
    "HashMap\n",
    "- min, max: O(N)\n",
    "- search for key: O(1)\n",
    "- Update: O(1)\n",
    "\n",
    "Balanced BST: <Ordered Map>\n",
    "- min, max: log N\n",
    "- search: log N\n",
    "- Update: log N\n",
    "\n",
    "Heap:\n",
    "- min, max: O(1)\n",
    "- search: O(N), keep an additional map O(1)\n",
    "- Update for min and max: log N\n",
    "- Update any random key: O(N)   keep an additional map: O(log N)\n"
   ]
  },
  {
   "cell_type": "code",
   "execution_count": null,
   "id": "76029875",
   "metadata": {},
   "outputs": [],
   "source": []
  },
  {
   "cell_type": "code",
   "execution_count": null,
   "id": "4a64f633",
   "metadata": {},
   "outputs": [],
   "source": []
  },
  {
   "cell_type": "markdown",
   "id": "e99ff7f6",
   "metadata": {},
   "source": [
    "**When to use what**  \n",
    "Static Data\n",
    "- ordering: sorting\n",
    "- min/max: heap/sorting\n",
    "\n",
    "Dynamic Data\n",
    "- ordering: bst\n",
    "- min/max: heap/bst"
   ]
  },
  {
   "cell_type": "code",
   "execution_count": null,
   "id": "98dd662c",
   "metadata": {},
   "outputs": [],
   "source": []
  },
  {
   "cell_type": "markdown",
   "id": "92aa1634",
   "metadata": {},
   "source": [
    "Heap sort\n",
    "- buildMaxHeap(data)\n",
    "- repeat N times\n",
    "    - removeMax(): max element is at the beginning of array -> move it to the end\n"
   ]
  },
  {
   "cell_type": "markdown",
   "id": "67b992fa",
   "metadata": {},
   "source": [
    "Why heap sort is not good ?comparisons and swaps"
   ]
  },
  {
   "cell_type": "code",
   "execution_count": null,
   "id": "7d0bb89f",
   "metadata": {},
   "outputs": [],
   "source": []
  }
 ],
 "metadata": {
  "kernelspec": {
   "display_name": "Python 3",
   "language": "python",
   "name": "python3"
  },
  "language_info": {
   "codemirror_mode": {
    "name": "ipython",
    "version": 3
   },
   "file_extension": ".py",
   "mimetype": "text/x-python",
   "name": "python",
   "nbconvert_exporter": "python",
   "pygments_lexer": "ipython3",
   "version": "3.8.8"
  }
 },
 "nbformat": 4,
 "nbformat_minor": 5
}
