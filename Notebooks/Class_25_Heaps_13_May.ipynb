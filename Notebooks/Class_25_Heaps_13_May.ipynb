{
 "cells": [
  {
   "cell_type": "markdown",
   "id": "4fd18b46",
   "metadata": {},
   "source": [
    "# Priority Queue\n",
    "- ADT: Abstract data type\n",
    "- A queue where each object has an associated priority attached\n",
    "- Operation\n",
    "  - Insert: with a priority value\n",
    "  - Remove: max/min\n",
    "  - Get/Peek: max/min value\n",
    "\n",
    "Can be implemented using simple sorted  array, heap or using balanced BSTs\n",
    "\n",
    "\n",
    "**simple sorted  array**   \n",
    "- Insert O(N)\n",
    "- Remove O(1)\n",
    "- Peek: Min/max O(1)\n",
    "\n",
    "**HEAP**\n",
    "- Insert O(log N)\n",
    "- Remove O(log N)\n",
    "- Peek O(1)\n",
    "\n",
    "**Balanced BSTs**\n",
    "- Insert O(log N)\n",
    "- Remove O(log N)\n",
    "- Peek O(log N)\n",
    "\n",
    "\n",
    "Practically Heap is the prefered implementation over BST as Heap uses an array which gives better locality of reference (caching)\n",
    "Hence better practical performance even though complexity is same."
   ]
  },
  {
   "cell_type": "code",
   "execution_count": null,
   "id": "cd6753c7",
   "metadata": {},
   "outputs": [],
   "source": []
  },
  {
   "cell_type": "code",
   "execution_count": null,
   "id": "d48d315d",
   "metadata": {},
   "outputs": [],
   "source": []
  },
  {
   "cell_type": "markdown",
   "id": "6a6816a8",
   "metadata": {},
   "source": [
    "## Priority Queue in different languages"
   ]
  },
  {
   "cell_type": "code",
   "execution_count": null,
   "id": "82f9f6b0",
   "metadata": {},
   "outputs": [],
   "source": []
  },
  {
   "cell_type": "markdown",
   "id": "127ab6ee",
   "metadata": {},
   "source": [
    "### Python\n",
    "- min heap by default"
   ]
  },
  {
   "cell_type": "code",
   "execution_count": 10,
   "id": "db2aa065",
   "metadata": {},
   "outputs": [
    {
     "name": "stdout",
     "output_type": "stream",
     "text": [
      "[1, 4, 3, 10, 7]\n",
      "1\n",
      "[3, 4, 7, 10]\n",
      "[2, 3, 7, 10, 4]\n"
     ]
    }
   ],
   "source": [
    "import heapq\n",
    "h = [10,4,3,1,7]\n",
    "\n",
    "heapq.heapify(h) # O(N log N)\n",
    "print(h)\n",
    "\n",
    "print(h[0])\n",
    "\n",
    "heapq.heappop(h)\n",
    "print(h)\n",
    "\n",
    "heapq.heappush(h, 2)\n",
    "\n",
    "print(h)\n"
   ]
  },
  {
   "cell_type": "markdown",
   "id": "1ef61157",
   "metadata": {},
   "source": [
    "**Strings and heap**  \n"
   ]
  },
  {
   "cell_type": "code",
   "execution_count": 13,
   "id": "ac244ef6",
   "metadata": {},
   "outputs": [
    {
     "name": "stdout",
     "output_type": "stream",
     "text": [
      "['a', 'b', 'd', 'c']\n",
      "a\n",
      "['b', 'c', 'd']\n"
     ]
    }
   ],
   "source": [
    "\n",
    "h = [\"d\", \"c\", \"a\", \"b\"]\n",
    "heapq.heapify(h)\n",
    "print(h)\n",
    "\n",
    "print(heapq.heappop(h))\n",
    "print(h)"
   ]
  },
  {
   "cell_type": "code",
   "execution_count": null,
   "id": "d9d5cd02",
   "metadata": {},
   "outputs": [],
   "source": []
  },
  {
   "cell_type": "markdown",
   "id": "13c734bf",
   "metadata": {},
   "source": [
    "**Custom Objects and Heap**  "
   ]
  },
  {
   "cell_type": "code",
   "execution_count": 15,
   "id": "3bcda6dd",
   "metadata": {},
   "outputs": [
    {
     "name": "stdout",
     "output_type": "stream",
     "text": [
      "[(B, 10), (D, 11), (A, 19), (C, 15), (P, 13)]\n"
     ]
    }
   ],
   "source": [
    "# min heap example using age for priority\n",
    "class Person:\n",
    "    def __init__(self, name, age):\n",
    "        self.name = name\n",
    "        self.age =  age\n",
    "        \n",
    "    def __lt__(self, other): # less than\n",
    "        return self.age < other.age\n",
    "    \n",
    "    def __str__(self):\n",
    "        return f\"({self.name}, {self.age})\"\n",
    "    \n",
    "    def __repr__(self):\n",
    "        return self.__str__()\n",
    "\n",
    "h = [Person(\"B\", 10), Person(\"P\", 13), Person(\"A\", 19), Person(\"C\", 15), Person(\"D\", 11)]\n",
    "heapq.heapify(h)\n",
    "\n",
    "print(h)"
   ]
  },
  {
   "cell_type": "code",
   "execution_count": null,
   "id": "c7a7155e",
   "metadata": {},
   "outputs": [],
   "source": []
  },
  {
   "cell_type": "markdown",
   "id": "7a54025a",
   "metadata": {},
   "source": [
    "**Python heap as max heap**   "
   ]
  },
  {
   "cell_type": "code",
   "execution_count": 16,
   "id": "9b4321c5",
   "metadata": {},
   "outputs": [
    {
     "name": "stdout",
     "output_type": "stream",
     "text": [
      "[(A, 19), (C, 15), (B, 10), (P, 13), (D, 11)]\n"
     ]
    }
   ],
   "source": [
    "# max heap example using age for priority\n",
    "class Person:\n",
    "    def __init__(self, name, age):\n",
    "        self.name = name\n",
    "        self.age =  age\n",
    "        \n",
    "    def __lt__(self, other): # less than\n",
    "        return self.age > other.age\n",
    "    \n",
    "    def __str__(self):\n",
    "        return f\"({self.name}, {self.age})\"\n",
    "    \n",
    "    def __repr__(self):\n",
    "        return self.__str__()\n",
    "\n",
    "h = [Person(\"B\", 10), Person(\"P\", 13), Person(\"A\", 19), Person(\"C\", 15), Person(\"D\", 11)]\n",
    "heapq.heapify(h)\n",
    "\n",
    "print(h)"
   ]
  },
  {
   "cell_type": "code",
   "execution_count": 17,
   "id": "5878d487",
   "metadata": {},
   "outputs": [
    {
     "name": "stdout",
     "output_type": "stream",
     "text": [
      "[(A, 19), (C, 15), (B, 10), (P, 13), (D, 11)]\n"
     ]
    }
   ],
   "source": [
    "# min heap example using name for priority\n",
    "class Person:\n",
    "    def __init__(self, name, age):\n",
    "        self.name = name\n",
    "        self.age =  age\n",
    "        \n",
    "    def __lt__(self, other): # less than\n",
    "        return self.name < other.name\n",
    "    \n",
    "    def __str__(self):\n",
    "        return f\"({self.name}, {self.age})\"\n",
    "    \n",
    "    def __repr__(self):\n",
    "        return self.__str__()\n",
    "\n",
    "h = [Person(\"B\", 10), Person(\"P\", 13), Person(\"A\", 19), Person(\"C\", 15), Person(\"D\", 11)]\n",
    "heapq.heapify(h)\n",
    "\n",
    "print(h)"
   ]
  },
  {
   "cell_type": "code",
   "execution_count": null,
   "id": "b62cf944",
   "metadata": {},
   "outputs": [],
   "source": []
  },
  {
   "cell_type": "markdown",
   "id": "5625cbbf",
   "metadata": {},
   "source": [
    "# JAVA\n",
    "\n",
    "**default min heap**\n",
    "\n",
    "```Java\n",
    "    PriorityQueue<Integer> pq=new PriorityQueue<>();\n",
    "\n",
    "    for(int i=5; i>= 1;i--)\n",
    "    {\n",
    "      pq.add(i);\n",
    "    }\n",
    "\n",
    "    while(!pq.isEmpty())\n",
    "    {\n",
    "      System.out.println(pq.poll());\n",
    "    }\n",
    "``` \n",
    "\n",
    "\n",
    "**default min heap**\n",
    "```Java\n",
    "    int data[]={1,2,3,5,4};\n",
    "\n",
    "    PriorityQueue<Integer> pq=new PriorityQueue<>();\n",
    "\n",
    "    // copy data\n",
    "    for(int i=0;i< data.length;i++)\n",
    "    {\n",
    "      pq.add(data[i]);\n",
    "    }\n",
    "\n",
    "    while(!pq.isEmpty())\n",
    "    {\n",
    "      System.out.println(pq.poll());\n",
    "    }\n",
    "```    \n",
    "    \n",
    "**max heap using comparator**\n",
    " ```Java\n",
    "    int data[]={1,2,3,5,4};\n",
    "\n",
    "    PriorityQueue<Integer> pq=new PriorityQueue<Integer>((o1,o2)->  o2-o1);\n",
    "    for(int i=0;i< data.length;i++)\n",
    "    {\n",
    "      pq.add(data[i]);\n",
    "    }\n",
    "\n",
    "    while(!pq.isEmpty())\n",
    "    {\n",
    "      System.out.println(pq.poll());\n",
    "    }\n",
    "\n",
    "```\n"
   ]
  },
  {
   "cell_type": "code",
   "execution_count": null,
   "id": "078895ef",
   "metadata": {},
   "outputs": [],
   "source": []
  },
  {
   "cell_type": "markdown",
   "id": "5571bf4d",
   "metadata": {},
   "source": [
    "### C++"
   ]
  },
  {
   "cell_type": "markdown",
   "id": "c7cddf0f",
   "metadata": {},
   "source": [
    "```C++\n",
    "#include <iostream>\n",
    "#include <queue>\n",
    "using namespace std;\n",
    "  \n",
    "int main()\n",
    "{\n",
    "      int arr[]={1,2,3,4,5};\n",
    "    \n",
    "    priority_queue<int> pq(arr, arr+5);     \n",
    "    cout<<\"Max priority queue: \";\n",
    "    while(!pq.empty()){\n",
    "      cout<<pq.top()<<endl;\n",
    "      pq.pop();\n",
    "    }\n",
    "      \n",
    "    \n",
    "    priority_queue <int, vector<int>, greater<int> > pq1(arr,arr+5);\n",
    "    cout<<\"Min priority queue: \";\n",
    "    while(!pq1.empty()){\n",
    "    cout<<pq1.top()<<endl;\n",
    "    pq1.pop();\n",
    "    }\n",
    "      \n",
    "}\n",
    "```"
   ]
  },
  {
   "cell_type": "markdown",
   "id": "66b7bccb",
   "metadata": {},
   "source": [
    "# C#\n",
    "\n",
    "**min heap**\n",
    "```\n",
    "PriorityQueue<string, int> queue = new PriorityQueue<string, int>();\n",
    "queue.Enqueue(\"Item A\", 1);\n",
    "queue.Enqueue(\"Item B\", 2);\n",
    "queue.Enqueue(\"Item C\", 3);\n",
    "queue.Enqueue(\"Item D\", 5);\n",
    "queue.Enqueue(\"Item E\", 4);\n",
    "\n",
    "while (queue.TryDequeue(out string item, out int priority))\n",
    "{\n",
    "    Console.WriteLine($\"Popped Item : {item}. Priority Was : {priority}\");\n",
    "}\n",
    "\n",
    "```"
   ]
  },
  {
   "cell_type": "markdown",
   "id": "4cee41bb",
   "metadata": {},
   "source": [
    "# Javascript\n",
    "\n"
   ]
  },
  {
   "cell_type": "code",
   "execution_count": null,
   "id": "4385b7e1",
   "metadata": {},
   "outputs": [],
   "source": []
  },
  {
   "cell_type": "markdown",
   "id": "c3868363",
   "metadata": {},
   "source": [
    "- heapify -> convert a sequence/array to satisfy heap property: O(N)\n",
    "- heappop: assumes data is in heap format/heapified: O(log N)\n",
    "- heappush: assumes data is in heap format/heapified: O(log N)\n",
    "- peek: O(1)"
   ]
  },
  {
   "cell_type": "code",
   "execution_count": null,
   "id": "d765880a",
   "metadata": {},
   "outputs": [],
   "source": []
  },
  {
   "cell_type": "markdown",
   "id": "b6a7f132",
   "metadata": {},
   "source": [
    "**Question: Kth largest/smallest element**  \n",
    "https://leetcode.com/problems/kth-largest-element-in-an-array/"
   ]
  },
  {
   "cell_type": "markdown",
   "id": "0cd66d13",
   "metadata": {},
   "source": [
    "```\n",
    "Solution-1:\n",
    "        Sort \n",
    "        Get N-k index element\n",
    "        TC: O( n log n)\n",
    "        SC: O(1)\n",
    "        \n",
    "Solution-2:\n",
    "    All data in max heap\n",
    "    Heap pop k times \n",
    "    TC: O(N log N) + O(K log N)\n",
    "    SC: O(N)\n",
    "\n",
    "Solution-3:\n",
    "    Maintain a min heap of k elements: O(K log K)\n",
    "    Loop over the remaining elements: if heap.min() < curr : replace    O ( (N-K) log K )\n",
    "    Get heap.min() -> kth largest element    O(1)\n",
    "    TC: O(k log k) + O( (n-k) log K) + O(1) => O(n log k)\n",
    "    SC: O(k)\n",
    "        \n",
    "Solution-4: BST\n",
    "    Put all data in bst\n",
    "    Reverse Inorder traversal to get Kth element\n",
    "    TC: O(n log n)\n",
    "    SC: O(N)\n",
    "\n",
    "Solution-5:\n",
    "    Count: Count frequency of each number [3, 2, 1, 1, 4, 5, 3] ->  1:2 2:1 3:2 4:1 5:1 [1,1,2,3,3,4,5] -> O(N)\n",
    "    Bucket: 10,11,21,20,45,42,15   : [0-9]:[]  [10-19]:[10,11,15]  [20-29]:[20,21] [30-39]:[] [40-49]:[42,45]\n",
    "                                \n",
    "Solution-6:\n",
    "    Quick sort based solution\n",
    "    Avg: O(N)\n",
    "    Worst: O(N^2)\n",
    "```\n",
    "    "
   ]
  },
  {
   "cell_type": "markdown",
   "id": "f49034be",
   "metadata": {},
   "source": [
    "**Java: Heap solution**  \n",
    "```Java\n",
    "class Solution {\n",
    "    public int findKthLargest(int[] nums, int k) {\n",
    "        PriorityQueue<Integer> pq = new PriorityQueue<>();\n",
    "\n",
    "        for(int i = 0 ; i < nums.length; i++){\n",
    "            pq.add(nums[i]);\n",
    "            if(pq.size() > k) pq.remove();\n",
    "        }\n",
    "        return pq.peek();\n",
    "\n",
    "    }\n",
    "}\n",
    "```"
   ]
  },
  {
   "cell_type": "markdown",
   "id": "d74ab265",
   "metadata": {},
   "source": [
    "```C++\n",
    "class Solution {\n",
    "public:\n",
    "    int findKthLargest(vector<int>& nums, int k) {\n",
    "       priority_queue<int,vector<int>,greater<int>> q(nums.begin(),nums.begin()+k);\n",
    "        for(int i=k;i<nums.size();i++)\n",
    "        {\n",
    "            if(q.top()<nums[i])\n",
    "             {   \n",
    "                 q.pop();\n",
    "                 q.push(nums[i]);\n",
    "             }\n",
    "        }\n",
    "        return q.top();\n",
    "    }\n",
    "};\n",
    "```"
   ]
  },
  {
   "cell_type": "markdown",
   "id": "e216c37d",
   "metadata": {},
   "source": [
    "```Python\n",
    "def findKthLargest(self, nums: List[int], k: int) -> int:\n",
    "       return heapq.nlargest(k,nums)[-1]\n",
    "```"
   ]
  },
  {
   "cell_type": "code",
   "execution_count": null,
   "id": "f575cee8",
   "metadata": {},
   "outputs": [],
   "source": []
  },
  {
   "cell_type": "markdown",
   "id": "ccb82a9f",
   "metadata": {},
   "source": [
    "**Question: Merge k sorted lists**  \n",
    "https://leetcode.com/problems/merge-k-sorted-lists/\n",
    "\n",
    "K lists.  \n",
    "Each of size N.  "
   ]
  },
  {
   "cell_type": "markdown",
   "id": "103a8f8f",
   "metadata": {},
   "source": [
    "```Python\n",
    "k lists of length n\n",
    "\n",
    "Solution-0: \n",
    "    Join all linked list into 1 list\n",
    "    Sort the single linked list O(nk log nk)\n",
    "\n",
    "Solution-1: Merge lists sequentially till left with 1 list [k-1 merges]\n",
    "    O(2n) + O(3n) + ... O(kn)\n",
    "     O(n) (2 + 3 + 4... k)\n",
    "        O(n) k(k+1)/2 => O(n) ((k^2)/2 + k/2) => O(n) O(k^2) => O(n *k^2)\n",
    "        \n",
    "\n",
    "              l1 l2 l3 l4 l5 l6 l7 l8\n",
    "                 12  3 4 5 6 7 8\n",
    "                 123  4 5 6 7 8\n",
    "                    ....\n",
    "                     12345678\n",
    "\n",
    "Solution-2: Merge lists pairwise till left with 1 list [k-1 merges]\n",
    "        O(k*n) * log k => O(nk log k)\n",
    "        \n",
    "                1 2 3 4 5 6 7 8\n",
    "                 12  34  56 78 -> n*k\n",
    "                   1234   5678 -> n*k\n",
    "                     12345678\n",
    "\n",
    "Solution-3: Sorting\n",
    "\n",
    "Solution-4: Heap\n",
    "```"
   ]
  },
  {
   "cell_type": "code",
   "execution_count": null,
   "id": "e4193a38",
   "metadata": {},
   "outputs": [],
   "source": []
  },
  {
   "cell_type": "markdown",
   "id": "90f4d17d",
   "metadata": {},
   "source": [
    "**Sort nearly k sorted array**\n",
    "\n",
    "Given a k–sorted array that is almost sorted such that each of the n elements may be misplaced by no more than k positions from the correct sorted order. Find a space-and-time efficient algorithm to sort the array.\n",
    "\n",
    "For example,\n",
    "\n",
    "Input:\n",
    " \n",
    "arr = [1, 4, 5, 2, 3, 7, 8, 6, 10, 9]\n",
    "k = 2\n",
    " \n",
    "Output:[1, 2, 3, 4, 5, 6, 7, 8, 9, 10]\n"
   ]
  },
  {
   "cell_type": "code",
   "execution_count": null,
   "id": "fbed32f3",
   "metadata": {},
   "outputs": [],
   "source": []
  },
  {
   "cell_type": "code",
   "execution_count": null,
   "id": "eecfcc8c",
   "metadata": {},
   "outputs": [],
   "source": []
  },
  {
   "cell_type": "markdown",
   "id": "46ea6736",
   "metadata": {},
   "source": [
    "**Question Skyline**  \n",
    "https://leetcode.com/problems/the-skyline-problem/\n"
   ]
  },
  {
   "cell_type": "code",
   "execution_count": null,
   "id": "8912d40c",
   "metadata": {},
   "outputs": [],
   "source": [
    "- Note down the problems\n",
    "- SD, DSA, Framework"
   ]
  },
  {
   "cell_type": "code",
   "execution_count": null,
   "id": "76ce314b",
   "metadata": {},
   "outputs": [],
   "source": [
    "- salary\n",
    "- work\n",
    "- people, culture\n",
    "- work life"
   ]
  },
  {
   "cell_type": "code",
   "execution_count": null,
   "id": "fde4e7f4",
   "metadata": {},
   "outputs": [],
   "source": [
    "Upskill:\n",
    "- Get someone's experience in your CV\n",
    "- Make your own personal project\n",
    "\n",
    "- Tech ? \n",
    "  - Java\n",
    "  - Spring\n",
    "\n",
    "\n",
    "Specific                 vs   Generic\n",
    "(Lang, framework etc.)\n",
    "- Start a project\n",
    "- Deploy on server\n"
   ]
  },
  {
   "cell_type": "code",
   "execution_count": null,
   "id": "1827cc83",
   "metadata": {},
   "outputs": [],
   "source": []
  }
 ],
 "metadata": {
  "kernelspec": {
   "display_name": "Python 3",
   "language": "python",
   "name": "python3"
  },
  "language_info": {
   "codemirror_mode": {
    "name": "ipython",
    "version": 3
   },
   "file_extension": ".py",
   "mimetype": "text/x-python",
   "name": "python",
   "nbconvert_exporter": "python",
   "pygments_lexer": "ipython3",
   "version": "3.8.8"
  }
 },
 "nbformat": 4,
 "nbformat_minor": 5
}
