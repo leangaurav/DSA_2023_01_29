{
 "cells": [
  {
   "cell_type": "markdown",
   "id": "e44374f5",
   "metadata": {},
   "source": [
    "- Expectation\n",
    "- Production ready code \n",
    "    - naming convention\n",
    "    - boundary conditions\n",
    "        - if else\n",
    "    - OO Code\n",
    "        - exceptions\n",
    "    - language\n",
    "- Working code\n",
    "- TC, SC: optimization\n",
    "- Non-Algorithmic: working code -> test cases -> (TDD)\n",
    "  \n",
    "### Before Interview:\n",
    "- Online Test/Assessment\n",
    "- Assignments\n",
    "\n",
    "### Soft Skills\n",
    "- Clarifying things, are you asking questions ?\n",
    "- Think of things and make appropriate assumptions (Decision based on trade offs, )\n",
    "- Don't talk, talk but verbose.\n",
    "- Correct\n",
    "- Time ?\n",
    "- Do you listen: hint/don't do this/what if I do this ?"
   ]
  },
  {
   "cell_type": "code",
   "execution_count": null,
   "id": "e13b32c1",
   "metadata": {},
   "outputs": [],
   "source": []
  },
  {
   "cell_type": "markdown",
   "id": "75110100",
   "metadata": {},
   "source": [
    "**Knapsack problem**  \n",
    "- Given max weight W\n",
    "- array of weights and values\n",
    "- optimize for max value, staying within the limit of max weight\n",
    "\n",
    "Return max value that can be put in knapsack\n",
    "\n",
    "```python\n",
    "\n",
    "values  [10 20 60]\n",
    "weights [20 40 30]\n",
    "\n",
    "W = 60\n",
    "maxValue ?\n",
    "\n",
    "               20\n",
    "        / 60         \\ 40\n",
    "        40            40\n",
    "     / 60  \\ 20    / 40     \\ 0  \n",
    "\n",
    "\n",
    "def knapsack(w, values, weights):\n",
    "    pass\n",
    "```"
   ]
  },
  {
   "cell_type": "code",
   "execution_count": 4,
   "id": "76072193",
   "metadata": {},
   "outputs": [
    {
     "name": "stdout",
     "output_type": "stream",
     "text": [
      "70\n"
     ]
    }
   ],
   "source": [
    "## Brute force recursive solution\n",
    "\n",
    "def knapsack(w, values, weights):\n",
    "    return knapsack_util(w, values, weights, 0)\n",
    "    \n",
    "\n",
    "def knapsack_util(w, values, weights, curr):\n",
    "    if curr >= len(values):\n",
    "        return 0\n",
    "    \n",
    "    if weights[curr] > w:\n",
    "        return knapsack_util(w,values, weights, curr+1)\n",
    "    \n",
    "    include = values[curr] + knapsack_util(w-weights[curr],values, weights, curr+1)\n",
    "    exclude = knapsack_util(w,values, weights, curr+1)\n",
    "        \n",
    "    return max(include, exclude)\n",
    "\n",
    "values  = [10, 20, 60]\n",
    "weights = [20, 40, 30] \n",
    "\n",
    "print(knapsack(60, values, weights))\n",
    "\n",
    "# N=len(weights)\n",
    "# TC: O(2^N)\n",
    "# SC: O(N)\n",
    "\n"
   ]
  },
  {
   "cell_type": "markdown",
   "id": "8737eb22",
   "metadata": {},
   "source": [
    "**Memoization**  \n",
    "```C++\n",
    "int knapsack_util(int w, vector<int>values, vector<int> weights, int curr,map<pair<int,int>,int>& dp)\n",
    "{\n",
    "    if (curr >= values.size())\n",
    "        return 0;\n",
    "    \n",
    "    if (weights[curr] > w)\n",
    "        return knapsack_util(w,values, weights, curr+1,dp);\n",
    "    \n",
    "    if(dp.find({w,curr})!=dp.end()) return dp[{w,curr}];\n",
    "    \n",
    "    int include = values[curr] + knapsack_util(w-weights[curr],values, weights, curr+1,dp);\n",
    "    int exclude = knapsack_util(w,values, weights, curr+1,dp);\n",
    "     \n",
    "    int w1=weights[curr];\n",
    "    dp[{w,curr}] = max(include,exclude);\n",
    "       \n",
    "    return max(include, exclude);\n",
    "    \n",
    "}\n",
    "\n",
    "int knapsack(int w, vector<int> values, vector<int> weights){\n",
    "    map<pair<int,int>,int> dp;\n",
    "    return knapsack_util(w, values, weights, 0,dp);\n",
    "}\n",
    "\n",
    "\n",
    "int main() {\n",
    "    vector<int> values  = {10, 20, 60};\n",
    "    vector<int> weights = {20, 40, 30};\n",
    "    std::cout<< knapsack(60, values, weights);\n",
    "}\n",
    "\n",
    "TC: O(n*w)\n",
    "SC: O(n*w)\n",
    "```\n",
    "\n",
    "\n"
   ]
  },
  {
   "cell_type": "markdown",
   "id": "f75594d4",
   "metadata": {},
   "source": [
    "**Tabulation**  \n",
    "```Java\n",
    "public int bottomUp(int w, int [] weights, int [] values){\n",
    "        int n = values.length;\n",
    "        \n",
    "        int [][] dp = new int [n+1][w+1];\n",
    "        for(int i = 1 ; i <= n;  i++){\n",
    "            for(int j = 0 ; j <= w ; j++){\n",
    "                if(weights[i-1] > j ) dp[i][j] = dp[i-1][j];\n",
    "                else{\n",
    "                 dp[i][j] = Math.max(values[i-1]+dp[i-1][j-weights[i-1]] , dp[i-1][j]);   \n",
    "                } \n",
    "            }\n",
    "        }\n",
    "        \n",
    "        return dp[n][w];\n",
    "    }\n",
    "    \n",
    "    \n",
    " \n",
    "v == 1 2 3\n",
    "w =  4 5 1\n",
    "\n",
    "dp[i] [tgt wt]\n",
    "\n",
    "W=5\n",
    "    |  0  1  2  3  4  5  (tgt wt)\n",
    "------------------------\n",
    "  0 |  0  0  0  0  0  0\n",
    "4 1 |  0  0  0  0  1  1 (1 + (0, 4-4), 0)\n",
    "5 2 |  0  0  0  0  1  2\n",
    "1 3 |  0  3  3  3  3  4\n",
    "\n",
    "   3 + (2,1-1),  (3-1, 1) , <3 + (2, 2-1), 0> , <3 + (2, 5-1),2  >\n",
    " \n",
    " \n",
    " each position(i,j) in the dp array =   the max value that I can get for weights from 0-i index corresponding to the tgt wt of j\n",
    "```"
   ]
  },
  {
   "cell_type": "code",
   "execution_count": null,
   "id": "fbdfa70f",
   "metadata": {},
   "outputs": [],
   "source": []
  },
  {
   "cell_type": "code",
   "execution_count": null,
   "id": "c74d3ea3",
   "metadata": {},
   "outputs": [],
   "source": []
  },
  {
   "cell_type": "markdown",
   "id": "98899699",
   "metadata": {},
   "source": [
    "**Subset Sum**  \n",
    "\n",
    "Given a list of numbers.\n",
    "Figure out if it is possible to have the given sum S. Using any subset of given numbers. Use a number from the subset only once.\n",
    "\n",
    "Numbers: [2,4,6,4]\n",
    "S: 10\n",
    "    \n",
    "    \n",
    "def isSubsetSumPossible(numbers, s):\n",
    "    pass"
   ]
  },
  {
   "cell_type": "code",
   "execution_count": null,
   "id": "73b20290",
   "metadata": {},
   "outputs": [],
   "source": []
  },
  {
   "cell_type": "markdown",
   "id": "98772905",
   "metadata": {},
   "source": [
    "https://leetcode.com/problems/coin-change/"
   ]
  },
  {
   "cell_type": "code",
   "execution_count": null,
   "id": "315ebe65",
   "metadata": {},
   "outputs": [],
   "source": []
  }
 ],
 "metadata": {
  "kernelspec": {
   "display_name": "Python 3 (ipykernel)",
   "language": "python",
   "name": "python3"
  },
  "language_info": {
   "codemirror_mode": {
    "name": "ipython",
    "version": 3
   },
   "file_extension": ".py",
   "mimetype": "text/x-python",
   "name": "python",
   "nbconvert_exporter": "python",
   "pygments_lexer": "ipython3",
   "version": "3.10.9"
  }
 },
 "nbformat": 4,
 "nbformat_minor": 5
}
