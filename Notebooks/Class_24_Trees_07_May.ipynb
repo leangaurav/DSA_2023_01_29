{
 "cells": [
  {
   "cell_type": "markdown",
   "id": "9e533514",
   "metadata": {},
   "source": [
    "**Find largest value less than or equal to k**  \n",
    "https://practice.geeksforgeeks.org/problems/closest-neighbor-in-bst/1?utm_source=geeksforgeeks&utm_medium=article_practice_tab&utm_campaign=article_practice_tab"
   ]
  },
  {
   "cell_type": "markdown",
   "id": "702d3bcc",
   "metadata": {},
   "source": [
    "```\n",
    "TreeNode {\n",
    "    left\n",
    "    right\n",
    "    val\n",
    "}\n",
    "\n",
    "int lessThanEqualN(TreeNode* root, int n) {\n",
    "    \n",
    "}\n",
    "```"
   ]
  },
  {
   "cell_type": "code",
   "execution_count": null,
   "id": "27f234c4",
   "metadata": {},
   "outputs": [],
   "source": []
  },
  {
   "cell_type": "markdown",
   "id": "538df6d7",
   "metadata": {},
   "source": [
    "**Using InOrder Traversal**  \n",
    "```Java\n",
    "int ans = -1;\n",
    "public void sol(TreeNode root , int n ){\n",
    "    if(root == null) return;\n",
    "    \n",
    "    sol(root.left, n);\n",
    "    \n",
    "    if(root.val <= n){\n",
    "        ans = root.val;\n",
    "    } else {\n",
    "        return\n",
    "    }\n",
    "    \n",
    "    sol(root.right, n);\n",
    "}\n",
    "int lessThanEqualK(TreeNode* root, int n) {\n",
    "    sol(root, n);\n",
    "    return ans;\n",
    "}\n",
    "```"
   ]
  },
  {
   "cell_type": "code",
   "execution_count": null,
   "id": "233b3fc8",
   "metadata": {},
   "outputs": [],
   "source": []
  },
  {
   "cell_type": "markdown",
   "id": "4a5828e6",
   "metadata": {},
   "source": [
    "**Check if tree is balanced**  \n",
    "https://leetcode.com/problems/balanced-binary-tree/"
   ]
  },
  {
   "cell_type": "markdown",
   "id": "dc77af06",
   "metadata": {},
   "source": [
    "```Java\n",
    "public int getHeight(TreeNode root){\n",
    "        if(root == null) return 0;\n",
    "        int leftHeight = getHeight(root.left);\n",
    "        int rightHeight = getHeight(root.right);\n",
    "\n",
    "        return 1 + Math.max(leftHeight , rightHeight);\n",
    "    }\n",
    "    public boolean isBalanced(TreeNode root) {\n",
    "        if(root == null) return true;\n",
    "        if(root.left == null && root.right == null) return true;\n",
    "\n",
    "        int diffHeight = Math.abs(getHeight(root.left)-getHeight(root.right));\n",
    "\n",
    "        if(diffHeight < 2 && isBalanced(root.left) && isBalanced(root.right)){\n",
    "            return true;\n",
    "        } else {\n",
    "            return false;\n",
    "        }\n",
    "    }\n",
    "```"
   ]
  },
  {
   "cell_type": "markdown",
   "id": "e4b5a0b9",
   "metadata": {},
   "source": [
    "```Python\n",
    "def isBalanced(self, root: Optional[TreeNode]) -> bool:\n",
    "        if root == None:\n",
    "            return True\n",
    "        def Depth(root):\n",
    "            if not root:\n",
    "                return 0\n",
    "            return 1 + max(Depth(root.left),Depth(root.right))\n",
    "        lh = Depth(root.left)\n",
    "        rh = Depth(root.right)\n",
    "        if abs(lh-rh) > 1:\n",
    "            return False\n",
    "        left = self.isBalanced(root.left)\n",
    "        right = self.isBalanced(root.right)\n",
    "        if left and right:\n",
    "            return True\n",
    "        return False\n",
    "```"
   ]
  },
  {
   "cell_type": "markdown",
   "id": "488af94c",
   "metadata": {},
   "source": [
    "```Java\n",
    "public int sol(TreeNode root , boolean [] isState){\n",
    "        if(root == null) return 0;\n",
    "    \n",
    "        int leftHeight = sol(root.left , isState);\n",
    "        int rightHeight = sol(root.right ,isState );\n",
    "\n",
    "        if(Math.abs(leftHeight - rightHeight) >= 2 ) {\n",
    "            isState[0] = true;\n",
    "        }\n",
    "           \n",
    "        return 1 + Math.max(leftHeight , rightHeight);\n",
    "    }\n",
    "    public boolean isBalanced(TreeNode root) {\n",
    "       \n",
    "        boolean [ ] isState = new boolean[1]; \n",
    "        sol(root , isState);\n",
    "        return  isState[0] == true ? false : true;\n",
    "    }\n",
    "```"
   ]
  },
  {
   "cell_type": "markdown",
   "id": "fc051086",
   "metadata": {},
   "source": [
    "```C++\n",
    "class Solution {\n",
    "public:\n",
    "    int verify_balance(TreeNode* root, bool& res) {\n",
    "        if (!root || !res) return 0;\n",
    "\n",
    "        int lheight = verify_balance(root->left, res);\n",
    "        int rheight = verify_balance(root->right, res);\n",
    "\n",
    "        if (abs(lheight - rheight) > 1)\n",
    "            res = false;\n",
    "        \n",
    "        return max(lheight, rheight) + 1;\n",
    "    }\n",
    "    bool isBalanced(TreeNode* root) {\n",
    "        bool res = true;\n",
    "        verify_balance(root, res);\n",
    "\n",
    "        return res;\n",
    "    }\n",
    "};\n",
    "```"
   ]
  }
 ],
 "metadata": {
  "kernelspec": {
   "display_name": "Python 3",
   "language": "python",
   "name": "python3"
  },
  "language_info": {
   "codemirror_mode": {
    "name": "ipython",
    "version": 3
   },
   "file_extension": ".py",
   "mimetype": "text/x-python",
   "name": "python",
   "nbconvert_exporter": "python",
   "pygments_lexer": "ipython3",
   "version": "3.8.8"
  }
 },
 "nbformat": 4,
 "nbformat_minor": 5
}
