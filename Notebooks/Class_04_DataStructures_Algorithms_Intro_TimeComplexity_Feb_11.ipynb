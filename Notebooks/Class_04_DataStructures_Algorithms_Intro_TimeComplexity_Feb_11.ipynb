{
 "cells": [
  {
   "cell_type": "code",
   "execution_count": null,
   "id": "52c90fde",
   "metadata": {},
   "outputs": [],
   "source": [
    "# where do people drop out ?\n",
    "# Should I watch old videos ?\n",
    "# Learn how to learn\n",
    "# State of mind: Flow\n",
    "# What are you afraid of ? Why ? What's holding you back ?\n",
    "# Surround yourself with positive people.\n",
    "# What language should I use.\n",
    "\n"
   ]
  },
  {
   "cell_type": "markdown",
   "id": "b8a37738",
   "metadata": {},
   "source": [
    "# Introduction to Complexity: Time and Space"
   ]
  },
  {
   "cell_type": "markdown",
   "id": "fcc73da9",
   "metadata": {},
   "source": [
    "- Notion of time and CPU\n",
    "- Adding two integers\n",
    "- Adding two arrays of integers\n",
    "- GPU"
   ]
  },
  {
   "cell_type": "code",
   "execution_count": 1,
   "id": "f32a4239",
   "metadata": {},
   "outputs": [
    {
     "ename": "NameError",
     "evalue": "name 'N' is not defined",
     "output_type": "error",
     "traceback": [
      "\u001b[1;31m---------------------------------------------------------------------------\u001b[0m",
      "\u001b[1;31mNameError\u001b[0m                                 Traceback (most recent call last)",
      "\u001b[1;32mC:\\Users\\LEANGA~1\\AppData\\Local\\Temp/ipykernel_37348/3041106453.py\u001b[0m in \u001b[0;36m<module>\u001b[1;34m\u001b[0m\n\u001b[0;32m      2\u001b[0m \u001b[0ma2\u001b[0m \u001b[1;33m=\u001b[0m \u001b[1;33m[\u001b[0m\u001b[1;36m4\u001b[0m\u001b[1;33m,\u001b[0m\u001b[1;36m5\u001b[0m\u001b[1;33m,\u001b[0m\u001b[1;36m6\u001b[0m\u001b[1;33m]\u001b[0m\u001b[1;33m\u001b[0m\u001b[1;33m\u001b[0m\u001b[0m\n\u001b[0;32m      3\u001b[0m \u001b[1;33m\u001b[0m\u001b[0m\n\u001b[1;32m----> 4\u001b[1;33m \u001b[0mN\u001b[0m\u001b[1;33m\u001b[0m\u001b[1;33m\u001b[0m\u001b[0m\n\u001b[0m\u001b[0;32m      5\u001b[0m \u001b[1;33m\u001b[0m\u001b[0m\n\u001b[0;32m      6\u001b[0m \u001b[0ma3\u001b[0m \u001b[1;33m=\u001b[0m \u001b[1;33m[\u001b[0m\u001b[1;36m5\u001b[0m\u001b[1;33m,\u001b[0m\u001b[1;36m7\u001b[0m\u001b[1;33m,\u001b[0m\u001b[1;36m9\u001b[0m\u001b[1;33m]\u001b[0m\u001b[1;33m\u001b[0m\u001b[1;33m\u001b[0m\u001b[0m\n",
      "\u001b[1;31mNameError\u001b[0m: name 'N' is not defined"
     ]
    }
   ],
   "source": [
    "a1 = [1,2,3]\n",
    "a2 = [4,5,6]\n",
    "\n",
    "N\n",
    "\n",
    "a3 = [5,7,9]\n",
    "\n",
    "O(N)"
   ]
  },
  {
   "cell_type": "markdown",
   "id": "ceca5356",
   "metadata": {},
   "source": [
    "Finding an element in array\n",
    "- By Value\n",
    "- By Index"
   ]
  },
  {
   "cell_type": "code",
   "execution_count": null,
   "id": "d0e95b6d",
   "metadata": {},
   "outputs": [],
   "source": []
  },
  {
   "cell_type": "markdown",
   "id": "878ae38b",
   "metadata": {},
   "source": [
    "**Time complexity**  \n",
    "\n",
    "In computer science, the time complexity is the computational complexity that describes the amount of **computer time** it takes to run an algorithm. Time complexity is commonly estimated by counting the number of elementary operations performed by the algorithm, supposing that each elementary operation takes a fixed amount of time to perform. Thus, the amount of time taken and the number of elementary operations performed by the algorithm are taken to be related by a constant factor.  \n",
    "\n",
    "Source: https://en.wikipedia.org/wiki/Time_complexity\n"
   ]
  },
  {
   "cell_type": "code",
   "execution_count": null,
   "id": "e61b663a",
   "metadata": {},
   "outputs": [],
   "source": []
  },
  {
   "cell_type": "markdown",
   "id": "abf88e3e",
   "metadata": {},
   "source": [
    "**Why Complexity Analysis** \n",
    "\n",
    "Figure out an estimate of how the execution time gets impacted as the size of input data increases.  \n",
    "Rate of growth"
   ]
  },
  {
   "cell_type": "code",
   "execution_count": null,
   "id": "126b4dfa",
   "metadata": {},
   "outputs": [],
   "source": []
  },
  {
   "cell_type": "markdown",
   "id": "2463c4eb",
   "metadata": {},
   "source": [
    "### Example\n",
    "\n",
    "Finding first duplicate in an array\n",
    "- Simple approach\n",
    "- Approach with a constraint that number of elements is limited to range 1-100"
   ]
  },
  {
   "cell_type": "code",
   "execution_count": null,
   "id": "ded2ee81",
   "metadata": {},
   "outputs": [],
   "source": [
    "Array of numbers. numbers are in integer range. Array contains exactly 1 duplicate value\n",
    "Find out the duplicate element\n",
    "\n",
    "[1 2 3 4 5 3]\n",
    "[1 1]\n",
    "[-1 2 3 3 4 -5]"
   ]
  },
  {
   "cell_type": "code",
   "execution_count": null,
   "id": "4f92e67f",
   "metadata": {},
   "outputs": [],
   "source": [
    "```C++\n",
    "\n",
    "int arr[10];\n",
    "\n",
    "class Solution {\n",
    "public:\n",
    "    int containsDuplicate(vector<int>& nums) {\n",
    "        \n",
    "        // O(N^2)\n",
    "        for (int i = 0; i < nums.size(); i ++) { // O(N)\n",
    "            \n",
    "            // O(N)\n",
    "            for (int j = i + 1; j < nums.size(); j++) { // O(N)\n",
    "                if (nums[i] == nums[j]) { // O(1)\n",
    "                    return nums[i];\n",
    "                }\n",
    "            }\n",
    "        }\n",
    "    }\n",
    "};\n",
    "\n",
    "\n",
    "```"
   ]
  },
  {
   "cell_type": "code",
   "execution_count": 3,
   "id": "510081b1",
   "metadata": {},
   "outputs": [
    {
     "name": "stdout",
     "output_type": "stream",
     "text": [
      "3\n"
     ]
    }
   ],
   "source": [
    "print(1*3)"
   ]
  },
  {
   "cell_type": "markdown",
   "id": "c35f9353",
   "metadata": {},
   "source": [
    "**Calculating time complexity**  \n",
    "\n",
    "- why to drop off smaller terms ?"
   ]
  },
  {
   "cell_type": "code",
   "execution_count": 2,
   "id": "6057a845",
   "metadata": {},
   "outputs": [
    {
     "name": "stdout",
     "output_type": "stream",
     "text": [
      "     1 poly=3          n^2=0.5        n=1          const=1.5       \n",
      "    10 poly=62         n^2=50.0       n=10         const=1.5       \n",
      "   100 poly=5102       n^2=5000.0     n=100        const=1.5       \n",
      "  1000 poly=501002     n^2=500000.0   n=1000       const=1.5       \n",
      " 10000 poly=50010002   n^2=50000000.0 n=10000      const=1.5       \n",
      "100000 poly=5000100002 n^2=5000000000.0 n=100000     const=1.5       \n"
     ]
    }
   ],
   "source": [
    "# Comparing contribution of different steps in TC calculation \n",
    "def n_square(n):\n",
    "    return n*n*0.5\n",
    "\n",
    "def n_(n):\n",
    "    return n\n",
    "\n",
    "def const():\n",
    "    return 3/2\n",
    "\n",
    "def poly(n):\n",
    "    return n_square(n) + n_(n) + const()\n",
    "\n",
    "for n in [1, 10, 100, 1000, 10000, 100000]:\n",
    "    print(\"%6d poly=%-10.0f n^2=%-10.1f n=%-10.0f const=%-10.1f\" % (n, poly(n), n_square(n), n_(n), const()))\n",
    "    \n",
    "# O(n^2) -> O n square"
   ]
  },
  {
   "cell_type": "code",
   "execution_count": null,
   "id": "d8d4b1ec",
   "metadata": {},
   "outputs": [],
   "source": []
  },
  {
   "cell_type": "markdown",
   "id": "c9cfebe1",
   "metadata": {},
   "source": [
    "- O(1)\n",
    "- O(log N)\n",
    "- O(N)\n",
    "- O(N log N) => O(N * log N)\n",
    "- O(N^2)\n",
    "- O(2^N)\n",
    "- O(N!)\n",
    "\n",
    "where N is the size of input/data`"
   ]
  },
  {
   "cell_type": "code",
   "execution_count": null,
   "id": "97da5619",
   "metadata": {},
   "outputs": [],
   "source": []
  },
  {
   "cell_type": "markdown",
   "id": "10e6ad59",
   "metadata": {},
   "source": [
    "**Example-0**  \n",
    "```C++\n",
    "n\n",
    "\n",
    "for (i = 0 ; i < n; i++) {\n",
    "    cout << i;\n",
    "}\n",
    "\n",
    "```\n",
    "**Example-1**  \n",
    "```C++\n",
    "n = 5\n",
    "\n",
    "for (i = 0; i < n; i++) {\n",
    "                         \n",
    "    for(j = 0; j < n; j++) {\n",
    "        // some op // O(1)\n",
    "    }\n",
    "}\n",
    "\n",
    "0 (0-n), 1(0-n), ... n(0-n) \n",
    "n^2\n",
    "```\n",
    "**Example-2**  \n",
    "```C++\n",
    "for (i = 0; i < n; i++) {\n",
    "                         \n",
    "    for(j = 0; j <= i; j++) {\n",
    "        // some op\n",
    "    }\n",
    "}\n",
    "\n",
    "O(n^2)\n",
    "1 + 2 + 3 + 4 + 5.... n\n",
    "\n",
    "\n",
    "N(N+1)/2 => 0.5N^2 + 0.5N\n",
    "O(N^2)\n",
    "\n",
    "```\n",
    "**Example-3**  \n",
    "```C++\n",
    "for (i = 0; i < n; i++) { // N\n",
    "                         \n",
    "    for(j = 0; j < n; j++) { // N\n",
    "                            \n",
    "        for (k = 0; k < n; k++) { // N\n",
    "                // some op\n",
    "        }\n",
    "        \n",
    "    }\n",
    "}\n",
    "\n",
    "O(N^3)\n",
    "\n",
    "```\n",
    "**Example-4**  \n",
    "```C++\n",
    "for (i = 0; i < n; i++) { // N\n",
    "                         \n",
    "    for(j = 0; j < n; j++) { /// N\n",
    "        // some op1                       \n",
    "    }\n",
    "                         \n",
    "    for (k = 0; k < n; k++) { // N\n",
    "        // some op2\n",
    "    }\n",
    " \n",
    "}\n",
    "\n",
    "\n",
    "N*2N => 2N^2 => O(N^2)\n",
    "\n",
    "```\n",
    "**Example-4.1**  \n",
    "```C++\n",
    "for (i = 0; i < n; i++) { // N\n",
    "    FUNCTION() // o(1)\n",
    "}\n",
    "O(N)\n",
    "    \n",
    "\n",
    "for (i = 0; i < n; i++) { // N\n",
    "    FUNCTION() // o(n)\n",
    "}\n",
    "O(N^2)\n",
    "\n",
    "```\n",
    "**Example-5**  \n",
    "```C++\n",
    "for (i = 0; i < n; i++) { // N\n",
    "            \n",
    "    // N^2\n",
    "    for(j = 0; j < n; j++) { // N\n",
    "            for (k = 0; k < n; k++) {  // n\n",
    "                // some op1\n",
    "            }                      \n",
    "    }\n",
    "           \n",
    "    // N\n",
    "    for (k = 0; k < n; k++) {\n",
    "        // some op2\n",
    "    }\n",
    " \n",
    "}\n",
    "```\n",
    "\n",
    "N*(N^2 + N) = N^3 + N^2 => O(N^3)\n",
    "\n",
    "\n",
    "**Example-6**  \n",
    "```C++\n",
    "for (i = 0; i < n; i*=2) {\n",
    "    // some op1\n",
    "}\n",
    "\n",
    "Infinite\n",
    "```\n",
    "\n",
    "\n",
    "**Example-6.1**  \n",
    "```C++\n",
    "for (i = 1; i < n; i*=2) {\n",
    "    // some op1\n",
    "}\n",
    "\n",
    "O (log N)\n",
    "```\n",
    "\n",
    "\n",
    "**Example-7**  \n",
    "```C++\n",
    "for (i = 0; i < n; i+=2) {\n",
    "    // some op1\n",
    "}\n",
    "20\n",
    "    \n",
    "0 2 4 6 8 10\n",
    "N/2 = (1/2) * N = O(N)\n",
    "```\n",
    "\n",
    "**Example-8**  \n",
    "```C++\n",
    "for (i = 0; i < n; i+=1) { // N\n",
    "    for (j = 1; j < n; j=j*2) { // log N\n",
    "        // some op1\n",
    "    }\n",
    "}\n",
    "\n",
    "O(N * log N)\n",
    "```\n",
    "\n",
    "**Example-"
   ]
  },
  {
   "cell_type": "markdown",
   "id": "fd27f16c",
   "metadata": {},
   "source": [
    "![Complexity Comparision](Class_04_BigOCommplexityComparison.png)\n",
    "\n",
    "Source: [Big-O Cheetsheet](https://www.bigocheatsheet.com/)"
   ]
  },
  {
   "cell_type": "code",
   "execution_count": null,
   "id": "bb9ee295",
   "metadata": {},
   "outputs": [],
   "source": []
  },
  {
   "cell_type": "code",
   "execution_count": null,
   "id": "3dab0691",
   "metadata": {},
   "outputs": [],
   "source": []
  },
  {
   "cell_type": "markdown",
   "id": "bd44bc58",
   "metadata": {},
   "source": [
    "**What is a data structure** \n",
    "\n",
    "Data structure defines the way data is organized in the system/program memory.  \n",
    "DS provides interfaces for insertion, deletion and updation of data.  \n",
    "DS defines the way data is going to be arranged in memory and hence it also defines how the above operations are going to be implemented.  \n",
    "Example: Array, Stack, Queue, Tree, Graph, Hashmap etc.  \n"
   ]
  },
  {
   "cell_type": "code",
   "execution_count": null,
   "id": "482a00ae",
   "metadata": {},
   "outputs": [],
   "source": []
  },
  {
   "cell_type": "markdown",
   "id": "ff819534",
   "metadata": {},
   "source": [
    "### Understanding Hash Map data structure"
   ]
  },
  {
   "cell_type": "code",
   "execution_count": null,
   "id": "751f19e8",
   "metadata": {},
   "outputs": [],
   "source": []
  },
  {
   "cell_type": "markdown",
   "id": "781edb0a",
   "metadata": {},
   "source": [
    "![](Class_04_CommonDsComplexity.png)\n"
   ]
  }
 ],
 "metadata": {
  "kernelspec": {
   "display_name": "Python 3",
   "language": "python",
   "name": "python3"
  },
  "language_info": {
   "codemirror_mode": {
    "name": "ipython",
    "version": 3
   },
   "file_extension": ".py",
   "mimetype": "text/x-python",
   "name": "python",
   "nbconvert_exporter": "python",
   "pygments_lexer": "ipython3",
   "version": "3.8.8"
  }
 },
 "nbformat": 4,
 "nbformat_minor": 5
}
