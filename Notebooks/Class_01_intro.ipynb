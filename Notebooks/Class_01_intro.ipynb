{
 "cells": [
  {
   "cell_type": "markdown",
   "id": "aab69197",
   "metadata": {},
   "source": [
    "I'm Gaurav, 7 yrs exp, backend development, **XYZ** company, worked with product based and startups.  \n",
    "\n",
    "- x -> y\n",
    "- x -> a -> y\n",
    "\n",
    "- exp ?\n",
    "\n",
    "- ctc ?\n",
    "\n",
    "- Getting interview ?\n",
    "- Preparation ?\n",
    "\n",
    "\n",
    "Code reviews ?  \n",
    "Do I need to rememember langauge syntax ?  \n",
    "Which language to use ?   \n",
    "Do you like WFH or Office ?   \n",
    "\n"
   ]
  },
  {
   "cell_type": "markdown",
   "id": "71297f18",
   "metadata": {},
   "source": [
    "## Welcome"
   ]
  },
  {
   "cell_type": "markdown",
   "id": "1ab0f85e",
   "metadata": {},
   "source": [
    "1. Intro\n",
    "1. Git repo\n",
    "1. Create a Leetcode account"
   ]
  },
  {
   "cell_type": "code",
   "execution_count": 1,
   "id": "85be6cb2",
   "metadata": {},
   "outputs": [
    {
     "name": "stdout",
     "output_type": "stream",
     "text": [
      "abcd\n"
     ]
    }
   ],
   "source": [
    "print('abcd')"
   ]
  },
  {
   "cell_type": "code",
   "execution_count": null,
   "id": "58b577df",
   "metadata": {},
   "outputs": [],
   "source": []
  },
  {
   "cell_type": "markdown",
   "id": "63933acf",
   "metadata": {},
   "source": [
    "## Programming basics\n"
   ]
  },
  {
   "cell_type": "markdown",
   "id": "a117bccb",
   "metadata": {},
   "source": [
    "1. Memory and storage\n",
    "1. Bit Byte\n",
    "1. Data types: primitive\n",
    "1. Basic Operators\n",
    "1. Modulus and XOR operator\n",
    "1. Compile, Interpreter\n"
   ]
  },
  {
   "cell_type": "markdown",
   "id": "71b9ce4f",
   "metadata": {},
   "source": [
    "Memory - in terms of programming\n",
    "Register, Cache, RAM, Disk\n",
    "\n",
    "Primary memory - RAM\n",
    "- Random Access Memory\n",
    "\n",
    "\n",
    "boxes: 1 2 3 4 5 6\n",
    "get by pos or no. : O(1)\n",
    "ball of different colors: O(N)\n"
   ]
  },
  {
   "cell_type": "markdown",
   "id": "3df4e376",
   "metadata": {},
   "source": [
    "**Bit**  \n",
    "```\n",
    "Binary language: 0 and 1\n",
    "0-9 -> 1000 -> 91\n",
    "\n",
    "Bit: 0/1\n",
    "Byte: 8 Bits\n",
    "KB: 1024 Bytes = 2^10 bytes\n",
    "MB: 1024 KB\n",
    "GB:\n",
    "TB:\n",
    "\n",
    "\n",
    "Number systems:\n",
    "Binary, Octal, Decimal, Hexadecimal\n",
    "2(0,1)  8(0-7) 10(0-9)  16(0-9ABCDEF)\n",
    "\n",
    "Bi: (101)2\n",
    "Oct: (5)8\n",
    "Dec:  (5)10\n",
    "Hex:  (5)16\n",
    "\n",
    "Bi: (1100)2\n",
    "Oct: (14)8\n",
    "Dec: 12\n",
    "Hex: (c)\n",
    "```"
   ]
  },
  {
   "cell_type": "code",
   "execution_count": 8,
   "id": "bd1e5c19",
   "metadata": {},
   "outputs": [
    {
     "name": "stdout",
     "output_type": "stream",
     "text": [
      "0o14\n",
      "0xc\n",
      "0b1100\n"
     ]
    }
   ],
   "source": [
    "print(oct(12))\n",
    "print(hex(12))\n",
    "print(bin(12))"
   ]
  },
  {
   "cell_type": "markdown",
   "id": "cb9a68a9",
   "metadata": {},
   "source": [
    "**Data types**  \n",
    "\n",
    "```\n",
    "- C++, JAVA: data type -> memory\n",
    "\n",
    "What operations you can do on it. \n",
    "- int vs string\n",
    " 4 + 4 -> 8\n",
    " \"4\" + \"4\" -> \"44\"\n",
    " 4 - 3 -> 1\n",
    " \"4\" - \"3\" -> X\n",
    " \n",
    " \n",
    " - int: 4, 8\n",
    " - float: 4, 8\n",
    " - char: 1\n",
    " - string: length\n",
    " - bool\n",
    " - bytes/bytearray\n",
    "```"
   ]
  },
  {
   "cell_type": "markdown",
   "id": "60cee2b1",
   "metadata": {},
   "source": [
    "```\n",
    "1 bit: 0,1 0->0 1->1\n",
    "2 bit: 00(0), 01(1), 10(2), 11(4) -> 4\n",
    "3 bit: 8 \n",
    "8 bits -> 1 byte -> 0-255 -> 256 \n",
    "       -> -128 to +127\n",
    "2 int -> -32768 to +32767 \n",
    "4 bytes -> \n",
    "\n",
    "32000 + 32000\n",
    "```"
   ]
  },
  {
   "cell_type": "code",
   "execution_count": null,
   "id": "383bbf46",
   "metadata": {},
   "outputs": [],
   "source": []
  },
  {
   "cell_type": "markdown",
   "id": "67f0f05e",
   "metadata": {},
   "source": [
    "**Variables**\n",
    "```\n",
    "// C++, JAVA\n",
    "int a = 10;\n",
    "a = 20; // correct\n",
    "a = 4.5; // ? yes\n",
    "a = \"abcd\"; // ? no\n",
    "a = 'a'; // ? yes\n",
    "\n",
    "// Python\n",
    "a = 10\n",
    "a = \"abcd\"\n",
    "\n",
    "```\n",
    "\n",
    "```\n",
    "LHS <- RHS\n",
    "\n",
    "20 = a; // wrong\n",
    "\n",
    "/*\n",
    "C++ thing\n",
    "*/\n",
    "if a = 20 {\n",
    "}\n",
    "\n",
    "if 20 = a {\n",
    "}\n",
    "```\n",
    "\n",
    "**Constant**\n",
    "```\n",
    "const int a = 10;\n",
    "a = 20; // error\n",
    "```\n"
   ]
  },
  {
   "cell_type": "code",
   "execution_count": null,
   "id": "37a7746d",
   "metadata": {},
   "outputs": [],
   "source": []
  },
  {
   "cell_type": "markdown",
   "id": "74a9b803",
   "metadata": {},
   "source": [
    "**Operators**  \n",
    "```\n",
    "Arithmetic\n",
    "+, -, *, /, %, (// , ** python)\n",
    "\n",
    "Shift operators: bits\n",
    ">>, <<\n",
    "\n",
    "Assignment\n",
    "=, +=, -=, *=\n",
    "\n",
    "Relational\n",
    "==, <, >, >=, <=, !=  (=== JS)\n",
    "\n",
    "Logical\n",
    "&&, ||, !  (and, or, not python)\n",
    "\n",
    "Bitwise\n",
    "| , &, ~, ^\n",
    "\n",
    "\n",
    "?: -> if else\n",
    "```"
   ]
  },
  {
   "cell_type": "code",
   "execution_count": 13,
   "id": "0744d9ad",
   "metadata": {},
   "outputs": [
    {
     "name": "stdout",
     "output_type": "stream",
     "text": [
      "2\n",
      "8\n",
      "16\n"
     ]
    }
   ],
   "source": [
    "a = 4 # 0b 0000 0100\n",
    "print(a >> 1) #0b 0000 0010\n",
    "print(a << 1) #0b 0000 1000\n",
    "print(a << 2) #0b 0001 0000"
   ]
  },
  {
   "cell_type": "code",
   "execution_count": null,
   "id": "46b55e74",
   "metadata": {},
   "outputs": [],
   "source": []
  },
  {
   "cell_type": "markdown",
   "id": "d5a9ffd3",
   "metadata": {},
   "source": [
    "**modulus**  \n",
    "```\n",
    "1 % 2 -> 1 \n",
    "2 % 1 -> 0\n",
    "5 % 2 -> 1\n",
    "```\n",
    "\n",
    "x % y -> [0 to (y - 1)]  \n",
    "\n",
    "Even or odd ?  \n",
    "do % 2 -> if 0-> even 1-> odd  \n",
    "\n",
    "extract last digit of a number\n",
    "- 123\n",
    "- 123%10 -> 3\n",
    "- 123/10 -> 12\n",
    "- 12 %10 -> 2\n",
    "- 12/10 -> 1\n",
    "- 1%10 -> 1\n",
    "- 1/10 -> 0\n",
    "\n",
    "0*10 + 3 -> 3  \n",
    "(3 * 10) + 2 -> 32  \n",
    "(32*10) + 1 -> 321  \n"
   ]
  },
  {
   "cell_type": "code",
   "execution_count": null,
   "id": "d4f8e7c4",
   "metadata": {},
   "outputs": [],
   "source": []
  },
  {
   "cell_type": "markdown",
   "id": "cd7f1c8f",
   "metadata": {},
   "source": [
    "**xor**  \n",
    "```\n",
    "Truth Table\n",
    "0  0 -> 0\n",
    "0  1 -> 1\n",
    "1  0 -> 1\n",
    "1  1 -> 0\n",
    "```"
   ]
  },
  {
   "cell_type": "code",
   "execution_count": 21,
   "id": "b32db43b",
   "metadata": {},
   "outputs": [
    {
     "name": "stdout",
     "output_type": "stream",
     "text": [
      "1\n",
      "\n",
      "2\n",
      "3\n",
      "1\n"
     ]
    }
   ],
   "source": [
    "a = 5 # 101\n",
    "b = 4 # 100\n",
    "print(a^b)\n",
    "\n",
    "print()\n",
    "a = 1 ^ 3\n",
    "print(a)\n",
    "print(a^1)\n",
    "print(a^3)"
   ]
  },
  {
   "cell_type": "markdown",
   "id": "ef1086cb",
   "metadata": {},
   "source": [
    "```C++\n",
    "int main() {\n",
    "    int a = 1 ^3;\n",
    "    cout << a << endl;\n",
    "    cout << a ^ 1;\n",
    "}\n",
    "```"
   ]
  },
  {
   "cell_type": "code",
   "execution_count": null,
   "id": "d40bb340",
   "metadata": {},
   "outputs": [],
   "source": []
  },
  {
   "cell_type": "code",
   "execution_count": null,
   "id": "11d40106",
   "metadata": {},
   "outputs": [],
   "source": []
  },
  {
   "cell_type": "markdown",
   "id": "e8696723",
   "metadata": {},
   "source": [
    "# Some math"
   ]
  },
  {
   "cell_type": "markdown",
   "id": "9661cb7f",
   "metadata": {},
   "source": [
    "1. Sum of first n numbers\n",
    "1. Mean, median, mode\n",
    "1. Permutation Combinations\n",
    "1. Modulo arithmetic  \n",
    "    (A + B) mod C = (A mod C + B mod C) mod C  \n",
    "    (A * B) mod C = (A mod C * B mod C) mod C  \n",
    "    A^B mod C = ( (A mod C)^B ) mod C  "
   ]
  },
  {
   "cell_type": "code",
   "execution_count": null,
   "id": "34bbdc2d",
   "metadata": {},
   "outputs": [],
   "source": []
  },
  {
   "cell_type": "markdown",
   "id": "5ebcc167",
   "metadata": {},
   "source": [
    "## Common Terms\n",
    "1. Pallindrome\n",
    "1. Factorial\n",
    "1. Fibonacci Series\n",
    "1. Sorting"
   ]
  },
  {
   "cell_type": "code",
   "execution_count": null,
   "id": "c606d95e",
   "metadata": {},
   "outputs": [],
   "source": []
  }
 ],
 "metadata": {
  "kernelspec": {
   "display_name": "Python 3 (ipykernel)",
   "language": "python",
   "name": "python3"
  },
  "language_info": {
   "codemirror_mode": {
    "name": "ipython",
    "version": 3
   },
   "file_extension": ".py",
   "mimetype": "text/x-python",
   "name": "python",
   "nbconvert_exporter": "python",
   "pygments_lexer": "ipython3",
   "version": "3.10.6"
  }
 },
 "nbformat": 4,
 "nbformat_minor": 5
}
