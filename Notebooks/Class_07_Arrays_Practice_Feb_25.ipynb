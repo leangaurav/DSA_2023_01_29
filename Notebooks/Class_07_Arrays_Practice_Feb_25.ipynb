{
 "cells": [
  {
   "cell_type": "markdown",
   "id": "089be131",
   "metadata": {},
   "source": [
    "**Question-1**  \n",
    "Reverse a part of array (arr, start, end) Then solve https://leetcode.com/problems/rotate-array/description/\n",
    "    "
   ]
  },
  {
   "cell_type": "markdown",
   "id": "6b9c81d5",
   "metadata": {},
   "source": [
    "```C++\n",
    "class Solution {\n",
    "public:\n",
    "    void rotate(vector<int>& nums, int k) {\n",
    "        // Brute force O(n*k) SC:O(1)\n",
    "\n",
    "        1 2 3 4\n",
    "        \n",
    "        4 1 2 3\n",
    "        3 4 1 2\n",
    "        2 3 4 1\n",
    "        1 2 3 4\n",
    "        \n",
    "        2%4 = 2\n",
    "        4%4 = 0\n",
    "\n",
    "        // Using additional array TC:2*O(N) = O(N)  SC: O(N)\n",
    "\n",
    "        // 1,2,3,4,5,6,7 k = 3, n=7\n",
    "        // reverse first n-k elements, reverse last k elements\n",
    "        // 4 3 2 1 7 6 5\n",
    "        // 5 6 7 1 2 3 4\n",
    "        // TC: O(N) SC: O(1)\n",
    "        \n",
    "        reverse() // first n-k elements\n",
    "        \n",
    "        reverse() // last k elements\n",
    "\n",
    "        reverse() // for entire array\n",
    "\n",
    "        // reverse first k elements, reverse last n-k elements -> left rotation\n",
    "        // 3 2 1 7 6 5 4\n",
    "        // 4 5 6 7 1 2 3 \n",
    "    }\n",
    "\n",
    "    void reverse(vector<int>& nums, int s, int e) {\n",
    "\n",
    "    }\n",
    "};\n",
    "```"
   ]
  },
  {
   "cell_type": "code",
   "execution_count": 7,
   "id": "3f8d40a6",
   "metadata": {},
   "outputs": [
    {
     "name": "stdout",
     "output_type": "stream",
     "text": [
      "[5, 6, 1, 2, 3, 4]\n"
     ]
    }
   ],
   "source": [
    "from typing import List\n",
    "class Solution:\n",
    "    def reverse(self, start, end, arr):\n",
    "        while(start<end):\n",
    "            arr[start],arr[end] = arr[end],arr[start]\n",
    "            start+=1\n",
    "            end-=1\n",
    "        return arr\n",
    "\n",
    "    def rotate(self, nums: List[int], k: int) -> None:\n",
    "        \"\"\"\n",
    "        Do not return anything, modify nums in-place instead.\n",
    "        \"\"\"\n",
    "        l = len(nums)\n",
    "        k %= l\n",
    "        self.reverse(0,l-k-1,nums)\n",
    "        self.reverse(l-k,l-1,nums)\n",
    "        self.reverse(0,l-1,nums)\n",
    "        return(nums)\n",
    "\n",
    "s = Solution()\n",
    "a = [1,2,3,4,5,6]\n",
    "s.rotate(a, 2)\n",
    "print(a)"
   ]
  },
  {
   "cell_type": "markdown",
   "id": "40a82d51",
   "metadata": {},
   "source": [
    "```Javascript\n",
    "JavaScript\n",
    "/**\n",
    " * @param {number[]} nums\n",
    " * @param {number} k\n",
    " * @return {void} Do not return anything, modify nums in-place instead.\n",
    " */\n",
    "var rotate = function(nums, k) {\n",
    "       const n = nums.length;\n",
    "        k=k%n;\n",
    "\n",
    "        reverse(nums,0,n-k-1);\n",
    "        reverse(nums,n-k,n-1);\n",
    "        reverse(nums,0,n-1);\n",
    "};\n",
    "\n",
    "function reverse(nums, s, e)\n",
    "    {\n",
    "        while(s<e)\n",
    "        {\n",
    "            const temp=nums[s];\n",
    "            nums[s]=nums[e];\n",
    "            nums[e]=temp;\n",
    "            s++;\n",
    "            e--;\n",
    "        }\n",
    "    }\n",
    "\n",
    "```"
   ]
  },
  {
   "cell_type": "code",
   "execution_count": null,
   "id": "4b933ff0",
   "metadata": {},
   "outputs": [],
   "source": []
  },
  {
   "cell_type": "markdown",
   "id": "1336d3ac",
   "metadata": {},
   "source": [
    "**Question-2**   \n",
    "https://leetcode.com/problems/trapping-rain-water/\n"
   ]
  },
  {
   "cell_type": "code",
   "execution_count": null,
   "id": "21ef232a",
   "metadata": {},
   "outputs": [],
   "source": []
  },
  {
   "cell_type": "code",
   "execution_count": null,
   "id": "05796eb1",
   "metadata": {},
   "outputs": [],
   "source": [
    "// 2,1,0,1,3,2,1,2,1\n",
    "// Brute force: TC: O(N^2)  SC: O(1)\n",
    "// for each element: // O(N)\n",
    "        l = find max on left // O(N)\n",
    "        r = find max on right // O(N)\n",
    "        currentWaterLevel = min(l,r)\n",
    "        if currentWaterLevel > currBarHeight:\n",
    "            water += currentWaterLevel - currBarHeight\n",
    "            \n",
    "\n",
    "// TC: O(N)  SC: O(N)\n",
    "// maxonLeft = array\n",
    "// compute maxOnLeft // O(N)\n",
    "// maxonRight = array\n",
    "// compute maxonRight // O(N)\n",
    "\n",
    "// for each element: // O(N)\n",
    "        currentWaterLevel = min(maxOnLeft[i],maxonRight[i])\n",
    "        if currentWaterLevel > currBarHeight:\n",
    "            water += currentWaterLevel - currBarHeight\n",
    "        \n",
    "\n",
    "\n",
    "class Solution:\n",
    "    def trap(self, height: List[int]) -> int:\n",
    "        lrAuxArray = [0 for _ in range(len(height))] # max on left\n",
    "        rlAuxArray = [0 for _ in range(len(height))] # max on right\n",
    "\n",
    "        tempMax = height[0]\n",
    "        for index in range(len(height)):\n",
    "            tempMax = max(tempMax, height[index])\n",
    "            lrAuxArray[index] = tempMax\n",
    "\n",
    "        tempMax = height[len(height) - 1]\n",
    "        for index in range(len(height) - 1, -1, -1):\n",
    "            tempMax = max(tempMax, height[index])\n",
    "            rlAuxArray[index] = tempMax\n",
    "\n",
    "        water = 0\n",
    "        for index in range(len(height)):\n",
    "            water += min(lrAuxArray[index], rlAuxArray[index]) - height[index]\n",
    "\n",
    "        return water\n",
    "\n",
    "// 2,1,0,1,3,2,1,2,1\n",
    "// 0 1 2 3 4 5 6 7 8\n",
    "// 2 2 2 2 3 3 3 3 3 maxOnLeft\n",
    "// 3 3 3 3 3 2 2 2 1 maxOnRight\n",
    "// 0 1 2 1 0 0 1 0 0 => 5\n"
   ]
  },
  {
   "cell_type": "code",
   "execution_count": null,
   "id": "6bc2e7eb",
   "metadata": {},
   "outputs": [],
   "source": [
    "class Solution:\n",
    "    def trap(self, height: List[int]) -> int:\n",
    "        rlAuxArray = [] # max On right\n",
    "\n",
    "        tempMax = height[len(height) - 1]\n",
    "        for index in range(len(height) - 1, -1, -1):\n",
    "            tempMax = max(tempMax, height[index])\n",
    "            rlAuxArray = [tempMax] + rlAuxArray\n",
    "        \n",
    "        tempMax = 0\n",
    "        leftMax = tempMax # calculate maxOnLeft on the fly\n",
    "        for index in range(len(height)):\n",
    "            leftMax = max(leftMax, height[index])\n",
    "            tempMax += min(leftMax, rlAuxArray[index]) - height[index]\n",
    "\n",
    "        return tempMax\n"
   ]
  },
  {
   "cell_type": "code",
   "execution_count": 8,
   "id": "0e31e8ae",
   "metadata": {},
   "outputs": [
    {
     "ename": "SyntaxError",
     "evalue": "invalid syntax (Temp/ipykernel_5544/2157692379.py, line 6)",
     "output_type": "error",
     "traceback": [
      "\u001b[1;36m  File \u001b[1;32m\"C:\\Users\\LEANGA~1\\AppData\\Local\\Temp/ipykernel_5544/2157692379.py\"\u001b[1;36m, line \u001b[1;32m6\u001b[0m\n\u001b[1;33m    while(l < r) {\u001b[0m\n\u001b[1;37m                 ^\u001b[0m\n\u001b[1;31mSyntaxError\u001b[0m\u001b[1;31m:\u001b[0m invalid syntax\n"
     ]
    }
   ],
   "source": [
    "l = 0\n",
    "r = n - 1\n",
    "maxOnLeft = height[0]\n",
    "maxOnRight = height[r]\n",
    "total = 0\n",
    "while(l < r) {\n",
    "    if (height[l] < height[r]) {\n",
    "        \n",
    "        if (height[l] >maxOnLeft ) {\n",
    "            maxOnLeft = height[l]\n",
    "        } else {\n",
    "            total += (maxOnLeft - height[l])\n",
    "        }\n",
    "        l++\n",
    "    } else {\n",
    "\n",
    "        if (height[r] >maxOnRight ) {\n",
    "            maxOnRight = height[r]\n",
    "        } else {\n",
    "            total += (maxOnRight - height[r])\n",
    "        }\n",
    "        r--\n",
    "    }\n",
    "}\n",
    "Arr 1 2 1 3 2 4 1\n",
    "    0 1 2 3 4 5 6\n",
    "\n",
    "l = 0   1 2 3 4 5\n",
    "r = 6 5\n",
    "L = 3\n",
    "R = 1 \n",
    "\n",
    "total = 0 + 0 + 1 + 1\n"
   ]
  },
  {
   "cell_type": "code",
   "execution_count": null,
   "id": "d1c54e0d",
   "metadata": {},
   "outputs": [],
   "source": []
  },
  {
   "cell_type": "markdown",
   "id": "5f3b38c7",
   "metadata": {},
   "source": [
    "**Question-3**  \n",
    "https://leetcode.com/problems/longest-palindrome/"
   ]
  },
  {
   "cell_type": "code",
   "execution_count": null,
   "id": "6aa7cc38",
   "metadata": {},
   "outputs": [],
   "source": [
    "TC: O(N)\n",
    "SC: O(N)\n",
    "\n",
    "class Solution {\n",
    "public:\n",
    "    int longestPalindrome(string s) {\n",
    "        \"abbbbbaccc\"\n",
    "        a : 2\n",
    "        b : 6\n",
    "        c : 4\n",
    "\n",
    "        // count frequency\n",
    "        freqmap <char, int> \n",
    "        for (i = 0; i < s.size(); i++) {\n",
    "            if c in freqmap:\n",
    "                freqmap[c] += 1\n",
    "            else \n",
    "                freqmap[c] = 1\n",
    "        }\n",
    "\n",
    "        totalLen = 0\n",
    "        oddChar = 0\n",
    "        for key, value in freqmap:\n",
    "            if value % 2 == 0:\n",
    "                totalLen += value\n",
    "            else:\n",
    "                totalLenn += value - 1\n",
    "                OddChar = 1\n",
    "\n",
    "        return totalLen + hasOddChar\n",
    "\n",
    "    }\n",
    "};"
   ]
  },
  {
   "cell_type": "code",
   "execution_count": null,
   "id": "ae82c714",
   "metadata": {},
   "outputs": [],
   "source": []
  },
  {
   "cell_type": "markdown",
   "id": "676b72a3",
   "metadata": {},
   "source": [
    "```Python\n",
    "class Solution:\n",
    "    def longestPalindrome(self, s: str) -> int:\n",
    "        freq = {}\n",
    "        res = 0\n",
    "        for i in s:\n",
    "            if i in freq:\n",
    "                freq[i] += 1\n",
    "            else:\n",
    "                freq[i] = 1\n",
    "                \n",
    "        odd_char = ''\n",
    "        for k, v in freq.items():\n",
    "            if v%2 == 1:\n",
    "                v = v-1\n",
    "                odd_char = k\n",
    "            \n",
    "            res += (k*v)\n",
    "        print('res = ', res, 'odd_char = ', odd_char)\n",
    "               \n",
    "        return res + odd_char + res[::-1]\n",
    "    \n",
    "class Solution:\n",
    "    def longestPalindrome(self, s: str) -> int:\n",
    "        d = {}\n",
    "        for i in s:\n",
    "            if i in d:\n",
    "                d[i] += 1\n",
    "            else:\n",
    "                d[i] = 1\n",
    "\n",
    "        odd_included = False\n",
    "        l = 0\n",
    "        for i in d:\n",
    "            val = d[i]//2\n",
    "            l += val*2\n",
    "            if(odd_included==False and d[i]%2):\n",
    "                odd_included = True\n",
    "                l += 1\n",
    "        \n",
    "        return(l)\n",
    " \n",
    "   \n",
    "```"
   ]
  },
  {
   "cell_type": "code",
   "execution_count": 14,
   "id": "c68a9ecd",
   "metadata": {},
   "outputs": [
    {
     "name": "stdout",
     "output_type": "stream",
     "text": [
      "res =  abbd odd_char =  c\n"
     ]
    },
    {
     "data": {
      "text/plain": [
       "'abbdcdbba'"
      ]
     },
     "execution_count": 14,
     "metadata": {},
     "output_type": "execute_result"
    }
   ],
   "source": [
    "def longestPalindrome(s: str) -> int:\n",
    "    freq = {}\n",
    "    for i in s:\n",
    "        if i in freq:\n",
    "            freq[i] += 1\n",
    "        else:\n",
    "            freq[i] = 1\n",
    "\n",
    "    res = ''\n",
    "    odd_char = ''\n",
    "    for k, v in freq.items():\n",
    "        if v%2 == 1:\n",
    "            v = v-1\n",
    "            odd_char = k\n",
    "\n",
    "        res += (k*(v//2))\n",
    "    print('res = ', res, 'odd_char = ', odd_char)\n",
    "\n",
    "    return res + odd_char + res[::-1]\n",
    "    \n",
    "longestPalindrome('abbbcdaabd')"
   ]
  },
  {
   "cell_type": "code",
   "execution_count": 13,
   "id": "00183177",
   "metadata": {},
   "outputs": [
    {
     "data": {
      "text/plain": [
       "'a'"
      ]
     },
     "execution_count": 13,
     "metadata": {},
     "output_type": "execute_result"
    }
   ],
   "source": []
  },
  {
   "cell_type": "code",
   "execution_count": null,
   "id": "aa65d27c",
   "metadata": {},
   "outputs": [],
   "source": []
  },
  {
   "cell_type": "code",
   "execution_count": null,
   "id": "4e1ae1ee",
   "metadata": {},
   "outputs": [],
   "source": [
    "n = len(nums)\n",
    "k = k % len(nums)\n",
    "\n",
    "l,r = 0,n-k-1\n",
    "while l<r:\n",
    "    nums[l],nums[r] = nums[r],nums[l]\n",
    "    l,r = l + 1,r-1\n",
    "\n",
    "l,r = (n-k),len(nums)-1\n",
    "while l<r:\n",
    "    nums[l],nums[r] = nums[r],nums[l]\n",
    "    l,r = l+1,r-1\n",
    "\n",
    "l,r = 0,len(nums)-1\n",
    "while l<r:\n",
    "    nums[l],nums[r] = nums[r],nums[l]\n",
    "    l,r = l + 1,r-1\n",
    "return nums\n"
   ]
  }
 ],
 "metadata": {
  "kernelspec": {
   "display_name": "Python 3",
   "language": "python",
   "name": "python3"
  },
  "language_info": {
   "codemirror_mode": {
    "name": "ipython",
    "version": 3
   },
   "file_extension": ".py",
   "mimetype": "text/x-python",
   "name": "python",
   "nbconvert_exporter": "python",
   "pygments_lexer": "ipython3",
   "version": "3.8.8"
  }
 },
 "nbformat": 4,
 "nbformat_minor": 5
}
