{
 "cells": [
  {
   "cell_type": "markdown",
   "id": "9ce75fee",
   "metadata": {},
   "source": [
    "# BST"
   ]
  },
  {
   "cell_type": "markdown",
   "id": "27dad7ae",
   "metadata": {},
   "source": [
    "Binary Search Tree:\n",
    "- Search: searching efficient: Best Case - O(log N); Worst Case - O(N)\n",
    "- Left, root, Right: Left < root < Right\n",
    "- Inorder Traversal of a BST gives data in sorted order.\n",
    "\n",
    "- TC of finding min and max element in a BST\n",
    "   - Height : O(H)\n",
    "   - Numberr of nodes: Balanced O(log N)  Skew: O(N)"
   ]
  },
  {
   "cell_type": "markdown",
   "id": "2af63bea",
   "metadata": {},
   "source": [
    "**Balanced BST**  \n",
    "- Uses a balancing algorithm to keep left height and right height of the tree balanced\n",
    "- Ex: RB Tree, AVL Tree\n",
    "- Gives worst, avg case complexity = O(log N)"
   ]
  },
  {
   "cell_type": "code",
   "execution_count": null,
   "id": "1f3d955c",
   "metadata": {},
   "outputs": [],
   "source": []
  },
  {
   "cell_type": "markdown",
   "id": "a89292c2",
   "metadata": {},
   "source": [
    "**C++** \n",
    "- std map vs unordered map\n",
    "- set vs unordered set"
   ]
  },
  {
   "cell_type": "code",
   "execution_count": null,
   "id": "a8e500ca",
   "metadata": {},
   "outputs": [],
   "source": []
  },
  {
   "cell_type": "markdown",
   "id": "1ce25cf6",
   "metadata": {},
   "source": [
    "**Search a value in BST**    \n",
    "https://leetcode.com/problems/search-in-a-binary-search-tree/"
   ]
  },
  {
   "cell_type": "markdown",
   "id": "22a49095",
   "metadata": {},
   "source": [
    "```Java\n",
    "public TreeNode searchBST(TreeNode root, int val) {\n",
    "        if(root == null) return null;\n",
    "        if(root.val == val)\n",
    "            return root;\n",
    "    \n",
    "        if(root.val > val){\n",
    "            return searchBST(root.left,val);\n",
    "        } else  {\n",
    "            return searchBST(root.right,val);\n",
    "        }\n",
    "    }\n",
    "```"
   ]
  },
  {
   "cell_type": "markdown",
   "id": "8cf5ac4e",
   "metadata": {},
   "source": [
    "```C++\n",
    "class Solution {\n",
    "public:\n",
    "    TreeNode* searchBST(TreeNode* root, int val) {\n",
    "        while(root != NULL) {\n",
    "            if (val > root->val) \n",
    "                root = root->right;\n",
    "            else if (val < root->val)\n",
    "                root = root->left;\n",
    "            else\n",
    "                return root;\n",
    "        }\n",
    "        return nullptr;\n",
    "    }\n",
    "};\n",
    "```"
   ]
  },
  {
   "cell_type": "markdown",
   "id": "1e4bd1ce",
   "metadata": {},
   "source": [
    "```JAVA\n",
    "public TreeNode searchBST(TreeNode root, int val) {\n",
    "        \n",
    "        if(root==null)\n",
    "        return null;\n",
    "\n",
    "        if(root.val == val)\n",
    "        return root;\n",
    "\n",
    "        if(val<root.val)\n",
    "        return searchBST(root.left,val);\n",
    "        \n",
    "        if(val>root.val)\n",
    "        return searchBST(root.right,val);\n",
    "\n",
    "        return null;\n",
    "    }\n",
    "```"
   ]
  },
  {
   "cell_type": "code",
   "execution_count": null,
   "id": "3cabab29",
   "metadata": {},
   "outputs": [],
   "source": []
  },
  {
   "cell_type": "code",
   "execution_count": null,
   "id": "24f35113",
   "metadata": {},
   "outputs": [],
   "source": []
  },
  {
   "cell_type": "code",
   "execution_count": null,
   "id": "1a73b9fd",
   "metadata": {},
   "outputs": [],
   "source": []
  },
  {
   "cell_type": "markdown",
   "id": "3eddbe97",
   "metadata": {},
   "source": [
    "**Check if tree is BST**  \n",
    "https://leetcode.com/problems/validate-binary-search-tree/"
   ]
  },
  {
   "cell_type": "markdown",
   "id": "96c88483",
   "metadata": {},
   "source": [
    "**Inorder Traversal**   \n",
    "```JAVA\n",
    "    Integer prev;\n",
    "    public boolean sol (TreeNode root){\n",
    "        if(root == null) return true;\n",
    "        \n",
    "        Boolean left = sol(root.left);\n",
    "        if(prev == null){\n",
    "            prev = root.val;\n",
    "        } else if(prev >= root.val)\n",
    "            return false;\n",
    "        \n",
    "        prev = root.val;\n",
    "        Boolean right = sol(root.right);\n",
    "        \n",
    "        return left && right;\n",
    "\n",
    "    }\n",
    "```"
   ]
  },
  {
   "cell_type": "markdown",
   "id": "4f0ad08c",
   "metadata": {},
   "source": [
    "**Recursive Inorder(JAVA)**  \n",
    "```JAVA\n",
    "public boolean isValidBST(TreeNode root) {\n",
    "        isValidBST(root, Integer.MIN_VALUE, Integer.MAX_VALUE);\n",
    "    }\n",
    "    \n",
    "     public boolean isValidBST(TreeNode root, long minVal, long maxVal) {\n",
    "         if(root == null) {\n",
    "             return true;\n",
    "         }\n",
    "\n",
    "         if(root.val <= minVal || root.val >= maxVal) {\n",
    "             return false;\n",
    "         }\n",
    "         \n",
    "         return isValidBST(root.left, minVal, root.val) && isValidBST(root.right, root.val, maxVal);\n",
    "     }\n",
    "```"
   ]
  },
  {
   "cell_type": "markdown",
   "id": "59895d00",
   "metadata": {},
   "source": [
    "**Inorrder Traversal(C++)**  \n",
    "```C++\n",
    "class Solution {\n",
    "public:\n",
    "    vector<int> node_vals;\n",
    "    \n",
    "    void inorder(TreeNode* root) {\n",
    "        if (root->left) \n",
    "            inorder(root->left);\n",
    "        \n",
    "        node_vals.push_back(root->val);\n",
    "\n",
    "        if (root->right)\n",
    "            inorder(root->right); \n",
    "    }\n",
    "    \n",
    "    bool isValidBST(TreeNode* root) {\n",
    "        inorder(root);\n",
    "        \n",
    "        for (int i=0; i<node_vals.size()-1; i++) {\n",
    "            if (node_vals[i] >= node_vals[i+1])\n",
    "                return false; \n",
    "        }\n",
    "\n",
    "        return true;\n",
    "    }\n",
    "\n",
    "};\n",
    "```"
   ]
  },
  {
   "cell_type": "markdown",
   "id": "75aa1d6f",
   "metadata": {},
   "source": [
    "## Inorder traversal and BST"
   ]
  },
  {
   "cell_type": "markdown",
   "id": "f778e214",
   "metadata": {},
   "source": [
    "**Kth smallest element**  \n",
    "https://leetcode.com/problems/kth-smallest-element-in-a-bst/"
   ]
  },
  {
   "cell_type": "markdown",
   "id": "6ea203d7",
   "metadata": {},
   "source": [
    "```python\n",
    "def kthSmallest(self, root: Optional[TreeNode], k: int) -> int:\n",
    "        res= [ ]\n",
    "        def helper(root):\n",
    "            if root == None:return \n",
    "            helper(root.left)\n",
    "            res.append(root.val)\n",
    "            helper(root.right)\n",
    "        helper(root)\n",
    "        return res[k-1]\n",
    "    \n",
    "def kthSmallest(self, root: Optionaml[TreeNode], k: int) -> int:\n",
    "        stack = [ ]\n",
    "        cur  = root\n",
    "        while cur or stack:\n",
    "            while cur:\n",
    "                stack.append(cur)\n",
    "                cur = cur.left\n",
    "            cur = stack.pop()\n",
    "            k -= 1\n",
    "            if k == 0:\n",
    "                return cur.val\n",
    "            cur = cur.right\n",
    "```"
   ]
  },
  {
   "cell_type": "markdown",
   "id": "7b05dda8",
   "metadata": {},
   "source": [
    "```java\n",
    "    int curr = 0;\n",
    "    int ans = 0;\n",
    "    public void sol(TreeNode root , int k ){\n",
    "        if(root == null) return;\n",
    "        \n",
    "        sol(root.left,k);\n",
    "        curr++;\n",
    "        if(curr==k) {\n",
    "            ans = root.val;\n",
    "            return;\n",
    "        } \n",
    "        \n",
    "        sol(root.right,k);\n",
    "\n",
    "    }\n",
    "```"
   ]
  },
  {
   "cell_type": "markdown",
   "id": "ba9c0f77",
   "metadata": {},
   "source": [
    "```C++\n",
    "class Solution {\n",
    "public:\n",
    "\n",
    "    vector<int> node_vals;\n",
    "    void inorder(TreeNode* root) {\n",
    "        if (root->left) \n",
    "            inorder(root->left);\n",
    "\n",
    "        node_vals.push_back(root->val);b\n",
    "    \n",
    "        if (root->right)\n",
    "            inorder(root->right); \n",
    "    }\n",
    "\n",
    "    int kthSmallest(TreeNode* root, int k) {\n",
    "        inorder(root);\n",
    "        return node_vals[k-1];\n",
    "    }\n",
    "};\n",
    "```"
   ]
  },
  {
   "cell_type": "code",
   "execution_count": null,
   "id": "31e773be",
   "metadata": {},
   "outputs": [],
   "source": []
  },
  {
   "cell_type": "markdown",
   "id": "6382c9bb",
   "metadata": {},
   "source": [
    "**2 Sum in BST**   \n",
    "https://leetcode.com/problems/two-sum-iv-input-is-a-bst/m\n",
    "1. All data in hashmap: TC: O(N) SC: O(N)\n",
    "2. Inorder-> put in array -> solve using 2 pointers: TC: O(N) SC:O(N)\n",
    "3. Traverse Each node -> Find (k-curr.val) in tree  TC: O(N log N) SC: O(log N)\n"
   ]
  },
  {
   "cell_type": "code",
   "execution_count": null,
   "id": "dd1711d5",
   "metadata": {},
   "outputs": [],
   "source": []
  },
  {
   "cell_type": "markdown",
   "id": "9c19ee7a",
   "metadata": {},
   "source": [
    "**DIY**  \n",
    "LCA: Lowest common ancestor  \n",
    "https://leetcode.com/problems/lowest-common-ancestor-of-a-binary-tree/"
   ]
  },
  {
   "cell_type": "markdown",
   "id": "00981fe2",
   "metadata": {},
   "source": [
    "```C++\n",
    "class Solution {\n",
    "public:\n",
    "    TreeNode* lowestCommonAncestor(TreeNode* root, TreeNode* p, TreeNode* q) {\n",
    "        if (root == NULL) return NULL;\n",
    "\n",
    "        if (root == p || root == q) {\n",
    "            return root;\n",
    "        }\n",
    "\n",
    "        TreeNode* left = lowestCommonAncestor(root->left, p, q);\n",
    "        TreeNode* right = lowestCommonAncestor(root->right, p, q);\n",
    "\n",
    "        if (left && right) return root;\n",
    "        if (left) return left;\n",
    "        if (right) return right;\n",
    "\n",
    "        return NULL;\n",
    "    }\n",
    "};\n",
    "\n",
    "\n",
    "class Solution {\n",
    "public:\n",
    "    TreeNode* lowestCommonAncestor(TreeNode* root, TreeNode* p, TreeNode* q) {\n",
    "        if (root == NULL) return NULL;\n",
    "\n",
    "        if (root == p || root == q) {\n",
    "            return root;\n",
    "        }\n",
    "\n",
    "        TreeNode* left = lowestCommonAncestor(root->left, p, q);\n",
    "        TreeNode* right = lowestCommonAncestor(root->right, p, q);\n",
    "\n",
    "        if (left && right) return root;\n",
    "        return left || right;\n",
    "    }\n",
    "};\n",
    "```"
   ]
  },
  {
   "cell_type": "markdown",
   "id": "f93dc4a2",
   "metadata": {},
   "source": [
    "```Java\n",
    "public TreeNode sol(TreeNode root , TreeNode p , TreeNode q){\n",
    "        if(root == null) return null;\n",
    "        if(root.val == p.val || root.val == q.val) return root;\n",
    "\n",
    "        TreeNode left = sol(root.left , p, q);\n",
    "        TreeNode right = sol( root.right , p , q);\n",
    "        \n",
    "        if(left != null && right != null) return root;\n",
    "        if(left != null) return left;\n",
    "        return right;\n",
    "    }\n",
    "```"
   ]
  },
  {
   "cell_type": "code",
   "execution_count": null,
   "id": "73482c9f",
   "metadata": {},
   "outputs": [],
   "source": []
  },
  {
   "cell_type": "markdown",
   "id": "8f2ea2a3",
   "metadata": {},
   "source": [
    "**LCA in BST**  \n",
    "https://leetcode.com/problems/lowest-common-ancestor-of-a-binary-search-tree/"
   ]
  },
  {
   "cell_type": "markdown",
   "id": "d4560717",
   "metadata": {},
   "source": [
    "```Python\n",
    "class Solution:\n",
    "    def lowestCommonAncestor(self, root: 'TreeNode', p: 'TreeNode', q: 'TreeNode') -> 'TreeNode':\n",
    "\n",
    "        if root == None:\n",
    "            return\n",
    "\n",
    "        if (root.val > p.val  and root.val <= q.val) or (root.val <= p.val  and root.val > q.val) or (root.val == p.val or root.val == q.val):\n",
    "            return root\n",
    "        \n",
    "        left = self.lowestCommonAncestor(root.left, p, q)\n",
    "        right = self.lowestCommonAncestor(root.right, p, q)\n",
    "\n",
    "        return left or right\n",
    "```"
   ]
  },
  {
   "cell_type": "markdown",
   "id": "4d20ec98",
   "metadata": {},
   "source": [
    "```C++\n",
    "class Solution {\n",
    "public:\n",
    "    TreeNode* lowestCommonAncestor(TreeNode* root, TreeNode* p, TreeNode* q) {\n",
    "        if (root == NULL) return NULL;\n",
    "\n",
    "        if (root == p || root == q) {\n",
    "            return root;\n",
    "        }\n",
    "\n",
    "        if (root->val > p->val && root->val > q->val)\n",
    "            return lowestCommonAncestor(root->left, p, q);\n",
    "        if (root->val < p->val && root->val < q->val)\n",
    "            return lowestCommonAncestor(root->right, p, q);\n",
    "        else\n",
    "            return root;\n",
    "\n",
    "        return NULL;\n",
    "    }\n",
    "};\n",
    "```"
   ]
  },
  {
   "cell_type": "code",
   "execution_count": null,
   "id": "a1ee9dc2",
   "metadata": {},
   "outputs": [],
   "source": []
  },
  {
   "cell_type": "markdown",
   "id": "852c27d4",
   "metadata": {},
   "source": [
    "1. Find largest value less than or equal to k\n",
    "1. Check if tree is balanced\n",
    "https://leetcode.com/problems/balanced-binary-tree/"
   ]
  },
  {
   "cell_type": "code",
   "execution_count": null,
   "id": "da1c0fa6",
   "metadata": {},
   "outputs": [],
   "source": []
  }
 ],
 "metadata": {
  "kernelspec": {
   "display_name": "Python 3",
   "language": "python",
   "name": "python3"
  },
  "language_info": {
   "codemirror_mode": {
    "name": "ipython",
    "version": 3
   },
   "file_extension": ".py",
   "mimetype": "text/x-python",
   "name": "python",
   "nbconvert_exporter": "python",
   "pygments_lexer": "ipython3",
   "version": "3.8.8"
  }
 },
 "nbformat": 4,
 "nbformat_minor": 5
}
