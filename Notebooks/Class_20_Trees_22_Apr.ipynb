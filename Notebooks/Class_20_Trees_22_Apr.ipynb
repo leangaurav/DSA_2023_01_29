{
 "cells": [
  {
   "cell_type": "markdown",
   "id": "b95afe7c",
   "metadata": {},
   "source": [
    "# Tree"
   ]
  },
  {
   "cell_type": "markdown",
   "id": "65426a52",
   "metadata": {},
   "source": [
    "Non linear data structure, composed of nodes.  \n",
    "Where nodes have a parent , child relationship.  "
   ]
  },
  {
   "cell_type": "markdown",
   "id": "db3576af",
   "metadata": {},
   "source": [
    "**What is a tree**  \n",
    "```\n",
    "```"
   ]
  },
  {
   "cell_type": "markdown",
   "id": "9322dbee",
   "metadata": {},
   "source": [
    "**Binary Tree**  \n",
    "- Node, Root, Leaf, Parent, Child\n",
    "- Sub tree\n",
    "- Calculate number of nodes in a perfect binary tree\n",
    "- Calculate min height, given number of nodes"
   ]
  },
  {
   "cell_type": "code",
   "execution_count": null,
   "id": "e0ae4ada",
   "metadata": {},
   "outputs": [],
   "source": []
  },
  {
   "cell_type": "markdown",
   "id": "225a2811",
   "metadata": {},
   "source": [
    "**Binary and n-ary trees**  \n"
   ]
  },
  {
   "cell_type": "markdown",
   "id": "7c75e775",
   "metadata": {},
   "source": [
    " "
   ]
  },
  {
   "cell_type": "markdown",
   "id": "9b272274",
   "metadata": {},
   "source": [
    "**Skew Tree**  \n",
    "- Depth/height of skew tree\n",
    "- Worst case complexity ?"
   ]
  },
  {
   "cell_type": "markdown",
   "id": "721bbcba",
   "metadata": {},
   "source": [
    " "
   ]
  },
  {
   "cell_type": "markdown",
   "id": "c599b638",
   "metadata": {},
   "source": [
    "**Representation of a Tree**  \n",
    "- Linked\n",
    "- Array\n"
   ]
  },
  {
   "cell_type": "markdown",
   "id": "c05a3e50",
   "metadata": {},
   "source": [
    "\n",
    "**Full binary tree:** every node has either 0 or 2 children\n",
    "```\n",
    "Y\n",
    "   1\n",
    "  / \\\n",
    " 2   3\n",
    " \n",
    "Y\n",
    "      1\n",
    "     / \\\n",
    "    2   3\n",
    "   / \\\n",
    "  4   5\n",
    "  \n",
    "N\n",
    "      1\n",
    "     / \\\n",
    "    2   3\n",
    "   /\n",
    "  4  \n",
    "  \n",
    "Y\n",
    "      1\n",
    "     / \\\n",
    "    2   3\n",
    "       / \\\n",
    "      4   5\n",
    "  \n",
    "N\n",
    "      1\n",
    "     / \\\n",
    "    2   3\n",
    "         \\\n",
    "          4  \n",
    "```\n",
    "**Complete binary tree:** every level, except possibly the last is completely filled. Last level nodes are filled from the left to right. Can be represented using arrays. Ex: binary heap.\n",
    "```\n",
    "Y\n",
    "  1\n",
    " / \\\n",
    "2   3\n",
    " \n",
    "Y\n",
    "      1\n",
    "     / \\\n",
    "    2   3\n",
    "   / \\\n",
    "  4   5\n",
    "  \n",
    "Y\n",
    "      1\n",
    "     / \\\n",
    "    2   3\n",
    "   /\n",
    "  4  \n",
    "  \n",
    "N\n",
    "      1\n",
    "     / \\\n",
    "    2   3\n",
    "       / \\\n",
    "      4   5\n",
    "  \n",
    "N\n",
    "      1\n",
    "     / \\\n",
    "    2   3\n",
    "       /\n",
    "      4  \n",
    "   \n",
    "```\n",
    "**Perfect binary tree:** all interior nodes have two children and all leaves have the same depth or same level. (2^h -1) nodes. All levels are completely filled.\n"
   ]
  },
  {
   "cell_type": "markdown",
   "id": "04cfc83e",
   "metadata": {},
   "source": [
    " "
   ]
  },
  {
   "cell_type": "markdown",
   "id": "64de9f0a",
   "metadata": {},
   "source": [
    "**Max Number of nodes in a tree**  "
   ]
  },
  {
   "cell_type": "markdown",
   "id": "9c2d2a8f",
   "metadata": {},
   "source": [
    "  "
   ]
  },
  {
   "cell_type": "markdown",
   "id": "5eebc950",
   "metadata": {},
   "source": [
    "**Linked representation of tree **\n",
    "\n",
    "```\n",
    "C++ \n",
    "struct Node {\n",
    "    int data;\n",
    "    Node * left;\n",
    "    Node * right;\n",
    "};\n",
    "\n",
    "\n",
    "JAVA\n",
    "class Node {\n",
    "    public int data;\n",
    "    public Node left;\n",
    "    public Node right;\n",
    "    \n",
    "    public Node(int data, Node left=null, Node right=null) {\n",
    "        this.data= data;\n",
    "        this.left = left;\n",
    "        this.righ = right;\n",
    "    }\n",
    "}\n",
    "\n",
    "\n",
    "PYTHON\n",
    "\n",
    "class Node:\n",
    "    def __init__(self, data, left=None, right=None):\n",
    "        self.data = data\n",
    "        self.left = left\n",
    "        self.right = right\n",
    "\n",
    "```"
   ]
  },
  {
   "cell_type": "markdown",
   "id": "ae89b327",
   "metadata": {},
   "source": []
  },
  {
   "cell_type": "code",
   "execution_count": null,
   "id": "3bf05f81",
   "metadata": {},
   "outputs": [],
   "source": []
  },
  {
   "cell_type": "code",
   "execution_count": null,
   "id": "2753fa6b",
   "metadata": {},
   "outputs": [],
   "source": [
    "```C++\n",
    "\n",
    "struct Node {\n",
    "    int data;\n",
    "    Node *left;\n",
    "    Node *right;\n",
    "};\n",
    "\n",
    "Node* newNode(int data, Node* left=NULL, Node* right=NULL) {\n",
    "    Node *temp = new Node;\n",
    "    \n",
    "    temp->data = data;\n",
    "    temp->left = left;\n",
    "    temp->right = right;\n",
    "    \n",
    "    return temp;\n",
    "}\n",
    "\n",
    "// rLR - recursive\n",
    "void printTree(Node *root) {\n",
    "    if (root == NULL) return;\n",
    "    \n",
    "    cout << root->data << \" \";\n",
    "    printTree(root->left);\n",
    "    printTree(root->right);\n",
    "}\n",
    "\n",
    "int main() {\n",
    "    \n",
    "    Node *n1 = newNode(20);\n",
    "//    cout << n1->data << \" l=\" << n1->left << \" r=\" << n1->right;\n",
    "    \n",
    "    Node *n2 = newNode(30);\n",
    "    Node *n3 = newNode(10, n1, n2);\n",
    "    \n",
    "         10\n",
    "        /  \\\n",
    "       20  30\n",
    "             \n",
    "    \n",
    "    printTree(n3);\n",
    "}\n",
    "\n",
    "```"
   ]
  },
  {
   "cell_type": "markdown",
   "id": "42d50dee",
   "metadata": {},
   "source": [
    "**Pre-ORder traversal of tree**  \n",
    "```C++\n",
    "\n",
    "struct Node {\n",
    "    int data;\n",
    "    Node *left;\n",
    "    Node *right;\n",
    "};\n",
    "\n",
    "Node* newNode(int data, Node* left=NULL, Node* right=NULL) {\n",
    "    Node *temp = new Node;\n",
    "    \n",
    "    temp->data = data;\n",
    "    temp->left = left;\n",
    "    temp->right = right;\n",
    "    \n",
    "    return temp;\n",
    "}\n",
    "\n",
    "// rLR - recursive\n",
    "void preOrder(Node *root) {\n",
    "    if (root == NULL) return;\n",
    "    \n",
    "    cout << root->data << \" \";\n",
    "    preOrder(root->left);\n",
    "    preOrder(root->right);\n",
    "}\n",
    "\n",
    "// LrR - recursive\n",
    "void inOrder(Node *root) {\n",
    "    if (root == NULL) return;\n",
    "    \n",
    "    inOrder(root->left);\n",
    "    cout << root->data << \" \";\n",
    "    inOrder(root->right);\n",
    "}\n",
    "\n",
    "// LRr - recursive\n",
    "void postOrder(Node *root) {\n",
    "    if (root == NULL) return;\n",
    "    \n",
    "    postOrder(root->left);\n",
    "    postOrder(root->right);\n",
    "    cout << root->data << \" \";\n",
    "}\n",
    "\n",
    "int main() {\n",
    "// LRr\n",
    "//     10\n",
    "//    /  \\\n",
    "//   20  30\n",
    "//  / \\\n",
    "// 40  50\n",
    "//        \\\n",
    "//        60\n",
    "    \n",
    "    // inOrder\n",
    "    // postOrder\n",
    "    Node *root = newNode(10, newNode(20, newNode(40), newNode(50, NULL, newNode(60)))   , newNode(30) );\n",
    "    preOrder(root);\n",
    "}\n",
    "/*\n",
    "                                                   preOrder(10)\n",
    "                                               /                  \\\n",
    "                            preOrder(20)                                    preOrder(30)\n",
    "                          /               \\                                     /       \\\n",
    "              preOrder(40)                   preOrder(50)              preOrder(NULL)   preOrder(NULL)\n",
    "               /       \\                         /       \\\n",
    "     preOrder(NULL)  preOrder(NULL)   preOrder(NULL)   preOrder(60)\n",
    "                                                           /       \\\n",
    "                                                  preOrder(NULL)   preOrder(NULL)\n",
    "  \n",
    "   pre - 10 20 40 50 60 30\n",
    "   in  - 40 20 50 60 10 30  \n",
    "   post- 40 60 50 20 30 10 \n",
    "*/\n",
    "```"
   ]
  },
  {
   "cell_type": "code",
   "execution_count": null,
   "id": "38bda5c2",
   "metadata": {},
   "outputs": [],
   "source": []
  },
  {
   "cell_type": "markdown",
   "id": "f1894dff",
   "metadata": {},
   "source": [
    "**Types of traversal of a tree**  \n",
    "\n",
    "Depth order: \n",
    "- rLR : pre order\n",
    "- LrR : in order\n",
    "- LRr : post order\n",
    "\n",
    "TC: O(N)\n",
    "SC : O(depth of tree)\n",
    "\n",
    "Level Order   \n",
    "- L->R (default)\n",
    "- R->L\n",
    "\n",
    "TC: O(N)  \n",
    "SC: ?"
   ]
  },
  {
   "cell_type": "code",
   "execution_count": null,
   "id": "016b2c69",
   "metadata": {},
   "outputs": [],
   "source": [
    "DFS = Depth First Search -> Stack  \n",
    "BFS = Breadth First Search -> Queue"
   ]
  },
  {
   "cell_type": "code",
   "execution_count": null,
   "id": "cdfc7a6a",
   "metadata": {},
   "outputs": [],
   "source": []
  },
  {
   "cell_type": "markdown",
   "id": "c6de8fbf",
   "metadata": {},
   "source": [
    "##  Height vs Depth  \n",
    "- Height: measured bottom up: Height of leaf node=0\n",
    "- Depth: measured top to bottom: Depth of root node=0\n",
    "\n",
    "Level=Depth (can start from 0/1)\n"
   ]
  },
  {
   "cell_type": "markdown",
   "id": "f6f7804e",
   "metadata": {},
   "source": [
    " "
   ]
  },
  {
   "cell_type": "markdown",
   "id": "e0fa4965",
   "metadata": {},
   "source": [
    "**Finding max depth of binary tree using recursion**  \n",
    "https://leetcode.com/problems/maximum-depth-of-binary-tree/"
   ]
  },
  {
   "cell_type": "markdown",
   "id": "ba55e026",
   "metadata": {},
   "source": [
    "**DIY**  \n",
    "https://leetcode.com/problems/minimum-depth-of-binary-tree/"
   ]
  },
  {
   "cell_type": "code",
   "execution_count": null,
   "id": "7c1149d9",
   "metadata": {},
   "outputs": [],
   "source": []
  },
  {
   "cell_type": "code",
   "execution_count": null,
   "id": "22081981",
   "metadata": {},
   "outputs": [],
   "source": []
  },
  {
   "cell_type": "markdown",
   "id": "c66284a4",
   "metadata": {},
   "source": [
    "**Question**  \n",
    "https://leetcode.com/problems/symmetric-tree/\n",
    "\n",
    "**DIY**  \n",
    "https://leetcode.com/problems/same-tree/"
   ]
  },
  {
   "cell_type": "code",
   "execution_count": null,
   "id": "e728bcaf",
   "metadata": {},
   "outputs": [],
   "source": []
  },
  {
   "cell_type": "markdown",
   "id": "9760b1c3",
   "metadata": {},
   "source": [
    "## Operations in a Tree  \n",
    "- Add\n",
    "- Remove \n",
    "- Traverse\n",
    "- Search\n",
    "    "
   ]
  },
  {
   "cell_type": "code",
   "execution_count": null,
   "id": "7db95934",
   "metadata": {},
   "outputs": [],
   "source": []
  },
  {
   "cell_type": "markdown",
   "id": "382b00f9",
   "metadata": {},
   "source": [
    "## Traversal of a tree"
   ]
  },
  {
   "cell_type": "markdown",
   "id": "4037c1f3",
   "metadata": {},
   "source": [
    "**Depth First Traversal, DFS = Stack**  \n",
    "- rLR\n",
    "- LrR\n",
    "- LRr\n",
    "\n"
   ]
  },
  {
   "cell_type": "markdown",
   "id": "e318fc10",
   "metadata": {},
   "source": [
    " "
   ]
  },
  {
   "cell_type": "markdown",
   "id": "aed0c32b",
   "metadata": {},
   "source": [
    "**Recursive implementation of DFS**  "
   ]
  },
  {
   "cell_type": "code",
   "execution_count": null,
   "id": "e7a44d3c",
   "metadata": {},
   "outputs": [],
   "source": []
  },
  {
   "cell_type": "markdown",
   "id": "3ff065f1",
   "metadata": {},
   "source": [
    "**Breadth First / Level Order Traversal, BFS = Queue**  \n"
   ]
  },
  {
   "cell_type": "code",
   "execution_count": null,
   "id": "a8b563d0",
   "metadata": {},
   "outputs": [],
   "source": []
  },
  {
   "cell_type": "code",
   "execution_count": null,
   "id": "ed4b765d",
   "metadata": {},
   "outputs": [],
   "source": []
  },
  {
   "cell_type": "code",
   "execution_count": null,
   "id": "1e084a87",
   "metadata": {},
   "outputs": [],
   "source": []
  }
 ],
 "metadata": {
  "kernelspec": {
   "display_name": "Python 3",
   "language": "python",
   "name": "python3"
  },
  "language_info": {
   "codemirror_mode": {
    "name": "ipython",
    "version": 3
   },
   "file_extension": ".py",
   "mimetype": "text/x-python",
   "name": "python",
   "nbconvert_exporter": "python",
   "pygments_lexer": "ipython3",
   "version": "3.8.8"
  }
 },
 "nbformat": 4,
 "nbformat_minor": 5
}
