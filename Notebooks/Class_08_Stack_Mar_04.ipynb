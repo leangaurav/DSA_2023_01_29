{
 "cells": [
  {
   "cell_type": "markdown",
   "id": "b2f28762",
   "metadata": {},
   "source": [
    "## Stack"
   ]
  },
  {
   "cell_type": "markdown",
   "id": "3a6b1805",
   "metadata": {},
   "source": [
    "LIFO: Last in First out.  \n",
    "\n",
    "Examples + terms:\n",
    "- Stack of plates, Stack trace\n",
    "- Stack overflow\n",
    "- Stack undeflow\n",
    "\n",
    "\n",
    "Operations:\n",
    "- push(): Add Data at the end/top\n",
    "- pop(): Remove data from the end/top\n",
    "- peek(): Look at the element at the top without removing it\n",
    "- empty()"
   ]
  },
  {
   "cell_type": "code",
   "execution_count": null,
   "id": "31e045ba",
   "metadata": {},
   "outputs": [],
   "source": []
  },
  {
   "cell_type": "code",
   "execution_count": null,
   "id": "73482ca2",
   "metadata": {},
   "outputs": [],
   "source": [
    "class Stack {\n",
    "    int arr[5];\n",
    "    int pos;\n",
    "    \n",
    "    public:\n",
    "        Stack() {\n",
    "           this->pos = -1; \n",
    "        }\n",
    "    \n",
    "        void push(int value) {\n",
    "            if (pos >= 5) {\n",
    "                // exception\n",
    "            }\n",
    "            \n",
    "            this->pos++;\n",
    "            this->arr[this->pos] = value;\n",
    "        }\n",
    "    \n",
    "    \n",
    "        int pop() {\n",
    "            if (pos == -1) {\n",
    "                // exception\n",
    "            }\n",
    "            \n",
    "            int value = this->arr[this->pos];\n",
    "            this->pos--;\n",
    "\n",
    "            return value;\n",
    "        }\n",
    "    \n",
    "        bool empty() {\n",
    "            return this->pos == -1;\n",
    "        }\n",
    "    \n",
    "        int peek() {\n",
    "            if (this->pos == -1) {\n",
    "                // exception\n",
    "            }\n",
    "            \n",
    "            return this->arr[this->pos];\n",
    "        }\n",
    "    \n",
    "};"
   ]
  },
  {
   "cell_type": "markdown",
   "id": "435a6d00",
   "metadata": {},
   "source": [
    "\n",
    "\n",
    "**C++**  \n",
    "Stack:\n",
    "- push()\n",
    "- pop()\n",
    "- top()\n",
    "- empty()\n",
    "\n",
    "  \n",
    "Stack using Vector:\n",
    "- push: push_back()\n",
    "- pop: pop_back()\n",
    "- peek: back()\n",
    "- empty: empty()"
   ]
  },
  {
   "cell_type": "code",
   "execution_count": null,
   "id": "41d666a3",
   "metadata": {},
   "outputs": [],
   "source": []
  },
  {
   "cell_type": "markdown",
   "id": "b105a23d",
   "metadata": {},
   "source": [
    "\n",
    "**Python**  \n",
    "\n",
    "Stack using []:\n",
    "- push: append()\n",
    "- pop: pop()\n",
    "- peek/top: a[-1]\n",
    "- empty: len(a) == 0"
   ]
  },
  {
   "cell_type": "code",
   "execution_count": null,
   "id": "fa0f2858",
   "metadata": {},
   "outputs": [],
   "source": []
  },
  {
   "cell_type": "markdown",
   "id": "ac0b2984",
   "metadata": {},
   "source": [
    " "
   ]
  },
  {
   "cell_type": "markdown",
   "id": "31d8344a",
   "metadata": {},
   "source": [
    "\n",
    "\n",
    "**Java**  \n",
    "Stack:\n",
    "- push()\n",
    "- pop()\n",
    "- peek()\n",
    "- empty()"
   ]
  },
  {
   "cell_type": "code",
   "execution_count": null,
   "id": "950464dc",
   "metadata": {},
   "outputs": [],
   "source": [
    "template <type T>\n",
    "class Stack {\n",
    "    \n",
    "    public:\n",
    "        void push_back(); # O(1)\n",
    "        void pop(); # O(1)\n",
    "        T peek(); # O(1)\n",
    "        bool empty(); # O(1)\n",
    "}"
   ]
  },
  {
   "cell_type": "markdown",
   "id": "83d5e5cf",
   "metadata": {},
   "source": [
    " "
   ]
  },
  {
   "cell_type": "markdown",
   "id": "f9d59e56",
   "metadata": {},
   "source": [
    "## Queue\n",
    "- FIFO: First in First out\n"
   ]
  },
  {
   "cell_type": "markdown",
   "id": "6a4f410e",
   "metadata": {},
   "source": [
    "**Queue**  \n",
    "- Enqueue: Insert/ Add /Push: O(1)\n",
    "- Dequeue: Remove/ Delete/ Pop: O(1)\n",
    "- Peek(): O(1)\n",
    "- Empty(): O(1)\n",
    "\n",
    "**Dequeue**\n",
    "- Circular Queue\n",
    "- Double Ended Queue "
   ]
  },
  {
   "cell_type": "code",
   "execution_count": null,
   "id": "f3e52176",
   "metadata": {},
   "outputs": [],
   "source": []
  },
  {
   "cell_type": "markdown",
   "id": "5254ca2b",
   "metadata": {},
   "source": [
    "**Question**  \n",
    "https://leetcode.com/problems/valid-parentheses/"
   ]
  },
  {
   "cell_type": "code",
   "execution_count": null,
   "id": "ec1ea9ef",
   "metadata": {},
   "outputs": [],
   "source": [
    "()[]{}   y\n",
    "{(){} (){} ([]){[][]{}}} y\n",
    "{(){} (){} (]){[][]{}}}[n\n",
    "()"
   ]
  },
  {
   "cell_type": "code",
   "execution_count": null,
   "id": "ada1283e",
   "metadata": {},
   "outputs": [],
   "source": [
    "S = stack\n",
    "\n",
    "for (i =0 ; i < brackets)"
   ]
  },
  {
   "cell_type": "markdown",
   "id": "a27bd7d1",
   "metadata": {},
   "source": [
    "TC: O(N)  \n",
    "SC: O(N)  \n",
    "```C++\n",
    "class Solution {\n",
    "public:\n",
    "    bool isValid(string s) {\n",
    "        \n",
    "        std::stack<char> brackets;\n",
    "\n",
    "        for (auto c: s) {\n",
    "            if (isOpen(c)) {\n",
    "                brackets.push(c);\n",
    "            } else {\n",
    "                if (brackets.empty()) {\n",
    "                    return false;\n",
    "                }\n",
    "                \n",
    "                char closingBracket = brackets.pop();\n",
    "                if(! isMatching(closingBracket, c))\n",
    "                    return false;\n",
    "                \n",
    "            }\n",
    "        }\n",
    "\n",
    "        return brackets.empty();\n",
    "\n",
    "    }\n",
    "\n",
    "    bool isOpen(char bracket) {\n",
    "        return bracket == '('  || bracket == '[' || bracket == '{';\n",
    "    }\n",
    "\n",
    "    bool isMatching(char open, char close) {\n",
    "        switch(open) {\n",
    "            case '(': return close  == ')';\n",
    "            \n",
    "            case '[': return close  == ']';\n",
    "            \n",
    "            case '{': return close  == '}';\n",
    "        }\n",
    "\n",
    "        return false;\n",
    "    }\n",
    "};\n",
    "```"
   ]
  },
  {
   "cell_type": "code",
   "execution_count": 1,
   "id": "11cdb0ff",
   "metadata": {},
   "outputs": [],
   "source": [
    "class Solution:\n",
    "    def isValid(self, s: str) -> bool:\n",
    "        res = []\n",
    "        for el in s:\n",
    "            if el in '({[':\n",
    "                res.append(el)\n",
    "            else:\n",
    "                if len(res) == 0:\n",
    "                    return False\n",
    "                top = res.pop()\n",
    "                if el == ')' and top != '(':\n",
    "                    return False\n",
    "                if el == '}' and top != '{':\n",
    "                    return False\n",
    "                if el == ']' and top != '[':\n",
    "                    return False\n",
    "        return len(res) == 0\n"
   ]
  },
  {
   "cell_type": "code",
   "execution_count": null,
   "id": "99b37b2a",
   "metadata": {},
   "outputs": [],
   "source": [
    "{[]}\n",
    "{[ }]"
   ]
  },
  {
   "cell_type": "code",
   "execution_count": null,
   "id": "61a86449",
   "metadata": {},
   "outputs": [],
   "source": []
  },
  {
   "cell_type": "markdown",
   "id": "6442e8e6",
   "metadata": {},
   "source": [
    "**Question**  \n",
    "Given an array of integers, return a result array where for each element, it is replaced with the next greater element on the right.\n",
    "\n",
    "1 3 4 3 5 2\n",
    "3 4 5 5 -1 -1\n",
    "\n",
    " 5  4  3  2  1\n",
    "-1 -1 -1 -1 -1\n",
    "\n",
    "**Brute Force**  \n",
    "- TC: O(N^2)\n",
    "- SC: O(1)\n",
    "\n",
    "**Stack R->L**\n",
    "\n",
    "i = len - 1\n",
    "stack = empty\n",
    "\n",
    "while( i >= 0 ) {\n",
    "    curr = arr[i]\n",
    "    \n",
    "    while (stack has a value which is < than curr) {\n",
    "        stack.pop()\n",
    "    }\n",
    "    \n",
    "    if (stack.empty()) {\n",
    "        res[i] = -1;\n",
    "    } else {\n",
    "        res[i] = stack.top();\n",
    "    }\n",
    "    \n",
    "    stack.push(curr);\n",
    "}\n",
    "\n",
    "Two approach:  \n",
    "- Value based (R->L)  \n",
    "- Index based (L->R)  \n",
    "\n",
    "```C++\n",
    "vector<int> nextGreaterElement(vector<int> data) {\n",
    "    stack<int> s;\n",
    "    \n",
    "    for(int i = data.size() - 1; i >= 0; i--) {\n",
    "        int curr  = data[i];\n",
    "        while(!s.empty() && s.top() < curr) s.pop();\n",
    "                                           \n",
    "        if (s.empty()) {\n",
    "             data[i] = -1;\n",
    "        } else {\n",
    "             data[i] = s.top();\n",
    "        }\n",
    "        s.push(curr);\n",
    "    }\n",
    "                                           \n",
    "    return data;\n",
    "}\n",
    "```"
   ]
  },
  {
   "cell_type": "code",
   "execution_count": null,
   "id": "0dc5b849",
   "metadata": {},
   "outputs": [],
   "source": [
    "\n",
    "\n"
   ]
  },
  {
   "cell_type": "code",
   "execution_count": null,
   "id": "bce7a940",
   "metadata": {},
   "outputs": [],
   "source": []
  },
  {
   "cell_type": "markdown",
   "id": "5ddb0009",
   "metadata": {},
   "source": [
    "**Question**  \n",
    "https://leetcode.com/problems/next-greater-element-i/ "
   ]
  },
  {
   "cell_type": "markdown",
   "id": "f5d57ea9",
   "metadata": {},
   "source": [
    "```C++\n",
    "class Solution {\n",
    "public:\n",
    "    vector<int> nextGreaterElement(vector<int>& nums1, vector<int>& nums2) {\n",
    "        \n",
    "        unordered_map<int, int> answers;\n",
    "        vector<int> result;\n",
    "        // run the next greater element algo and store results in hashmap\n",
    "        // O(nums2.length)\n",
    "\n",
    "        // for each element in nums1 lookup the answer in hashmap\n",
    "        for (auto num: nums1) { // O(nums1.length)\n",
    "            result.append(answers[num]); // O(1)\n",
    "        }\n",
    "    }\n",
    "};\n",
    "```"
   ]
  },
  {
   "cell_type": "code",
   "execution_count": null,
   "id": "c6514c2e",
   "metadata": {},
   "outputs": [],
   "source": []
  },
  {
   "cell_type": "code",
   "execution_count": null,
   "id": "e548141c",
   "metadata": {},
   "outputs": [],
   "source": []
  },
  {
   "cell_type": "markdown",
   "id": "a59e62a0",
   "metadata": {},
   "source": [
    "**Question**  \n",
    "https://leetcode.com/problems/minimum-add-to-make-parentheses-valid/"
   ]
  },
  {
   "cell_type": "code",
   "execution_count": null,
   "id": "5bcc3952",
   "metadata": {},
   "outputs": [],
   "source": [
    "class Solution:\n",
    "    def minAddToMakeValid(self, s: str) -> int:\n",
    "        ans = 0\n",
    "        open = 0\n",
    "\n",
    "        for c in s:\n",
    "            if c == '(':\n",
    "                open +=1\n",
    "            else:\n",
    "                if open == 0:\n",
    "                    ans += 1\n",
    "                else:\n",
    "                    open -=1\n",
    "        \n",
    "        return ans + open\n"
   ]
  },
  {
   "cell_type": "code",
   "execution_count": null,
   "id": "8455ef52",
   "metadata": {},
   "outputs": [],
   "source": [
    "class Solution {\n",
    "public:\n",
    "    int minAddToMakeValid(string s) {\n",
    "        \n",
    "        std::stack<char> brackets;\n",
    "        int ans = 0;\n",
    "        for (auto c: s) {\n",
    "            if (c == '(') {\n",
    "                brackets.push(c);\n",
    "            } else {\n",
    "                if (brackets.empty()) {\n",
    "                    ans += 1;\n",
    "                } else {\n",
    "                    brackets.pop();\n",
    "                }\n",
    "            }\n",
    "        }\n",
    "\n",
    "        return brackets.size() + ans;\n",
    "    }\n",
    "};"
   ]
  },
  {
   "cell_type": "markdown",
   "id": "899753a6",
   "metadata": {},
   "source": [
    "**Question**  \n",
    "https://leetcode.com/problems/next-greater-element-ii/"
   ]
  },
  {
   "cell_type": "code",
   "execution_count": null,
   "id": "68207506",
   "metadata": {},
   "outputs": [],
   "source": []
  },
  {
   "cell_type": "code",
   "execution_count": null,
   "id": "81e09c06",
   "metadata": {},
   "outputs": [],
   "source": []
  },
  {
   "cell_type": "code",
   "execution_count": null,
   "id": "a4aa7d25",
   "metadata": {},
   "outputs": [],
   "source": []
  },
  {
   "cell_type": "markdown",
   "id": "4cbaa04d",
   "metadata": {},
   "source": [
    "DIY:\n",
    "- Implement a queue using a array."
   ]
  },
  {
   "cell_type": "code",
   "execution_count": null,
   "id": "b1d21451",
   "metadata": {},
   "outputs": [],
   "source": []
  },
  {
   "cell_type": "code",
   "execution_count": null,
   "id": "25e991ef",
   "metadata": {},
   "outputs": [],
   "source": []
  }
 ],
 "metadata": {
  "kernelspec": {
   "display_name": "Python 3",
   "language": "python",
   "name": "python3"
  },
  "language_info": {
   "codemirror_mode": {
    "name": "ipython",
    "version": 3
   },
   "file_extension": ".py",
   "mimetype": "text/x-python",
   "name": "python",
   "nbconvert_exporter": "python",
   "pygments_lexer": "ipython3",
   "version": "3.8.8"
  }
 },
 "nbformat": 4,
 "nbformat_minor": 5
}
