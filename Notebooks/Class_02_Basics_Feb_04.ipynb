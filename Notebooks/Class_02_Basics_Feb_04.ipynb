{
 "cells": [
  {
   "cell_type": "markdown",
   "id": "30ce675d",
   "metadata": {},
   "source": [
    "LMS, Recording, Assignment\n",
    "\n",
    "Name, exp, language, \n",
    "Java \n",
    "JS\n",
    "Java\n",
    "JS\n",
    "Java\n",
    "Java\n",
    "C++\n",
    "Python\n",
    "Java \n",
    "Java"
   ]
  },
  {
   "cell_type": "markdown",
   "id": "cde3be5d",
   "metadata": {},
   "source": [
    "## Github Repo\n",
    "\n",
    "https://github.com/leangaurav/DSA_2023_01_29"
   ]
  },
  {
   "cell_type": "markdown",
   "id": "e8696723",
   "metadata": {},
   "source": [
    "# Some math"
   ]
  },
  {
   "cell_type": "markdown",
   "id": "9661cb7f",
   "metadata": {},
   "source": [
    "1. Sum of first n numbers\n",
    "1. Mean, median, mode\n",
    "1. Permutation Combinations\n",
    "1. Modulo arithmetic  \n",
    "    (A + B) mod C = (A mod C + B mod C) mod C  \n",
    "    (A * B) mod C = (A mod C * B mod C) mod C  \n",
    "    A^B mod C = ( (A mod C)^B ) mod C  "
   ]
  },
  {
   "cell_type": "markdown",
   "id": "4fa21f34",
   "metadata": {},
   "source": [
    "- Sum first n natural numbers: (n * (n+1))/2\n",
    "- Mean: Average (Sum of all no.s ) / (number of elements)\n",
    "- Median: Arrange data in ascending order: 50th percentile\n",
    "  - N is even: sum of middle two elements / 2\n",
    "  - N is odd: there's a middle element\n",
    "- Mode: most frequent element in data"
   ]
  },
  {
   "cell_type": "code",
   "execution_count": null,
   "id": "0d14b227",
   "metadata": {},
   "outputs": [],
   "source": []
  },
  {
   "cell_type": "markdown",
   "id": "5ebcc167",
   "metadata": {},
   "source": [
    "## Common Terms\n",
    "1. Pallindrome  \n",
    "   Reverse and original is same:  \n",
    "   12321 - y  \n",
    "   123 - n  \n",
    "   1221 - y  \n",
    "   abcba - y  \n",
    "   abba -y  \n",
    "   ab - N  \n",
    "   a - y  \n",
    "     \n",
    "1. Factorial  \n",
    "   5! =  5 * 4 * 3 * 2 * 1  \n",
    "   N! = 1 * 2 * ... N-1 * N  \n",
    "  \n",
    "1. Fibonacci Series  \n",
    "   current element is sum of previous two elements  \n",
    "     \n",
    "   0 , 1 , 1 , 2, 3, 5 ,8 ,13......  \n",
    "     \n",
    "1. Sorting  \n",
    "   data arragned in asc or desc order  \n",
    "     \n",
    "   10, 4, 5 , 11  \n",
    "   4,5,10,10,11  "
   ]
  },
  {
   "cell_type": "code",
   "execution_count": null,
   "id": "34dea65d",
   "metadata": {},
   "outputs": [],
   "source": [
    "a->97, b->98...\n",
    "A->65\n"
   ]
  },
  {
   "cell_type": "code",
   "execution_count": 4,
   "id": "57d0ed34",
   "metadata": {},
   "outputs": [
    {
     "name": "stdout",
     "output_type": "stream",
     "text": [
      "False\n",
      "True\n"
     ]
    }
   ],
   "source": [
    "print('a' > 'b')\n",
    "print('a' > 'A')"
   ]
  },
  {
   "cell_type": "code",
   "execution_count": 6,
   "id": "c8e7196a",
   "metadata": {},
   "outputs": [
    {
     "name": "stdout",
     "output_type": "stream",
     "text": [
      "['XYZ', 'ace', 'apple', 'ball', 'pqr']\n"
     ]
    }
   ],
   "source": [
    "a = [\"apple\", \"ace\", \"pqr\", \"ball\", \"XYZ\"]\n",
    "a.sort()\n",
    "print(a)"
   ]
  },
  {
   "cell_type": "code",
   "execution_count": null,
   "id": "f6001ce0",
   "metadata": {},
   "outputs": [],
   "source": []
  },
  {
   "cell_type": "code",
   "execution_count": null,
   "id": "9ec188d1",
   "metadata": {},
   "outputs": [],
   "source": []
  },
  {
   "cell_type": "markdown",
   "id": "61532789",
   "metadata": {},
   "source": [
    "# If else\n",
    "1. Different constructs\n",
    "1. Ternary op\n",
    "1. find max of 2 numbers\n",
    "1. find max of 3 numbers\n",
    "1. Built-in min-max"
   ]
  },
  {
   "cell_type": "markdown",
   "id": "dacccc81",
   "metadata": {},
   "source": [
    "WAP to find the maximum of 2 numbers\n",
    "\n",
    "```C++\n",
    "// V1\n",
    "int n1, n2;\n",
    "/// input values of n1, n2\n",
    "\n",
    "if (n1 > n2)\n",
    "    cout << n1;\n",
    "else {\n",
    "    cout << n2;\n",
    "}\n",
    "\n",
    "\n",
    "\n",
    "// V2\n",
    "int n1, n2;\n",
    "/// input values of n1, n2\n",
    "\n",
    "int max = n1;\n",
    "if (n2 > max) {\n",
    "    max = n2;\n",
    "} \n",
    "\n",
    "cout << max;\n",
    "\n",
    "\n",
    "if (n1 > n2) \n",
    "    cout << n1;\n",
    "else {\n",
    "    cout << n2;\n",
    "}\n",
    "\n",
    "\n",
    "\n",
    "```"
   ]
  },
  {
   "cell_type": "markdown",
   "id": "6710e450",
   "metadata": {},
   "source": [
    "if-else if-else\n",
    "\n",
    "\n",
    "WAP to find max 3 numbers\n",
    "\n",
    "```C++\n",
    "\n",
    "int n1, n2, n3;\n",
    "\n",
    "// input values of n1, n2, n3\n",
    "\n",
    "if (n1 >= n2 && n1 >= n3) {\n",
    "    cout << n1;\n",
    "} else if (n2 >= n1 && n2 >= n3) {\n",
    "    cout << n2;\n",
    "} else {\n",
    "    cout << n3;\n",
    "}\n",
    "\n",
    "\n",
    "// V2\n",
    "int max = n1;\n",
    "if (n2 > max) {\n",
    "    max = n2;\n",
    "} \n",
    "if (n3 > max) {\n",
    "    max = n3;\n",
    "} \n",
    "cout << max;\n",
    "\n",
    "\n",
    "if (n1 >= n2) {\n",
    "    if (n1 >= n3)\n",
    "        cout << n1;\n",
    "    else\n",
    "        cout << n3;\n",
    "} else {\n",
    "    if (n2 >= n3)\n",
    "        cout << n2;\n",
    "    else\n",
    "        cout << n3;\n",
    "}\n",
    "\n",
    "```"
   ]
  },
  {
   "cell_type": "code",
   "execution_count": null,
   "id": "b46e6a81",
   "metadata": {},
   "outputs": [],
   "source": []
  },
  {
   "cell_type": "markdown",
   "id": "a3201077",
   "metadata": {},
   "source": [
    "## Loops\n",
    "1. Patterns\n",
    "1. Factorial\n",
    "1. Fibonacci series"
   ]
  },
  {
   "cell_type": "markdown",
   "id": "796c1d1c",
   "metadata": {},
   "source": [
    "for, while, do-while\n",
    "\n",
    "```C++\n",
    "\n",
    "\n",
    "for( init; condition ; update ) {\n",
    "    \n",
    "}\n",
    "\n",
    "\n",
    "#include <iostream>\n",
    "using namespace std;\n",
    "    \n",
    "int main() {\n",
    "    for (int i = 0; i < 10; i++) {\n",
    "        cout << i;\n",
    "    }\n",
    "    return 0;\n",
    "}\n",
    "\n",
    "// i 0 1 2 3 4 5 6 7 8 9 10\n",
    "\n",
    "\n",
    "0123456789\n",
    "\n",
    "```"
   ]
  },
  {
   "cell_type": "markdown",
   "id": "8164347b",
   "metadata": {},
   "source": [
    "```C++\n",
    "\n",
    "for (int i =0 ; i < 5; i++) {\n",
    "    cout << \"*\";\n",
    "}\n",
    "*****\n",
    "\n",
    "for (int i = 1; i <= 5; i++) {\n",
    "    cout << \"*\";\n",
    "}\n",
    "*****\n",
    "\n",
    "for (int i = 1; i <= 5; i++) {\n",
    "    for (int j = 1; j <= 5; j++) {\n",
    "        cout << \"*\";\n",
    "    }\n",
    "}\n",
    "*************************\n",
    "\n",
    "\n",
    "// i 1 1 1 1 1 - 2\n",
    "// j 1 2 3 4 5 6 1 2 3 4 5...\n",
    "\n",
    "for (int i = 1; i <= 5; i++) {\n",
    "    for (int j = 1; j <= 5; j++) {\n",
    "        cout << \"*\";\n",
    "        cout << \"\\n\";\n",
    "    }\n",
    "}\n",
    "\n",
    "\n",
    "for (int i = 1; i <= 5; i++) {\n",
    "    for (int j = 1; j <= 5; j++) {\n",
    "        cout << \"*\";\n",
    "    }\n",
    "    cout << \"\\n\";\n",
    "}\n",
    "*****\n",
    "*****\n",
    "*****\n",
    "*****\n",
    "*****\n",
    "\n",
    "\n",
    "\n",
    "for (int i = 1; i <= 5; i++) {\n",
    "    for (int j = 1; j <= 5; j++) {\n",
    "        cout << j;\n",
    "    }\n",
    "    cout << \"\\n\";\n",
    "}\n",
    "12345\n",
    "12345\n",
    "12345\n",
    "12345\n",
    "12345\n",
    "\n",
    "\n",
    "for (int i = 1; i <= 5; i++) {\n",
    "    for (int j = 1; j <= i; j++) {\n",
    "        cout << j;\n",
    "    }\n",
    "    cout << \"\\n\";\n",
    "}\n",
    "1\n",
    "12\n",
    "123\n",
    "1234\n",
    "12345\n",
    "\n",
    "\n",
    "for (int i = 5; i >= 1; i--) {\n",
    "    for (int j = 1; j <= i; j++) {\n",
    "        cout << j;\n",
    "    }\n",
    "    cout << \"\\n\";\n",
    "}\n",
    "12345\n",
    "1234\n",
    "123\n",
    "12\n",
    "1\n",
    "\n",
    "\n",
    "for (int i = 1; i <= 5; i++) {\n",
    "    for (int j = 5-i; j >= 1; j--) {\n",
    "        cout << \" \";\n",
    "    }\n",
    "    for (int j = 1; j <= i; j++) {\n",
    "        cout << j;\n",
    "    }\n",
    "    cout << \"\\n\";\n",
    "}\n",
    "    1\n",
    "   12\n",
    "  123\n",
    " 1234\n",
    "12345\n",
    "\n",
    "for (int i = 1; i <= 5; i++) {\n",
    "    for (int j = 5-i; j >= 1; j--) {\n",
    "        cout << \" \";\n",
    "    }\n",
    "    for (int j = 1; j <= i*2-1; j++) {\n",
    "        cout << j;\n",
    "    }\n",
    "    cout << \"\\n\";\n",
    "}\n",
    "\n",
    "    1\n",
    "   123\n",
    "  12345\n",
    " 1234567\n",
    "123456789\n",
    "\n",
    "\n",
    "\n",
    "for (int i = 1; i <= 5; i++) {\n",
    "    for (int j = 5-i; j >= 1; j--) {\n",
    "        cout << \" \";\n",
    "    }\n",
    "\n",
    "    for (int j = 1; j <= i; j++) {\n",
    "        cout << j;\n",
    "    }\n",
    "    \n",
    "    for (int j = i-1; j >= 1; j--) {\n",
    "        cout << j;\n",
    "    }\n",
    "    cout << \"\\n\";\n",
    "}\n",
    "\n",
    "    1\n",
    "   121\n",
    "  12321\n",
    " 1234321\n",
    "123454321\n",
    "```"
   ]
  },
  {
   "cell_type": "code",
   "execution_count": null,
   "id": "887351b9",
   "metadata": {},
   "outputs": [],
   "source": []
  },
  {
   "cell_type": "markdown",
   "id": "e7168a55",
   "metadata": {},
   "source": [
    "## Functions"
   ]
  },
  {
   "cell_type": "code",
   "execution_count": null,
   "id": "e260a1b2",
   "metadata": {},
   "outputs": [],
   "source": []
  },
  {
   "cell_type": "markdown",
   "id": "85d89c22",
   "metadata": {},
   "source": [
    "A piece of code: name\n",
    "    \n",
    "```C++\n",
    "void printArray(int arr[], int n) {\n",
    "    for (int i = 0; i < n; i+=1) {\n",
    "        cout << arr[i];\n",
    "    }\n",
    "}\n",
    "\n",
    "int main() {\n",
    "    int arr[] = {1,2,3,4,5};\n",
    "    printArray(arr);\n",
    "    printArray(arr);\n",
    "}\n",
    "```"
   ]
  },
  {
   "cell_type": "markdown",
   "id": "41adb92b",
   "metadata": {},
   "source": [
    "- modular\n",
    "- reuse"
   ]
  },
  {
   "cell_type": "code",
   "execution_count": null,
   "id": "b8eddd9d",
   "metadata": {},
   "outputs": [],
   "source": []
  },
  {
   "cell_type": "markdown",
   "id": "31e168b6",
   "metadata": {},
   "source": [
    "- Are we going to have complete course in C++ or Python ?  \n",
    "  Neither - C++, Python\n",
    "\n",
    "- Will you be teaching time complexity and space complexity  today/tomorrow?  \n",
    "  Next week Saturday\n"
   ]
  },
  {
   "cell_type": "code",
   "execution_count": null,
   "id": "6d9f6e6c",
   "metadata": {},
   "outputs": [],
   "source": []
  },
  {
   "cell_type": "markdown",
   "id": "5ae37f81",
   "metadata": {},
   "source": [
    "\n",
    "https://leetcode.com/problems/fizz-buzz/description/"
   ]
  },
  {
   "cell_type": "code",
   "execution_count": null,
   "id": "8512abfc",
   "metadata": {},
   "outputs": [],
   "source": [
    "class Solution:\n",
    "    def fizzBuzz(self, n: int) -> List[str]:\n",
    "        ans = []\n",
    "\n",
    "        for i in range(1,n+1):\n",
    "            if(i%3 == 0  and i%5 == 0):\n",
    "                ans.append(\"FizzBuzz\")\n",
    "            elif(i%3 == 0):\n",
    "                ans.append(\"Fizz\")\n",
    "            elif(i%5 == 0):\n",
    "                ans.append(\"Buzz\")\n",
    "            else:\n",
    "                ans.append(str(i))\n",
    "        return ans\n"
   ]
  },
  {
   "cell_type": "code",
   "execution_count": null,
   "id": "99827659",
   "metadata": {},
   "outputs": [],
   "source": []
  },
  {
   "cell_type": "markdown",
   "id": "5471b4cf",
   "metadata": {},
   "source": [
    "\n",
    "```java\n",
    "class Solution {\n",
    "    public List<String> fizzBuzz(int n) {\n",
    "        List<String> result = new ArrayList<>();\n",
    "\n",
    "        for (int i=1; i<=n; i++){\n",
    "            String value = String.valueOf(i);\n",
    "            if(i%3 == 0 && i%5 == 0){\n",
    "                value = \"FizzBuzz\";\n",
    "            }else if(i%3 == 0){\n",
    "                value = \"Fizz\";\n",
    "            }else if(i%5 == 0){\n",
    "                value = \"Buzz\";\n",
    "            }\n",
    "\n",
    "            result.add(value);\n",
    "        }\n",
    "\n",
    "        return result;\n",
    "        \n",
    "    }\n",
    "}\n",
    "```"
   ]
  }
 ],
 "metadata": {
  "kernelspec": {
   "display_name": "Python 3 (ipykernel)",
   "language": "python",
   "name": "python3"
  },
  "language_info": {
   "codemirror_mode": {
    "name": "ipython",
    "version": 3
   },
   "file_extension": ".py",
   "mimetype": "text/x-python",
   "name": "python",
   "nbconvert_exporter": "python",
   "pygments_lexer": "ipython3",
   "version": "3.10.6"
  }
 },
 "nbformat": 4,
 "nbformat_minor": 5
}
