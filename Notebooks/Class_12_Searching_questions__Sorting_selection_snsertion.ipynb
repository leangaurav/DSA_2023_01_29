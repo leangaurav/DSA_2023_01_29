{
 "cells": [
  {
   "cell_type": "markdown",
   "id": "cc8be2e3",
   "metadata": {},
   "source": [
    "**Question-1**  \n",
    "https://leetcode.com/problems/binary-search/  \n",
    "\n",
    "**Circular Queue**  \n",
    "https://leetcode.com/problems/design-circular-queue/"
   ]
  },
  {
   "cell_type": "code",
   "execution_count": null,
   "id": "f9ad79cc",
   "metadata": {},
   "outputs": [],
   "source": []
  },
  {
   "cell_type": "markdown",
   "id": "bdb60c8c",
   "metadata": {},
   "source": [
    "**DIY:**  \n",
    "**Question-1**  \n",
    "https://leetcode.com/problems/find-peak-element/\n",
    "\n",
    "**Question-2**  \n",
    "Given sorted rotated array, find point of rotation. Return the index.  \n",
    "4 5 1 2 3\n",
    "Brute Force: iterate from start till end and find where nums[i] < nums[i+1] breaks\n",
    "O(N)  \n"
   ]
  },
  {
   "cell_type": "code",
   "execution_count": null,
   "id": "03d0e128",
   "metadata": {},
   "outputs": [],
   "source": []
  },
  {
   "cell_type": "markdown",
   "id": "2adad52e",
   "metadata": {},
   "source": [
    "**Question-2**  \n",
    "https://leetcode.com/problems/search-in-rotated-sorted-array/"
   ]
  },
  {
   "cell_type": "markdown",
   "id": "988ccf4a",
   "metadata": {},
   "source": [
    "```Java\n",
    "class Solution {\n",
    "    public int search(int[] nums, int target) {\n",
    "        int left = 0;\n",
    "        int right = nums.length-1;\n",
    "        \n",
    "        while(left <= right){\n",
    "            int mid = left + (right-left) /2;\n",
    "            \n",
    "            if(nums[mid] == target) return mid;\n",
    "            \n",
    "            if(nums[left] <= nums[mid]){ //left to right is sorted\n",
    "\n",
    "                // identify if target is present in sorted part or not\n",
    "                if(nums[left] <= target && target < nums[mid])\n",
    "                    right = mid -1;\n",
    "                else\n",
    "                    left = mid +1;\n",
    "\n",
    "            }else{ // mid to right is sorted\n",
    "                if(nums[mid] < target && target <= nums[right])\n",
    "                    left = mid +1;\n",
    "                else\n",
    "                    right = mid -1;\n",
    "            }\n",
    "        }\n",
    "        return -1;\n",
    "    }\n",
    "}\n",
    "\n",
    "arr 1 3 4 6 9\n",
    "x\n",
    "\n",
    "t=0\n",
    "  4,5,6,7,0,1,2\n",
    "  0 1 2 3 4 5 6\n",
    "l 0 4 4\n",
    "r 6 6 4\n",
    "m 3 5 4\n",
    "\n",
    "```"
   ]
  },
  {
   "cell_type": "code",
   "execution_count": null,
   "id": "f97ce46f",
   "metadata": {},
   "outputs": [],
   "source": []
  },
  {
   "cell_type": "markdown",
   "id": "910dbc08",
   "metadata": {},
   "source": [
    "### Insertion sort\n",
    "Insert an element from unsorted section of array at correct position in sorted section.\n",
    "\n",
    "```Python\n",
    "[] empty array\n",
    "[1] array with 1 element\n",
    "\n",
    "5 | 6 1 3 4 7 2 \n",
    "5 6 | 1 3 4 7 2 \n",
    "1 5 6 | 3 4 7 2  temp=1\n",
    "1 3 5 6 | 4 7 2\n",
    "\n",
    "Worst Case\n",
    "5 4 3 2 1\n",
    "1 + 2 + ... n-1 => O(N^2)\n",
    "\n",
    "Best Case\n",
    "1 2 3 4 5\n",
    "1 + 1 + .... (n times) => O(N)\n",
    "```\n"
   ]
  },
  {
   "cell_type": "code",
   "execution_count": 4,
   "id": "1dff787a",
   "metadata": {},
   "outputs": [
    {
     "name": "stdout",
     "output_type": "stream",
     "text": [
      "[1, 2, 3, 4, 5, 6, 7]\n",
      "[1, 2, 3, 4]\n",
      "[1, 2, 3, 4]\n"
     ]
    }
   ],
   "source": [
    "def i_sort(data): # data is array\n",
    "    for i in range(1, len(data)):\n",
    "        temp = data[i]\n",
    "        j = i-1\n",
    "        while (j >= 0 and data[j] > temp):\n",
    "            data[j+1] = data[j]\n",
    "            j -= 1\n",
    "        \n",
    "        data[j+1] = temp\n",
    "\n",
    "data = [5,6,1,3,4,7,2]\n",
    "i_sort(data)\n",
    "print(data)\n",
    "\n",
    "data = [4,3,2,1]\n",
    "i_sort(data)\n",
    "print(data)\n",
    "\n",
    "data = [1,2,3,4]\n",
    "i_sort(data)\n",
    "print(data)\n"
   ]
  },
  {
   "cell_type": "code",
   "execution_count": null,
   "id": "d873d45d",
   "metadata": {},
   "outputs": [],
   "source": []
  },
  {
   "cell_type": "code",
   "execution_count": null,
   "id": "cca319be",
   "metadata": {},
   "outputs": [],
   "source": []
  },
  {
   "cell_type": "markdown",
   "id": "a3a2d078",
   "metadata": {},
   "source": [
    "### Selection sort"
   ]
  },
  {
   "cell_type": "markdown",
   "id": "a05050a7",
   "metadata": {},
   "source": [
    "```Python\n",
    "| 5 6 1 3 4 7 2 # find pos of min element, and swap with the first element in unsorted array\n",
    "1 | 6 5 3 4 7 2\n",
    "1 2 | 5 3 4 7 6\n",
    "1 2 3 | 5 4 7 6\n",
    "1 2 3 4 | 5 7 6\n",
    "1 2 3 4 5 | 7 6\n",
    "1 2 3 4 5 6 | 7\n",
    "\n",
    "TC: O(N^2)\n",
    "\n",
    "1 2 3 4 5 6\n",
    "TC: O(N^2)\n",
    "\n",
    "6 5 4 3 2 1\n",
    "TC: O(N^2)\n",
    "```"
   ]
  },
  {
   "cell_type": "code",
   "execution_count": 7,
   "id": "14bb8f05",
   "metadata": {},
   "outputs": [
    {
     "name": "stdout",
     "output_type": "stream",
     "text": [
      "[1, 2, 3, 4, 5, 6, 7]\n",
      "[1, 2, 3, 4]\n",
      "[1, 2, 3, 4]\n"
     ]
    }
   ],
   "source": [
    "\n",
    "def s_sort(data):\n",
    "    for i in range(len(data)): # (0.. n-1)\n",
    "        min_pos = i\n",
    "       \n",
    "        # find minimum pos\n",
    "        for j in range(i, len(data)):\n",
    "            if data[j] < data[min_pos]:\n",
    "                min_pos = j\n",
    "                \n",
    "        # swap\n",
    "        t = data[min_pos]\n",
    "        data[min_pos] = data[i]\n",
    "        data[i] = t\n",
    "        \n",
    "data = [5,6,1,3,4,7,2]\n",
    "s_sort(data)\n",
    "print(data)\n",
    "\n",
    "data = [4,3,2,1]\n",
    "s_sort(data)\n",
    "print(data)\n",
    "\n",
    "data = [1,2,3,4]\n",
    "s_sort(data)\n",
    "print(data)\n",
    "            "
   ]
  },
  {
   "cell_type": "code",
   "execution_count": null,
   "id": "16202d92",
   "metadata": {},
   "outputs": [],
   "source": []
  },
  {
   "cell_type": "markdown",
   "id": "606e149a",
   "metadata": {},
   "source": [
    "**Question-3**  \n",
    "https://leetcode.com/problems/max-consecutive-ones-ii/ : https://www.lintcode.com/problem/883/"
   ]
  },
  {
   "cell_type": "code",
   "execution_count": null,
   "id": "0a406565",
   "metadata": {},
   "outputs": [],
   "source": [
    "```Python\n",
    "\n",
    "def find_max_consecutive_ones(self, nums: List[int]) -> int:\n",
    "    # write your code here\n",
    "    left = -1\n",
    "    ones = 0\n",
    "    longest = 0\n",
    "    for num in nums:\n",
    "        if num == 1:\n",
    "            ones = ones + 1\n",
    "        else:\n",
    "            longest = max(longest,left+ones + 1)\n",
    "            left,ones = ones,0\n",
    "    return longest\n",
    "```\n",
    "1 1 0 1 1 1 0 0 1\n",
    "0 1 2 3 4 5 6 7 8\n",
    "\n",
    "l       -1     2       3 0\n",
    "o        0 1 2 0 1 2 3 0 0 1\n",
    "longest  0   2 2       6 6\n"
   ]
  },
  {
   "cell_type": "markdown",
   "id": "f2dfd9c6",
   "metadata": {},
   "source": [
    "**Question-4**  \n",
    "https://leetcode.com/problems/max-consecutive-ones-iii/"
   ]
  },
  {
   "cell_type": "markdown",
   "id": "239d33bf",
   "metadata": {},
   "source": [
    "```Java\n",
    "k = 2\n",
    "[1,1,1,0,0,0,1,1,1,1,0]\n",
    " 0 1 2 3 4 5 6 7 8 9 10\n",
    "s=0           4 4 4 4 4 \n",
    "e=0 1 2 3 4 5 5 6 7 8 9\n",
    "z=0     1 2 3 2 2 2 2 2\n",
    "m=1 2 3 4 5   5       6\n",
    "\n",
    " class Solution {\n",
    "    public int longestOnes(int[] nums, int k) {\n",
    "        int start=0;\n",
    "  \n",
    "    int zeroCount=0;\n",
    "    int maxConsecutiveOne=0;\n",
    "    for(int end =0;end<nums.length;end++) {\n",
    "        if(nums[end]==0){\n",
    "            zeroCount++;\n",
    "        }\n",
    "\n",
    "        // Fix the start pointer once we have more than k zeros in the current sliding window.\n",
    "        while(zeroCount>k){\n",
    "            if(nums[start]==0){\n",
    "                zeroCount--;\n",
    "            }\n",
    "            start++;\n",
    "        }\n",
    "        \n",
    "        maxConsecutiveOne=Integer.max(maxConsecutiveOne,end-start+1);\n",
    "    }\n",
    "    \n",
    "    return maxConsecutiveOne;\n",
    "    }\n",
    "}\n",
    "TC: O(N)\n",
    "SC: O(1)\n",
    "```"
   ]
  },
  {
   "cell_type": "code",
   "execution_count": null,
   "id": "132a0a06",
   "metadata": {},
   "outputs": [],
   "source": [
    "public int longestOnes(int[] A, int K) {     \n",
    "       int i = 0, j;        \n",
    "       for (j = 0; j < A.length; ++j) {  \n",
    "            if (A[j] == 0) K--;          \n",
    "            if (K < 0 && A[i++] == 0) K++;     \n",
    "       }      \n",
    "      return j - i;\n",
    "}\n",
    "\n",
    "[1,1,1,0,0,0,1,1,1,1,0]\n",
    "       - - -         -\n",
    "\n",
    "j 0\n",
    "i 0\n",
    "k 2 \n"
   ]
  },
  {
   "cell_type": "code",
   "execution_count": null,
   "id": "b53b2ece",
   "metadata": {},
   "outputs": [],
   "source": [
    "        i = 0\n",
    "        for j in range(len(nums)):\n",
    "            if nums[j]==0:\n",
    "                k -= 1\n",
    "            if k<0:\n",
    "                if  nums[i]==0:\n",
    "                    k += 1\n",
    "                i += 1\n",
    "        return j-i+1\n"
   ]
  }
 ],
 "metadata": {
  "kernelspec": {
   "display_name": "Python 3",
   "language": "python",
   "name": "python3"
  },
  "language_info": {
   "codemirror_mode": {
    "name": "ipython",
    "version": 3
   },
   "file_extension": ".py",
   "mimetype": "text/x-python",
   "name": "python",
   "nbconvert_exporter": "python",
   "pygments_lexer": "ipython3",
   "version": "3.8.8"
  }
 },
 "nbformat": 4,
 "nbformat_minor": 5
}
