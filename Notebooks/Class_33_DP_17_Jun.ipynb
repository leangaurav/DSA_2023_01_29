{
 "cells": [
  {
   "cell_type": "code",
   "execution_count": null,
   "id": "3a1375f8",
   "metadata": {},
   "outputs": [],
   "source": [
    "# LCS: Longest common sub sequence\n",
    "# LIS: Longest increasing sub sequence"
   ]
  },
  {
   "cell_type": "code",
   "execution_count": null,
   "id": "7f15281e",
   "metadata": {},
   "outputs": [],
   "source": [
    "a = 1,3,5,2,9\n",
    "\n",
    "s = 1,9,5\n",
    "\n",
    "s = 1,5,9\n",
    "\n",
    "\"abcd\"\n",
    "\"acd\"\n",
    "\n",
    "SubStr: Continuous\n",
    "Sub Sequence:\n",
    "Subset:"
   ]
  },
  {
   "cell_type": "markdown",
   "id": "14d19b81",
   "metadata": {},
   "source": [
    "# Longest common sub sequence\n",
    "https://leetcode.com/problems/longest-common-subsequence/"
   ]
  },
  {
   "cell_type": "markdown",
   "id": "5af8c288",
   "metadata": {},
   "source": [
    "```Java\n",
    "public int rec(String t1, String t2, int i , int , j ){\n",
    "        if(i == t1.length() || j == t2.length()) return 0;\n",
    "\n",
    "        if(t1.charAt(i) == t2.charAt(j)) return 1+rec(t1,t2,i+1,j+1);\n",
    "\n",
    "        return Math.max(rec(t1,t2,i+1,j),rec(t1,t2,i,j+1));\n",
    "    }\n",
    "```"
   ]
  },
  {
   "cell_type": "markdown",
   "id": "587eb758",
   "metadata": {},
   "source": [
    "```Java\n",
    "int lcs(String text1, String text2, int n, int m) {\n",
    "        if (n == text1.length() || m == text2.length()return 0;\n",
    "        \n",
    "        if (text1.charAt(n - 1) == text2.charAt(m - 1))\n",
    "            return 1 + lcs(text1, text2, n - 1, m - 1);\n",
    "        \n",
    "        return Math.max(lcs(text1, text2, n - 1, m), lcs(text1, text2, n, m - 1));  \n",
    "     }\n",
    "```"
   ]
  },
  {
   "cell_type": "markdown",
   "id": "18f3bfe6",
   "metadata": {},
   "source": [
    "```C++\n",
    "class Solution {\n",
    "public:\n",
    "    int longestCommonSubsequence(string text1, string text2) {\n",
    "        \n",
    "        return longestCommonSubsequenceUtil(text1,text2,text1.size()-1,text2.size()-1);\n",
    "    }\n",
    "    int longestCommonSubsequenceUtil(string text1, string text2,int i,int j)\n",
    "    {\n",
    "        if(i<0||j<0) return 0;\n",
    "\n",
    "        if(text1[i]==text2[j])\n",
    "         return 1+ longestCommonSubsequenceUtil(text1,text2,i-1,j-1);\n",
    "\n",
    "        return max(longestCommonSubsequenceUtil(text1,text2,i-1,j),longestCommonSubsequenceUtil(text1,text2,i,j-1));\n",
    "    }\n",
    "};\n",
    "```\n",
    "\n",
    "TC: O(2^n)"
   ]
  },
  {
   "cell_type": "code",
   "execution_count": null,
   "id": "f521c8b9",
   "metadata": {},
   "outputs": [],
   "source": []
  },
  {
   "cell_type": "markdown",
   "id": "79f242c7",
   "metadata": {},
   "source": [
    "### Memoization\n",
    "```Java\n",
    "int lcsDP(String text1, String text2, int n, int m, int[][] dp) {\n",
    "        \n",
    "    if (n == text1.length() || m == text2.length())\n",
    "        return 0;\n",
    "\n",
    "    if (dp[n][m] != -1)\n",
    "        return dp[n][m];\n",
    "\n",
    "    int lcs = 0;\n",
    "    if (text1.charAt(n - 1) == text2.charAt(m - 1)) {\n",
    "        lcs = 1 + lcsDP(text1, text2, n - 1, m - 1, dp);\n",
    "    } else {\n",
    "        lcs = Math.max(lcsDP(text1, text2, n - 1, m, dp), lcsDP(text1, text2, n, m - 1, dp));\n",
    "    }\n",
    "\n",
    "    return dp[n][m] = lcs;\n",
    "}\n",
    "```\n",
    "\n",
    "```\n",
    "TC: O(n*m)   \n",
    "SC: O(n*m)   \n",
    "```"
   ]
  },
  {
   "cell_type": "markdown",
   "id": "f96df15c",
   "metadata": {},
   "source": [
    "```\n",
    "n   1 2 3 4   5   10     100\n",
    "n   1 2 3 4   5   10     100\n",
    "n^2 1 4 9 16  25  100    10000\n",
    "2^n 2 4 8 16  32  1024   1267650600228229401496703205376\n",
    "```"
   ]
  },
  {
   "cell_type": "markdown",
   "id": "3d9ccbdb",
   "metadata": {},
   "source": [
    "```C++\n",
    "class Solution {\n",
    "public:\n",
    "    int longestCommonSubsequence(string text1, string text2) {\n",
    "        vector<vector<int>> dp(text1.size(),vector<int>(text2.size(),-1));\n",
    "        return longestCommonSubsequenceUtil(text1,text2,text1.size()-1,text2.size()-1,dp);\n",
    "    }\n",
    "    \n",
    "    int longestCommonSubsequenceUtil(string text1, string text2,int i,int j,vector<vector<int>>& dp)\n",
    "    {\n",
    "        if(i<0||j<0) return 0;\n",
    "        \n",
    "        if(dp[i][j]!=-1) return dp[i][j];\n",
    "\n",
    "        if(text1[i]==text2[j])\n",
    "         return dp[i][j] = 1+ longestCommonSubsequenceUtil(text1,text2,i-1,j-1,dp);\n",
    "\n",
    "        return dp[i][j] = max(longestCommonSubsequenceUtil(text1,text2,i-1,j,dp),longestCommonSubsequenceUtil(text1,text2,i,j-1,dp));\n",
    "    }\n",
    "};\n",
    "```"
   ]
  },
  {
   "cell_type": "code",
   "execution_count": null,
   "id": "c985255c",
   "metadata": {},
   "outputs": [],
   "source": []
  },
  {
   "cell_type": "markdown",
   "id": "a848761b",
   "metadata": {},
   "source": [
    "### Tabulation\n",
    "```C++\n",
    "int longestCommonSubsequence(string text1, string text2) {\n",
    "        int m = text1.length();\n",
    "        int n = text2.length();\n",
    "        vector<vector<int>> dp(m+1, vector<int>(n+1));\n",
    "\n",
    "        for(int i=0;i<=n;i++){\n",
    "            dp[0][i]=0;\n",
    "        }\n",
    "        for(int i=0;i<=m;i++){\n",
    "            dp[i][0]=0;\n",
    "        }\n",
    "\n",
    "        for (int i=1; i<=m; i++) {\n",
    "            for (int j=1; j<=n; j++) {\n",
    "                if (text1[i-1] == text2[j-1]) {\n",
    "                    dp[i][j] = 1 + dp[i-1][j-1];\n",
    "                }\n",
    "                else {\n",
    "                    dp[i][j] = max(dp[i][j-1], dp[i-1][j]);\n",
    "                }\n",
    "            }\n",
    "        }\n",
    "\n",
    "        return dp[m][n];\n",
    "    }\n",
    "```\n",
    "\n",
    "```\n",
    "TC: O(m*n)\n",
    "SC: O(m*n)\n",
    "```"
   ]
  },
  {
   "cell_type": "markdown",
   "id": "2edbcbd4",
   "metadata": {},
   "source": [
    "```C++\n",
    "class Solution {\n",
    "public:\n",
    "    int longestCommonSubsequence(string text1, string text2) {\n",
    "        vector<vector<int>> dp(text1.size()+1,vector<int>(text2.size()+1,0));\n",
    "\n",
    "        for(int i=1;i<=text1.size();i++)\n",
    "        {\n",
    "            for(int j=1;j<=text2.size();j++) \n",
    "            {\n",
    "                if(text1[i-1]==text2[j-1])\n",
    "                    dp[i][j] = 1+ dp[i-1][j-1];\n",
    "                else\n",
    "                    dp[i][j] = max(dp[i-1][j],dp[i][j-1]);\n",
    "            }\n",
    "        }\n",
    "\n",
    "\n",
    "        return dp[text1.size()][text2.size()];\n",
    "    }\n",
    "};\n",
    "```"
   ]
  },
  {
   "cell_type": "code",
   "execution_count": null,
   "id": "71701310",
   "metadata": {},
   "outputs": [],
   "source": []
  },
  {
   "cell_type": "code",
   "execution_count": 5,
   "id": "e12b5758",
   "metadata": {},
   "outputs": [
    {
     "data": {
      "text/plain": [
       "1267650600228229401496703205376"
      ]
     },
     "execution_count": 5,
     "metadata": {},
     "output_type": "execute_result"
    }
   ],
   "source": [
    "2**100"
   ]
  },
  {
   "cell_type": "code",
   "execution_count": null,
   "id": "25ab482a",
   "metadata": {},
   "outputs": [],
   "source": []
  },
  {
   "cell_type": "code",
   "execution_count": null,
   "id": "7e560827",
   "metadata": {},
   "outputs": [],
   "source": []
  },
  {
   "cell_type": "markdown",
   "id": "2e3a4d3f",
   "metadata": {},
   "source": [
    "# LIS: Longest increasing sub sequence\n",
    "https://leetcode.com/problems/longest-increasing-subsequence/"
   ]
  },
  {
   "cell_type": "markdown",
   "id": "4350ebf4",
   "metadata": {},
   "source": [
    "## Brute Force\n",
    "```C++\n",
    "class Solution {\n",
    "public:\n",
    "    int lengthOfLIS(vector<int>& nums) {\n",
    "        \n",
    "        return lengthOfLISUtil(nums,0,-1);\n",
    "    }\n",
    "\n",
    "    int lengthOfLISUtil(vector<int>&nums,int curr,int pre)\n",
    "    {\n",
    "         if(curr>=nums.size()) return 0;\n",
    "        int in=0;\n",
    "        \n",
    "        if dp[pre+1][curr+1] is set:\n",
    "            return \n",
    "        if(pre==-1|| nums[curr]>nums[pre])\n",
    "        {\n",
    "            in=1+lengthOfLISUtil(nums,curr+1,curr);\n",
    "        }\n",
    "        int ex=lengthOfLISUtil(nums,curr+1,pre);\n",
    "        return dp[pre+1][curr+1] = max(in,ex);\n",
    "    }\n",
    "};\n",
    "```\n",
    "```\n",
    "TC: O(2^n)\n",
    "SC: O(N)\n",
    "```"
   ]
  },
  {
   "cell_type": "code",
   "execution_count": null,
   "id": "db9f6d5c",
   "metadata": {},
   "outputs": [],
   "source": []
  },
  {
   "cell_type": "markdown",
   "id": "f4f41c40",
   "metadata": {},
   "source": [
    "## Memoization\n",
    "```Java\n",
    "class Solution {\n",
    "     public int lengthOfLIS(int[] a) {\n",
    "        int n = a.length;\n",
    "        int[][] dp=new int[n][n+1];\n",
    "        for(int[] row: dp) Arrays.fill(row,-1);\n",
    "        return help(0,-1,a,dp);\n",
    "    }\n",
    "    \n",
    "    public static int help(int i, int prev, int[] a,int[][] dp){\n",
    "        if(i == a.length) return 0;\n",
    "        \n",
    "        if(dp[i][prev+1] != -1) return dp[i][prev+1];\n",
    "        \n",
    "        int notTake = help(i+1,prev,a,dp);\n",
    "        int take = -1;\n",
    "        if(prev == -1 || a[i] > a[prev]){\n",
    "            take = 1 + help(i+1,i,a,dp);\n",
    "        }\n",
    "        return dp[i][prev+1] = Math.max(take,notTake);\n",
    "    }\n",
    "}\n",
    "```\n",
    "\n",
    "```C++\n",
    "class Solution {\n",
    "public:\n",
    "    int lengthOfLIS(vector<int>& nums) {\n",
    "        vector<vector<int>> dp(nums.size()+1,vector<int>(nums.size()+1,-1));\n",
    "        return lengthOfLISUtil(nums,0,-1,dp);\n",
    "    }\n",
    "\n",
    "    int lengthOfLISUtil(vector<int>&nums,int curr,int pre,vector<vector<int>> &dp)\n",
    "    {\n",
    "        if(curr>=nums.size()) return 0;\n",
    "        int in=0;\n",
    "\n",
    "        if(  dp[curr][pre+1]!=-1) return   dp[curr][pre+1];\n",
    "\n",
    "        if(pre==-1|| nums[curr]>nums[pre])\n",
    "        {\n",
    "            in=1+lengthOfLISUtil(nums,curr+1,curr,dp);\n",
    "        }\n",
    "\n",
    "        int ex=lengthOfLISUtil(nums,curr+1,pre,dp);\n",
    "\n",
    "        dp[curr][pre+1] = max(in,ex);\n",
    "\n",
    "        return max(in,ex);\n",
    "    }\n",
    "};\n",
    "```\n",
    "\n",
    "```\n",
    "TC: O(n^2)\n",
    "SC: O(n^2)\n",
    "```"
   ]
  },
  {
   "cell_type": "markdown",
   "id": "bb0d3aec",
   "metadata": {},
   "source": [
    "```\n",
    "data          10,9,2,5,3,7,101,18, 6\n",
    "LIS till Now   1 1 1 2 2 3  4   4  3  -> max -> 4\n",
    "\n",
    "```\n",
    "\n",
    "```\n",
    "tc: O(n^2)\n",
    "sc: O(n)\n",
    "```\n",
    "\n"
   ]
  },
  {
   "cell_type": "markdown",
   "id": "5791f531",
   "metadata": {},
   "source": [
    "https://www.geeksforgeeks.org/dynamic-programming-building-bridges/"
   ]
  }
 ],
 "metadata": {
  "kernelspec": {
   "display_name": "Python 3 (ipykernel)",
   "language": "python",
   "name": "python3"
  },
  "language_info": {
   "codemirror_mode": {
    "name": "ipython",
    "version": 3
   },
   "file_extension": ".py",
   "mimetype": "text/x-python",
   "name": "python",
   "nbconvert_exporter": "python",
   "pygments_lexer": "ipython3",
   "version": "3.10.9"
  }
 },
 "nbformat": 4,
 "nbformat_minor": 5
}
