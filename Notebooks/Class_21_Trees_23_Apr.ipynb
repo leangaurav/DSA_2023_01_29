{
 "cells": [
  {
   "cell_type": "markdown",
   "id": "2cd06fc0",
   "metadata": {},
   "source": [
    "# Binary Tree"
   ]
  },
  {
   "cell_type": "code",
   "execution_count": null,
   "id": "ddbe79ff",
   "metadata": {},
   "outputs": [],
   "source": []
  },
  {
   "cell_type": "markdown",
   "id": "e0fa4965",
   "metadata": {},
   "source": [
    "**Finding max depth of binary tree using recursion**  \n",
    "https://leetcode.com/problems/maximum-depth-of-binary-tree/"
   ]
  },
  {
   "cell_type": "markdown",
   "id": "6c509f57",
   "metadata": {},
   "source": [
    "Depth First Traversal\n",
    "TC: O(N)\n",
    "SC: Best=O(log N)  Worst=O(N) = O(N) stack space\n",
    "```C++\n",
    "class Solution {\n",
    "public:\n",
    "    int maxDepth(TreeNode* root) {\n",
    "        if (root == NULL) return 0;\n",
    "\n",
    "        auto leftHeight = maxDepth(root->left);\n",
    "        auto rightHeight = maxDepth(root->right);\n",
    "\n",
    "        return 1 + (leftHeight>rightHeight ? leftHeight : rightHeight)   \n",
    "    }\n",
    "};\n",
    "\n",
    "```\n",
    "\n"
   ]
  },
  {
   "cell_type": "markdown",
   "id": "326cb707",
   "metadata": {},
   "source": [
    "Level Order Traversal  \n",
    "TC: O(N)   \n",
    "SC: O(N/2) = O(N) ; because the last level has n/2 nodes  \n",
    "```C++\n",
    "class Solution {\n",
    "public:\n",
    "    int maxDepth(TreeNode* root) {\n",
    "    if (root == NULL) return 0;\n",
    "\n",
    "    std::queue<TreeNode*> q; // Use a Queue\n",
    "    q.push(root);  // Push root node to q\n",
    "    q.push(NULL); \n",
    "    int level=1;\n",
    "    while (!q.empty()) {\n",
    "        TreeNode *n = q.front();\n",
    "        q.pop();\n",
    "        if(q.empty()) break;\n",
    "        if( n==NULL)\n",
    "        {\n",
    "            q.push(NULL);\n",
    "            level=level+1;\n",
    "        }\n",
    "        else\n",
    "        {\n",
    "        if (n->left) q.push(n->left);\n",
    "        if (n->right) q.push(n->right); \n",
    "        } \n",
    "\n",
    "    }\n",
    "    return level;\n",
    "    }\n",
    "};\n",
    "```"
   ]
  },
  {
   "cell_type": "markdown",
   "id": "2533cafb",
   "metadata": {},
   "source": [
    "```C++\n",
    "class Solution {\n",
    "public:\n",
    "    int maxDepth(TreeNode* root) {\n",
    "\n",
    "        if (root == NULL) return 0;\n",
    "        \n",
    "        std::queue<TreeNode*> q;\n",
    "        TreeNode *dummy = new TreeNode();\n",
    "\n",
    "        q.push(root);\n",
    "        q.push(dummy);\n",
    "\n",
    "        int level = 1;\n",
    "        while (!q.empty()) {\n",
    "            TreeNode *n = q.front();\n",
    "            q.pop();\n",
    "\n",
    "            if(q.empty()) break;\n",
    "\n",
    "            if (n == dummy) {\n",
    "                q.push(dummy);\n",
    "                level = level + 1;\n",
    "                continue;\n",
    "            } else {\n",
    "                if (n->left) q.push(n->left);\n",
    "                if (n->right) q.push(n->right);\n",
    "            }\n",
    "        }\n",
    "\n",
    "        return level;\n",
    "    }\n",
    "};\n",
    "```"
   ]
  },
  {
   "cell_type": "markdown",
   "id": "d63f3930",
   "metadata": {},
   "source": [
    "```Python\n",
    "class Solution:\n",
    "    def maxDepth(self, root: Optional[TreeNode]) -> int:\n",
    "        if root is None:\n",
    "            return 0\n",
    "        q = []\n",
    "        q.append(root)\n",
    "        q.append(None)\n",
    "        maxDep = 0\n",
    "\n",
    "        while q:\n",
    "            el = q.pop(0)\n",
    "\n",
    "            if el is None:\n",
    "                maxDep += 1\n",
    "                if len(q) != 0:\n",
    "                    q.append(None)\n",
    "                continue\n",
    "                \n",
    "            if el.left:\n",
    "                q.append(el.left)\n",
    "            if el.right:\n",
    "                q.append(el.right)\n",
    "                \n",
    "        return maxDep\n",
    "```"
   ]
  },
  {
   "cell_type": "markdown",
   "id": "442fe67c",
   "metadata": {},
   "source": [
    "**Level Order traversal without Dummy/Sentinal; using length of the queue**  \n",
    "```javascript\n",
    "var maxDepth = function(root) {\n",
    "\n",
    "    // using BFS\n",
    "\n",
    "    if(!root) {\n",
    "        return 0;\n",
    "    }\n",
    "\n",
    "    const q = [root];\n",
    "    let maxDepth = 0;\n",
    "\n",
    "    while(q.length) {\n",
    "        maxDepth += 1;\n",
    "        const qLength = q.length;\n",
    "        for(let i = 0; i < qLength; i++) {\n",
    "            const tempNode = q.shift();\n",
    "            if(tempNode?.left) {\n",
    "                q.push(tempNode.left);\n",
    "            }\n",
    "\n",
    "            if(tempNode?.right) {\n",
    "                q.push(tempNode.right);\n",
    "            }\n",
    "        }\n",
    "\n",
    "    }\n",
    "    \n",
    "    return maxDepth;\n",
    "};\n",
    "```"
   ]
  },
  {
   "cell_type": "code",
   "execution_count": null,
   "id": "e19a36b3",
   "metadata": {},
   "outputs": [],
   "source": []
  },
  {
   "cell_type": "markdown",
   "id": "ba55e026",
   "metadata": {},
   "source": [
    "**DIY**  \n",
    "https://leetcode.com/problems/minimum-depth-of-binary-tree/"
   ]
  },
  {
   "cell_type": "markdown",
   "id": "0ae0ce76",
   "metadata": {},
   "source": [
    "Java\n",
    "```Java\n",
    "public int minDepth(TreeNode root) {\n",
    "      if(root == null) return 0;\n",
    "        int left = minDepth(root.left);\n",
    "        int right = minDepth(root.right);\n",
    "        return (left == 0 || right == 0) ? left + right + 1: Math.min(left,right) +1;\n",
    "    }\n",
    "```"
   ]
  },
  {
   "cell_type": "markdown",
   "id": "a127cf1b",
   "metadata": {},
   "source": [
    "```\n",
    "public int minDepth(TreeNode root) {\n",
    "        if(root == null) return 0;\n",
    "\n",
    "        if(root.left == null && root.right==null) return 1;\n",
    "\n",
    "        if(root.left == null){\n",
    "            return 1 + minDepth(root.right);\n",
    "        }\n",
    "        if(root.right == null){\n",
    "            return 1 + minDepth(root.left);\n",
    "        }\n",
    "\n",
    "        return 1 + Math.min(minDepth(root.left),minDepth(root.right));\n",
    "        \n",
    "    }\n",
    "```"
   ]
  },
  {
   "cell_type": "code",
   "execution_count": null,
   "id": "22081981",
   "metadata": {},
   "outputs": [],
   "source": []
  },
  {
   "cell_type": "markdown",
   "id": "c66284a4",
   "metadata": {},
   "source": [
    "\n",
    "**DIY**  \n",
    "https://leetcode.com/problems/same-tree/"
   ]
  },
  {
   "cell_type": "code",
   "execution_count": null,
   "id": "d60d6fd2",
   "metadata": {},
   "outputs": [],
   "source": [
    "```c++\n",
    "class Solution {\n",
    "public:\n",
    "    bool isSameTree(TreeNode* p, TreeNode* q) {\n",
    "        bool left=false;\n",
    "        bool right=false;\n",
    "        if(p==NULL&&q==NULL) return true;\n",
    "        if(p==NULL||q==NULL) return false;\n",
    "\n",
    "        if(p->val==q->val){\n",
    "          left = isSameTree(p->left,q->left);\n",
    "          right = isSameTree(p->right,q->right);\n",
    "        }\n",
    "        return left && right;\n",
    "    }\n",
    "};\n",
    "```"
   ]
  },
  {
   "cell_type": "markdown",
   "id": "75cf1abc",
   "metadata": {},
   "source": [
    "```Java\n",
    "public boolean isSameTree(TreeNode p, TreeNode q) {\n",
    "        if(p == null && q != null){\n",
    "            return false;\n",
    "        }\n",
    "        if(q == null && p!= null){\n",
    "            return false;\n",
    "        }\n",
    "        if(p==null && q== null){\n",
    "            return true;\n",
    "        }\n",
    "        if(p == null || q == null || p.val != q.val){\n",
    "            return false;\n",
    "        }\n",
    "        return isSameTree(p.left,q.left) && isSameTree(p.right,q.right);\n",
    "    }\n",
    "```"
   ]
  },
  {
   "cell_type": "markdown",
   "id": "fa4dd4b2",
   "metadata": {},
   "source": [
    "```\n",
    "class Solution {\n",
    "public:\n",
    "    bool isSameTree(TreeNode* p, TreeNode* q) {\n",
    "        if (p == NULL && q == NULL) return true;\n",
    "        if (p == NULL || q == NULL) return false;\n",
    "        return (p->val == q->val) && isSameTree(p->left, q->left) && isSameTree(p->right, q->right);\n",
    "    }\n",
    "};\n",
    "```"
   ]
  },
  {
   "cell_type": "markdown",
   "id": "1c4d0cdf",
   "metadata": {},
   "source": [
    "```\n",
    "public boolean isSameTree(TreeNode p, TreeNode q) {\n",
    "        if (p==null && q== null) \n",
    "         return true;\n",
    "\n",
    "         if(p.val == q.val) {\n",
    "            return  isSameTree(p.left, q.left) && isSameTree(p.right, q.right); \n",
    "         }\n",
    "\n",
    "         return false;\n",
    "    }\n",
    "```"
   ]
  },
  {
   "cell_type": "markdown",
   "id": "002286d3",
   "metadata": {},
   "source": [
    "Python\n",
    "```Python\n",
    "class Solution:\n",
    "    def isSameTree(self, p: Optional[TreeNode], q: Optional[TreeNode]) -> bool:\n",
    "        if p is None and q is None:\n",
    "            return True\n",
    "        if (p is None and q is not None) or (q is None and p is not None):\n",
    "            return False\n",
    "\n",
    "        leftSame = self.isSameTree(p.left, q.left)\n",
    "        rightSame = self.isSameTree(p.right, q.right)\n",
    "\n",
    "        return p.val == q.val and leftSame and rightSame\n",
    "```"
   ]
  },
  {
   "cell_type": "code",
   "execution_count": null,
   "id": "b68dbd87",
   "metadata": {},
   "outputs": [],
   "source": []
  },
  {
   "cell_type": "markdown",
   "id": "984f3849",
   "metadata": {},
   "source": [
    "**Question**  \n",
    "https://leetcode.com/problems/symmetric-tree/\n"
   ]
  },
  {
   "cell_type": "markdown",
   "id": "ce0ac333",
   "metadata": {},
   "source": [
    "```C++\n",
    "class Solution {\n",
    "public:\n",
    "    bool isSymmetric(TreeNode* root) {\n",
    "        return isSymmetricNode(root->left,root->right);\n",
    "    }\n",
    "     bool isSymmetricNode(TreeNode* p,TreeNode* q) {\n",
    "         bool left=false;m\n",
    "        bool right=false;\n",
    "        if(p==NULL&&q==NULL) return true;\n",
    "        if(p==NULL||q==NULL) return false;\n",
    "\n",
    "        if(p->val==q->val){\n",
    "          left = isSymmetricNode(p->left,q->right);\n",
    "          right = isSymmetricNode(p->right,q->left);\n",
    "        }\n",
    "        return left && right;\n",
    "     }\n",
    "};\n",
    "```"
   ]
  },
  {
   "cell_type": "markdown",
   "id": "0f843aca",
   "metadata": {},
   "source": [
    "```Python\n",
    "# Definition for a binary tree node.\n",
    "# class TreeNode:\n",
    "#     def __init__(self, val=0, left=None, right=None):\n",
    "#         self.val = val\n",
    "#         self.left = left\n",
    "#         self.right = right\n",
    "class Solution:\n",
    "    def isSymmetric(self, root: Optional[TreeNode]) -> bool:\n",
    "        return self.isSymHelper(root, root)\n",
    "\n",
    "    def isSymHelper(self, p, q):\n",
    "        if p is None and q is None:\n",
    "            return True\n",
    "        if (p is None and q is not None) or (q is None and p is not None):\n",
    "            return False\n",
    "\n",
    "        if p.val != q.val:\n",
    "            return False\n",
    "        return self.isSymHelper(p.left, q.right) and self.isSymHelper(p.right, q.left)\n",
    "\n",
    "```"
   ]
  },
  {
   "cell_type": "code",
   "execution_count": null,
   "id": "58e6c71d",
   "metadata": {},
   "outputs": [],
   "source": []
  },
  {
   "cell_type": "code",
   "execution_count": null,
   "id": "3a04dd87",
   "metadata": {},
   "outputs": [],
   "source": []
  },
  {
   "cell_type": "markdown",
   "id": "3ff065f1",
   "metadata": {},
   "source": [
    "**Breadth First / Level Order Traversal, BFS = Queue**  \n"
   ]
  },
  {
   "cell_type": "markdown",
   "id": "6600e93c",
   "metadata": {},
   "source": [
    "```C++\n",
    "struct Node {\n",
    "    int data;\n",
    "    Node *left;\n",
    "    Node *right;\n",
    "};\n",
    "\n",
    "Node* newNode(int data, Node* left=NULL, Node* right=NULL) {\n",
    "    Node *temp = new Node;\n",
    "    \n",
    "    temp->data = data;\n",
    "    temp->left = left;\n",
    "    temp->right = right;\n",
    "    \n",
    "    return temp;\n",
    "}\n",
    "\n",
    "void leveOrderTraversal(Node *root) {\n",
    "    if (root == NULL) return;\n",
    "    \n",
    "    std::queue<Node*> q; // Use a Queue\n",
    "    q.push(root);  // Push root node to q\n",
    "    \n",
    "    while (!q.empty()) {\n",
    "        Node *n = q.front();\n",
    "        q.pop();\n",
    "        cout << n->data << \" \";\n",
    "        \n",
    "        if (n->left) q.push(n->left);\n",
    "        if (n->right) q.push(n->right);  \n",
    "    }\n",
    "}\n",
    "\n",
    "int main() {\n",
    "\n",
    "     //     10\n",
    "     //    /  \\\n",
    "     //   20  30\n",
    "     //  / \\\n",
    "     // 40  50\n",
    "    //        \\\n",
    "    //        60\n",
    "    \n",
    "    Node *root = newNode(10, newNode(20, newNode(40), newNode(50, NULL, newNode(60)))   , newNode(30) );\n",
    "    leveOrderTraversal(root);\n",
    "}\n",
    "\n",
    "```"
   ]
  },
  {
   "cell_type": "code",
   "execution_count": null,
   "id": "1e64865c",
   "metadata": {},
   "outputs": [],
   "source": []
  },
  {
   "cell_type": "markdown",
   "id": "9760b1c3",
   "metadata": {},
   "source": [
    "## Operations in a Tree  \n",
    "- Add\n",
    "- Remove \n",
    "- Traverse\n",
    "- Search\n",
    "    "
   ]
  },
  {
   "cell_type": "code",
   "execution_count": null,
   "id": "7db95934",
   "metadata": {},
   "outputs": [],
   "source": []
  },
  {
   "cell_type": "markdown",
   "id": "e318fc10",
   "metadata": {},
   "source": [
    " "
   ]
  },
  {
   "cell_type": "markdown",
   "id": "aed0c32b",
   "metadata": {},
   "source": [
    "**Recursive implementation of DFS**  "
   ]
  },
  {
   "cell_type": "code",
   "execution_count": null,
   "id": "e7a44d3c",
   "metadata": {},
   "outputs": [],
   "source": []
  },
  {
   "cell_type": "code",
   "execution_count": null,
   "id": "a8b563d0",
   "metadata": {},
   "outputs": [],
   "source": []
  },
  {
   "cell_type": "code",
   "execution_count": null,
   "id": "c260aac0",
   "metadata": {},
   "outputs": [],
   "source": []
  }
 ],
 "metadata": {
  "kernelspec": {
   "display_name": "Python 3",
   "language": "python",
   "name": "python3"
  },
  "language_info": {
   "codemirror_mode": {
    "name": "ipython",
    "version": 3
   },
   "file_extension": ".py",
   "mimetype": "text/x-python",
   "name": "python",
   "nbconvert_exporter": "python",
   "pygments_lexer": "ipython3",
   "version": "3.8.8"
  }
 },
 "nbformat": 4,
 "nbformat_minor": 5
}
